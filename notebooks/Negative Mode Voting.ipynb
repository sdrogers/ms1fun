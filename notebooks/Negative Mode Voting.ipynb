{
 "cells": [
  {
   "cell_type": "markdown",
   "metadata": {},
   "source": [
    "Testing the voting scheme on a -ve mode file"
   ]
  },
  {
   "cell_type": "code",
   "execution_count": 36,
   "metadata": {
    "collapsed": false
   },
   "outputs": [
    {
     "name": "stdout",
     "output_type": "stream",
     "text": [
      "The autoreload extension is already loaded. To reload it, use:\n",
      "  %reload_ext autoreload\n"
     ]
    }
   ],
   "source": [
    "%load_ext autoreload\n",
    "%autoreload 2\n",
    "import os\n",
    "import sys\n",
    "import numpy as np\n",
    "from scipy import stats\n",
    "\n",
    "base_dir = '/Users/simon/git/ms1fun/'\n",
    "sys.path.append(base_dir + 'code')\n",
    "sys.path.append(base_dir + 'dbs')\n",
    "\n",
    "from corr_cluster import Peak,BetaLike,CorrCluster\n",
    "from formula import Formula\n",
    "import pylab as plt\n",
    "%matplotlib inline"
   ]
  },
  {
   "cell_type": "code",
   "execution_count": 37,
   "metadata": {
    "collapsed": true
   },
   "outputs": [],
   "source": [
    "files = []\n",
    "\n",
    "prefix = '/Users/simon/Downloads/Beer3_mzXML_mzML_files/PositiveMode/Beer3Full/csv/'\n",
    "filename = 'Beer_3_Full1'\n",
    "files.append((prefix,filename,False))"
   ]
  },
  {
   "cell_type": "code",
   "execution_count": 38,
   "metadata": {
    "collapsed": false
   },
   "outputs": [
    {
     "name": "stdout",
     "output_type": "stream",
     "text": [
      "Loaded 72 transformations\n"
     ]
    }
   ],
   "source": [
    "import transformation\n",
    "transformations = transformation.load_from_file(base_dir + 'dbs/neg_transformations.yml')\n",
    "print \"Loaded \" + str(len(transformations)) + \" transformations\""
   ]
  },
  {
   "cell_type": "code",
   "execution_count": 39,
   "metadata": {
    "collapsed": false
   },
   "outputs": [
    {
     "name": "stdout",
     "output_type": "stream",
     "text": [
      "Running file Beer_3_Full1\n",
      "1421.38000488\n",
      "Loaded 7863 peaks\n",
      "Reading shape correlations from /Users/simon/Downloads/Beer3_mzXML_mzML_files/PositiveMode/Beer3Full/csv/Beer_3_Full1.corr.mat\n",
      "Greedy clustering done, resulting in 1116 clusters\n"
     ]
    }
   ],
   "source": [
    "bl = BetaLike()\n",
    "clusterings = {}\n",
    "for f in files:\n",
    "\n",
    "    filename = f[1]\n",
    "    prefix = f[0]\n",
    "    print \"Running file \" + filename\n",
    "    csvfile = prefix + filename + '.csv'\n",
    "    matfile = prefix + filename + '.corr.mat'\n",
    "    signalfile = prefix + filename + '.peakml.signal'\n",
    "    # Simon is an idiot...remember to change 'correct = True' or 'correct = False' \n",
    "    # coc = CorrCluster(bl,csvfile,matfile,signal_file=signalfile,greedy_thresh=0.7,correct=True)\n",
    "    coc = CorrCluster(bl,csvfile,matfile,signal_file=signalfile,greedy_thresh=0.7,correct=f[2])\n",
    "    clusterings[filename] = coc"
   ]
  },
  {
   "cell_type": "code",
   "execution_count": 40,
   "metadata": {
    "collapsed": false
   },
   "outputs": [
    {
     "name": "stdout",
     "output_type": "stream",
     "text": [
      "Performing voting on file Beer_3_Full1\n"
     ]
    }
   ],
   "source": [
    "from voter import Voter,PeakGroup\n",
    "groups = {}\n",
    "for f in files:\n",
    "    v = Voter(transformations)\n",
    "    filename = f[1]\n",
    "    print \"Performing voting on file {}\".format(filename)\n",
    "    file_groups = []\n",
    "    for cluster in clusterings[filename].clusters:\n",
    "        file_groups += v.make_groups(cluster.members)\n",
    "    groups[filename] = file_groups"
   ]
  },
  {
   "cell_type": "code",
   "execution_count": 41,
   "metadata": {
    "collapsed": true
   },
   "outputs": [],
   "source": [
    "PROTON = 1.00727645199076\n",
    "\n",
    "\n",
    "class Mol(object):\n",
    "    def __init__(self,name,formula,mass,rt):\n",
    "        self.name = name.strip()\n",
    "        self.formula = formula.strip()\n",
    "        self.mass = mass\n",
    "        self.rt = rt\n",
    "    def __str__(self):\n",
    "        return \"{} ({},{})\".format(self.name,self.mass,self.rt)\n",
    "    def __repr__(self):\n",
    "        return \"{} ({},{})\".format(self.name,self.mass,self.rt)"
   ]
  },
  {
   "cell_type": "code",
   "execution_count": 42,
   "metadata": {
    "collapsed": false
   },
   "outputs": [
    {
     "name": "stdout",
     "output_type": "stream",
     "text": [
      "1_3-Diaminopropane (74.0843983319,738.6)\n",
      "Glycine (75.0320284101,658.8)\n",
      "1-Aminopropan-2-ol (75.0684139166,938.4)\n",
      "Mercaptoethanol (78.0139355049,1307.4)\n",
      "beta-Alanine (89.0476784744,646.2)\n",
      "L-Alanine (89.0476784744,633.6)\n",
      "Glycerol (92.0473441234,480.0)\n",
      "Phenol (94.0418648149,250.8)\n",
      "1-Aminocyclopropane-1-carboxylate (101.047678474,569.4)\n",
      "2-Aminobutan-4-olide (101.047678474,379.8)\n",
      "4-Aminobutanoate (103.063328539,649.2)\n",
      "Choline (103.099714045,915.0)\n",
      "L-2_3-Diaminopropanoate (104.058577512,654.6)\n",
      "L-Serine (105.042593097,657.6)\n",
      "Phenylhydrazine (108.068748268,301.8)\n",
      "cytosine (111.043261799,552.6)\n",
      "Uracil (112.027277383,463.2)\n",
      "Creatinine (113.058911863,496.8)\n",
      "L-Proline (115.063328539,580.8)\n",
      "Selenomethionine (117.078978603,538.8)\n",
      "L-Valine (117.078978603,570.6)\n",
      "Betaine (117.078978603,534.6)\n",
      "L-2_4-Diaminobutanoate (118.074227576,743.4)\n",
      "L-Threonine (119.058243161,619.2)\n",
      "L-homoserine (119.058243161,637.8)\n",
      "L-cysteine (121.019749164,612.6)\n",
      "Nicotinamide (122.048012825,400.8)\n",
      "Nicotinate (123.03202841,412.2)\n",
      "Picolinic acid (123.03202841,453.0)\n",
      "Isonicotinic acid (123.03202841,415.2)\n",
      "Taurine (125.014663787,642.6)\n",
      "Imidazole-4-acetate (126.042927448,532.2)\n",
      "thymine (126.042927448,421.8)\n",
      "5-Oxoproline (129.042593097,491.4)\n",
      "agmatine (130.121846471,694.2)\n",
      "trans-4-Hydroxy-L-proline (131.058243161,622.8)\n",
      "5-Aminolevulinate (131.058243161,578.4)\n",
      "L-Leucine (131.094628667,520.8)\n",
      "L-isoleucine (131.094628667,551.4)\n",
      "L-Asparagine (132.053492134,638.4)\n",
      "Glycylglycine (132.053492134,589.8)\n",
      "L-Ornithine (132.08987764,871.2)\n",
      "L-Aspartate (133.037507719,620.4)\n",
      "Methylcysteine (135.035399229,547.8)\n",
      "L-Homocysteine (135.035399229,655.2)\n",
      "Adenine (135.054495187,492.0)\n",
      "Hypoxanthine (136.038510772,514.2)\n",
      "4-Aminobenzoate (137.047678474,511.2)\n",
      "Ethanolamine phosphate (141.019094263,647.4)\n",
      "4-Trimethylammoniobutanoate (145.110278732,583.2)\n",
      "Acetylcholine (145.110278732,754.2)\n",
      "Spermidine (145.157897626,655.2)\n",
      "L-Glutamine (146.069142198,633.0)\n",
      "Ala-Gly (146.069142198,540.0)\n",
      "L-Lysine (146.105527705,927.6)\n",
      "O-Acetyl-L-serine (147.053157783,586.8)\n",
      "L-Methionine (149.051049293,541.2)\n",
      "6-Methylaminopurine (149.070145251,438.0)\n",
      "Guanine (151.049409809,589.8)\n",
      "2-Phenylglycine (151.063328539,434.4)\n",
      "Dopamine (153.078978603,287.4)\n",
      "4-(beta-Acetylaminoethyl)imidazole (153.090211991,417.0)\n",
      "2-hydroxyethyldisulfide (154.012220946,402.6)\n",
      "L-Histidine (155.069476549,622.8)\n",
      "L-2-Aminoadipate (161.068807847,613.8)\n",
      "L-Carnitine (161.105193354,589.8)\n",
      "L-Phenylalanine (165.078978603,499.8)\n",
      "Thiopurine S-methylether (166.031316904,377.4)\n",
      "Pyridoxal (167.058243161,429.6)\n",
      "Pyridoxine (169.073893225,435.6)\n",
      "L-Noradrenaline (169.073893225,457.8)\n",
      "N(pi)-Methyl-L-histidine (169.085126613,567.0)\n",
      "N-Acetylornithine (174.100442327,634.8)\n",
      "L-Arginine (174.111675715,996.0)\n",
      "L-Citrulline (175.0956913,656.4)\n",
      "Serotonin (176.094963018,259.2)\n",
      "D-Glucosamine (179.079372534,642.6)\n",
      "L-Tyrosine (181.073893225,338.4)\n",
      "Eflornithine (182.08668405,592.2)\n",
      "Choline phosphate (183.066044456,615.0)\n",
      "1-Naphthylacetic acid (186.068079566,249.6)\n",
      "N2-Acetyl-L-lysine (188.116092391,628.2)\n",
      "meso-2_6-Diaminoheptanedioate (190.095356949,704.4)\n",
      "5-Methoxytryptamine (190.110613083,389.4)\n",
      "Spermine (202.215746857,660.6)\n",
      "O-Acetylcarnitine (203.11575804,520.2)\n",
      "L-Tryptophan (204.08987764,555.0)\n",
      "lipoamide (205.059505489,294.0)\n",
      "Dihydrolipoamide (207.075155554,277.8)\n",
      "L-Kynurenine (208.084792262,525.6)\n",
      "Pantothenate (219.110672662,442.8)\n",
      "N-Acetyl-D-glucosamine (221.08993722,550.2)\n",
      "L-Cystathionine (222.067427639,671.4)\n",
      "Melatonin (232.121177769,276.0)\n",
      "HEPES (238.098727767,493.8)\n",
      "L-Cystine (240.023848265,646.2)\n",
      "L-Cystine (240.023848265,647.4)\n",
      "Cytidine (243.085520544,561.6)\n",
      "gamma-L-Glutamyl-L-cysteine (250.062342261,591.6)\n",
      "Deoxyadenosine (251.10183931,444.0)\n",
      "sn-glycero-3-Phosphocholine (257.102823893,607.8)\n",
      "D-Glucosamine-6-phosphate (259.045702944,646.8)\n",
      "Thiamin (264.104481847,971.4)\n",
      "Adenosine (267.096753932,473.4)\n",
      "Inosine (268.080769517,528.0)\n",
      "Guanosine (283.091668555,579.6)\n",
      "5'-Methylthioadenosine (297.089560065,389.4)\n",
      "dCMP (307.056936332,599.4)\n",
      "glutathione (307.083805985,592.8)\n",
      "dAMP (331.068169721,543.6)\n",
      "dGMP (347.063084343,622.8)\n",
      "AMP (347.063084343,570.6)\n",
      "riboflavin (376.138284396,452.4)\n",
      "S-Adenosyl-L-homocysteine (384.121588475,579.6)\n",
      "Bis-gamma-glutamylcystine (498.109034458,668.4)\n",
      "Glutathione disulfide (612.151961905,655.2)\n",
      "FAD (785.157134463,505.2)\n"
     ]
    }
   ],
   "source": [
    "std_file = base_dir + 'dbs/std1_20130822_130526.csv'\n",
    "std_file = '/Users/simon/Downloads/Beer3_mzXML_mzML_files/Std1_1_20150422_150810_combined.csv'\n",
    "mols = []\n",
    "with open(std_file,'rU') as f:\n",
    "    for i in range(9):\n",
    "        f.readline() # remove heads\n",
    "    for line in f:\n",
    "        split_line = line.split(',')\n",
    "        polarity = split_line[4]\n",
    "        rts = split_line[9] # observed, not predicted\n",
    "        if rts == '-':\n",
    "            rt = 0.0\n",
    "        else:\n",
    "            rt = float(rts)\n",
    "        if polarity == '+' and rt > 0.0:\n",
    "            name = split_line[2]\n",
    "            formula = split_line[3]\n",
    "            f = Formula(formula)\n",
    "            new_mol = Mol(name,formula,f.compute_exact_mass(),rt*60.0)\n",
    "            mols.append(new_mol)\n",
    "mols = sorted(mols,key = lambda x: x.mass)\n",
    "for mol in mols:\n",
    "    print mol"
   ]
  },
  {
   "cell_type": "code",
   "execution_count": 43,
   "metadata": {
    "collapsed": true
   },
   "outputs": [],
   "source": [
    "def hit(m1,m2,rt1,rt2,mtol=20,rttol=1):\n",
    "    if 1e6*np.abs(m1-m2)/m2 < mtol and np.abs(rt1-rt2)<rttol:\n",
    "        return True\n",
    "    else:\n",
    "        return False\n",
    "    \n",
    "def get_hits(peaks,mols,transformations,mtol=20,rttol = 120.0):\n",
    "    hits = {}\n",
    "    for mol in mols:\n",
    "        for peak in peaks:\n",
    "            for t in transformations:\n",
    "                if hit(t.transform(peak),mol.mass,peak.rt,mol.rt,mtol = mtol,rttol = rttol):\n",
    "                    if mol in hits:\n",
    "                        if np.abs(peak.rt - mol.rt) < np.abs(hits[mol].rt - mol.rt):\n",
    "                            hits[mol] = peak\n",
    "                    else:\n",
    "                        hits[mol] = peak\n",
    "    return hits"
   ]
  },
  {
   "cell_type": "code",
   "execution_count": 44,
   "metadata": {
    "collapsed": true
   },
   "outputs": [],
   "source": [
    "def get_M_hits(groups,mols,use_max_vote = True):\n",
    "    hits = {}\n",
    "    for g in groups:\n",
    "        for mol in mols:\n",
    "            if hit(mol.mass,g.M,mol.rt,g.rt,mtol=10,rttol=10):\n",
    "                if not mol in hits:\n",
    "                    hits[mol] = g\n",
    "                else:\n",
    "                    if use_max_vote:\n",
    "                        if g.vote > hits[mol]:\n",
    "                            hits[mol] = g\n",
    "                    else:\n",
    "                        current = hits[mol]\n",
    "                        if np.abs(g.rt - mol.rt) < np.abs(current.rt - mol.rt):\n",
    "                            hits[mol] = g\n",
    "                \n",
    "    return hits"
   ]
  },
  {
   "cell_type": "code",
   "execution_count": 45,
   "metadata": {
    "collapsed": true
   },
   "outputs": [],
   "source": [
    "all_hits = {}\n",
    "for f in files:\n",
    "    filename = f[1]\n",
    "    all_hits[filename] = get_M_hits(groups[filename],mols,use_max_vote = True)\n",
    "\n",
    "    "
   ]
  },
  {
   "cell_type": "code",
   "execution_count": 60,
   "metadata": {
    "collapsed": false
   },
   "outputs": [],
   "source": [
    "# Sort the groups according to votes (top ones first)\n",
    "for f in files:\n",
    "    filename = f[1]\n",
    "    outpre = filename + '_NEG'\n",
    "\n",
    "    temp_groups = sorted(groups[filename],key = lambda x:x.vote,reverse=True)\n",
    "    outfile = outpre + '_by_vote.txt'\n",
    "    \n",
    "\n",
    "    with open(outfile,'w') as f:\n",
    "        for i,group in enumerate(temp_groups):\n",
    "            line = \"vote: {}, M: {}\\n\".format(group.vote,group.M)\n",
    "            f.write(line)\n",
    "            head_line = '\\tPeak m/z,Peak rt,Peak intensity,transformation (transformed mass,vote)\\n'\n",
    "            f.write(head_line)\n",
    "            for (peak,transformation,transmass) in sorted(group.members,key = lambda x: x[1].vote,reverse=True):\n",
    "                line = \"\\t{:.4f},{:.4f},{:.2e},{} ({:.4f},{})\\n\".format(peak.mass,peak.rt,peak.intensity,transformation,transmass,transformation.vote)\n",
    "                f.write(line)\n",
    "            f.write('\\n')\n",
    "            \n",
    "    temp_groups = sorted(groups[filename],key = lambda x:x.M)\n",
    "    outfile = outpre + '_by_M.txt'\n",
    "    \n",
    "    with open(outfile,'w') as f:\n",
    "        for i,group in enumerate(temp_groups):\n",
    "            line = \"vote: {}, M: {}\\n\".format(group.vote,group.M)\n",
    "            f.write(line)\n",
    "            head_line = '\\tPeak m/z,Peak rt,Peak intensity,transformation (transformed mass,vote)\\n'\n",
    "            f.write(head_line)\n",
    "            for (peak,transformation,transmass) in sorted(group.members,key = lambda x: x[1].vote,reverse=True):\n",
    "                line = \"\\t{:.4f},{:.4f},{:.2e},{} ({:.4f},{})\\n\".format(peak.mass,peak.rt,peak.intensity,transformation,transmass,transformation.vote)\n",
    "                f.write(line)\n",
    "            f.write('\\n')\n",
    "\n",
    "    with open(outpre + '_matched_std.txt','w') as f:\n",
    "        for mol in all_hits[filename]:\n",
    "            group = all_hits[filename][mol]\n",
    "            line = \"{} (vote={})\\n\".format(mol,group.vote)\n",
    "            f.write(line)\n",
    "            head_line = '\\tPeak m/z,Peak rt,Peak intensity,transformation (transformed mass,vote)\\n'\n",
    "            f.write(head_line)\n",
    "            for (peak,transformation,transmass) in sorted(group.members,key = lambda x: x[1].vote,reverse=True):\n",
    "                line = \"\\t{:.4f},{:.4f},{:.2e},{} ({:.4f},{})\\n\".format(peak.mass,peak.rt,peak.intensity,transformation,transmass,transformation.vote)\n",
    "                f.write(line)\n",
    "            f.write('\\n')\n",
    "\n",
    "\n",
    "    include_singletons = False\n",
    "    trans_counts = {}\n",
    "    tot = 0\n",
    "    for tr in transformations:\n",
    "        trans_counts[tr] = 0\n",
    "    for group in groups[filename]:\n",
    "        if not include_singletons:\n",
    "            if len(group.members) == 1:\n",
    "                continue\n",
    "        for p,t,_ in group.members:\n",
    "            trans_counts[t] += 1\n",
    "            tot += 1\n",
    "\n",
    "    with open(outpre + '_tran_counts.txt','w') as f:\n",
    "        for tr in sorted(transformations,key = lambda x: x.vote, reverse=True):\n",
    "            line = \"{},{},{:.4f}\\n\".format(tr,trans_counts[tr],trans_counts[tr]/(1.0*tot))\n",
    "            f.write(line)\n",
    "            \n",
    "    # output the counts of particular adducts / fragments\n",
    "    frag_counts = {}\n",
    "    adduct_counts = {}\n",
    "    adduct_tot = 0\n",
    "    frag_tot = 0\n",
    "    for tr in transformations:\n",
    "        for f in tr.fragments:\n",
    "            if not f in frag_counts:\n",
    "                frag_counts[f] = 0\n",
    "        for a in tr.adducts:\n",
    "            if not a in adduct_counts:\n",
    "                adduct_counts[a] = 0\n",
    "                \n",
    "    for group in groups[filename]:\n",
    "        for p,t,_ in group.members:\n",
    "            for f in t.fragments:\n",
    "                frag_counts[f] += 1\n",
    "                frag_tot += 1\n",
    "            for a in t.adducts:\n",
    "                adduct_counts[a] += 1\n",
    "                adduct_tot += 1\n",
    "                \n",
    "    with open(outpre + '_adduct_counts.txt','w') as f:\n",
    "        for a in adduct_counts:\n",
    "            line = \"{},{},{:.4f}\\n\".format(a,adduct_counts[a],adduct_counts[a]/(1.0*adduct_tot))\n",
    "            f.write(line)\n",
    "    \n",
    "    with open(outpre + '_fragment_counts.txt','w') as f:\n",
    "        for fr in frag_counts:\n",
    "            line = \"{},{},{:.4f}\\n\".format(fr,frag_counts[fr],frag_counts[fr]/(1.0*frag_tot))\n",
    "            f.write(line)\n",
    "\n",
    "            "
   ]
  },
  {
   "cell_type": "markdown",
   "metadata": {},
   "source": [
    "Find the counts of particular fragments"
   ]
  },
  {
   "cell_type": "code",
   "execution_count": 56,
   "metadata": {
    "collapsed": false
   },
   "outputs": [],
   "source": [
    "frag_counts = {}\n",
    "adduct_counts = {}\n",
    "tot = 0\n",
    "for tr in transformations:\n",
    "    if len(tr.fragments)>0:\n",
    "        if not tr.fragments[0] in frag_counts:\n",
    "            frag_counts[tr.fragments[0]] = 0\n",
    "    for a in tr.adducts:\n",
    "        if not a in adduct_counts:\n",
    "            adduct_counts[a] = 0\n",
    "\n",
    "filename = files[0][1]\n",
    "for group in groups[filename]:\n",
    "    for p,t,_ in group.members:\n",
    "        if len(t.fragments)>0:\n",
    "            frag_counts[t.fragments[0]] += 1\n",
    "        for a in t.adducts:\n",
    "            adduct_counts[a] += 1"
   ]
  },
  {
   "cell_type": "code",
   "execution_count": 57,
   "metadata": {
    "collapsed": false
   },
   "outputs": [
    {
     "name": "stdout",
     "output_type": "stream",
     "text": [
      "{'H2O': 471, 'CO2': 306, 'CO': 325} {'CH2O2': 359, '-H': 7923, 'NH3': 353, 'ACN': 295}\n"
     ]
    }
   ],
   "source": [
    "print frag_counts,adduct_counts\n"
   ]
  },
  {
   "cell_type": "code",
   "execution_count": null,
   "metadata": {
    "collapsed": true
   },
   "outputs": [],
   "source": []
  }
 ],
 "metadata": {
  "kernelspec": {
   "display_name": "Python 2",
   "language": "python",
   "name": "python2"
  },
  "language_info": {
   "codemirror_mode": {
    "name": "ipython",
    "version": 2
   },
   "file_extension": ".py",
   "mimetype": "text/x-python",
   "name": "python",
   "nbconvert_exporter": "python",
   "pygments_lexer": "ipython2",
   "version": "2.7.11"
  }
 },
 "nbformat": 4,
 "nbformat_minor": 0
}
