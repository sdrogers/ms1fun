{
 "cells": [
  {
   "cell_type": "markdown",
   "metadata": {},
   "source": [
    "Reverse positive mode\n",
    "====\n",
    "Starting from (M,RT) pairs, can we see which transformations are there"
   ]
  },
  {
   "cell_type": "code",
   "execution_count": 23,
   "metadata": {
    "collapsed": false
   },
   "outputs": [
    {
     "name": "stdout",
     "output_type": "stream",
     "text": [
      "The autoreload extension is already loaded. To reload it, use:\n",
      "  %reload_ext autoreload\n"
     ]
    }
   ],
   "source": [
    "%load_ext autoreload\n",
    "%autoreload 2\n",
    "import os\n",
    "import sys\n",
    "import numpy as np\n",
    "from scipy import stats\n",
    "\n",
    "base_dir = '/Users/simon/git/ms1fun/'\n",
    "sys.path.append(base_dir + 'code')\n",
    "sys.path.append(base_dir + 'dbs')\n",
    "\n",
    "from corr_cluster import Peak,BetaLike,CorrCluster\n",
    "from formula import Formula\n",
    "import pylab as plt\n",
    "%matplotlib inline"
   ]
  },
  {
   "cell_type": "code",
   "execution_count": 24,
   "metadata": {
    "collapsed": true
   },
   "outputs": [],
   "source": [
    "files = []\n",
    "prefix = '/Users/simon/Dropbox/BioResearch/Meta_clustering/ms1fundata/Standard_files_Beer_Urine_April2015/Positive_Filtered/csv/'\n",
    "filename = 'STD_MIX1_60stepped_1E5_Top5'\n",
    "files.append((prefix,filename,False))\n",
    "filename = 'STD_MIX2_60stepped_1E5_Top5'\n",
    "files.append((prefix,filename,False))\n",
    "filename = 'STD_MIX3_60stepped_1E5_Top5'\n",
    "files.append((prefix,filename,False))\n",
    "\n",
    "\n"
   ]
  },
  {
   "cell_type": "code",
   "execution_count": 25,
   "metadata": {
    "collapsed": false
   },
   "outputs": [
    {
     "name": "stdout",
     "output_type": "stream",
     "text": [
      "Charge Probabilities\n",
      "+K: 0.200\n",
      "+2H: 0.200\n",
      "+H: 0.400\n",
      "+Na: 0.200\n",
      "\n",
      "Adduct Probabilities\n",
      "-CO: 0.091\n",
      "+CH2O2: 0.091\n",
      "none: 0.182\n",
      "+ACN: 0.091\n",
      "-C2H2: 0.091\n",
      "-CH2O2: 0.091\n",
      "+CH3OH: 0.091\n",
      "-NH3: 0.091\n",
      "-H2O: 0.091\n",
      "+NH3: 0.091\n",
      "\n",
      "Isotope Probabilities\n",
      "C13: 0.333\n",
      "mono: 0.417\n",
      "2C13: 0.250\n",
      "\n",
      "Multiplicity Probabilities\n",
      "1: 0.833\n",
      "2: 0.167\n",
      "\n",
      "Loaded 150 transformations\n",
      "\n",
      "Transformation,prob\n",
      "M+H,0.025\n",
      "M+H[C13],0.020\n",
      "M+H[2C13],0.015\n",
      "M+K,0.013\n",
      "M+2H,0.013\n",
      "[M-CO]+H,0.013\n",
      "[M+CH2O2]+H,0.013\n",
      "[M+ACN]+H,0.013\n",
      "[M-C2H2]+H,0.013\n",
      "[M-CH2O2]+H,0.013\n",
      "[M+CH3OH]+H,0.013\n",
      "[M-NH3]+H,0.013\n",
      "[M-H2O]+H,0.013\n",
      "[M+NH3]+H,0.013\n",
      "M+Na,0.013\n",
      "M+K[C13],0.010\n",
      "M+2H[C13],0.010\n",
      "[M-CO]+H[C13],0.010\n",
      "[M+CH2O2]+H[C13],0.010\n",
      "[M+ACN]+H[C13],0.010\n",
      "[M-C2H2]+H[C13],0.010\n",
      "[M-CH2O2]+H[C13],0.010\n",
      "[M+CH3OH]+H[C13],0.010\n",
      "[M-NH3]+H[C13],0.010\n",
      "[M-H2O]+H[C13],0.010\n",
      "[M+NH3]+H[C13],0.010\n",
      "M+Na[C13],0.010\n",
      "M+K[2C13],0.008\n",
      "M+2H[2C13],0.008\n",
      "[M-CO]+H[2C13],0.008\n",
      "[M+CH2O2]+H[2C13],0.008\n",
      "[M+ACN]+H[2C13],0.008\n",
      "[M-C2H2]+H[2C13],0.008\n",
      "[M-CH2O2]+H[2C13],0.008\n",
      "[M+CH3OH]+H[2C13],0.008\n",
      "[M-NH3]+H[2C13],0.008\n",
      "[M-H2O]+H[2C13],0.008\n",
      "[M+NH3]+H[2C13],0.008\n",
      "M+Na[2C13],0.008\n",
      "[M-CO]+K,0.006\n",
      "[M+CH2O2]+K,0.006\n",
      "[M+ACN]+K,0.006\n",
      "[M-C2H2]+K,0.006\n",
      "[M-CH2O2]+K,0.006\n",
      "[M+CH3OH]+K,0.006\n",
      "[M-NH3]+K,0.006\n",
      "[M-H2O]+K,0.006\n",
      "[M+NH3]+K,0.006\n",
      "[M-CO]+2H,0.006\n",
      "[M+CH2O2]+2H,0.006\n",
      "[M+ACN]+2H,0.006\n",
      "[M-C2H2]+2H,0.006\n",
      "[M-CH2O2]+2H,0.006\n",
      "[M+CH3OH]+2H,0.006\n",
      "[M-NH3]+2H,0.006\n",
      "[M-H2O]+2H,0.006\n",
      "[M+NH3]+2H,0.006\n",
      "[M-CO]+Na,0.006\n",
      "[M+CH2O2]+Na,0.006\n",
      "[M+ACN]+Na,0.006\n",
      "[M-C2H2]+Na,0.006\n",
      "[M-CH2O2]+Na,0.006\n",
      "[M+CH3OH]+Na,0.006\n",
      "[M-NH3]+Na,0.006\n",
      "[M-H2O]+Na,0.006\n",
      "[M+NH3]+Na,0.006\n",
      "[M-CO]+K[C13],0.005\n",
      "[M+CH2O2]+K[C13],0.005\n",
      "[M+ACN]+K[C13],0.005\n",
      "[M-C2H2]+K[C13],0.005\n",
      "[M-CH2O2]+K[C13],0.005\n",
      "[M+CH3OH]+K[C13],0.005\n",
      "[M-NH3]+K[C13],0.005\n",
      "[M-H2O]+K[C13],0.005\n",
      "[M+NH3]+K[C13],0.005\n",
      "[M-CO]+2H[C13],0.005\n",
      "[M+CH2O2]+2H[C13],0.005\n",
      "[M+ACN]+2H[C13],0.005\n",
      "[M-C2H2]+2H[C13],0.005\n",
      "[M-CH2O2]+2H[C13],0.005\n",
      "[M+CH3OH]+2H[C13],0.005\n",
      "[M-NH3]+2H[C13],0.005\n",
      "[M-H2O]+2H[C13],0.005\n",
      "[M+NH3]+2H[C13],0.005\n",
      "2M+H,0.005\n",
      "[M-CO]+Na[C13],0.005\n",
      "[M+CH2O2]+Na[C13],0.005\n",
      "[M+ACN]+Na[C13],0.005\n",
      "[M-C2H2]+Na[C13],0.005\n",
      "[M-CH2O2]+Na[C13],0.005\n",
      "[M+CH3OH]+Na[C13],0.005\n",
      "[M-NH3]+Na[C13],0.005\n",
      "[M-H2O]+Na[C13],0.005\n",
      "[M+NH3]+Na[C13],0.005\n",
      "2M+H[C13],0.004\n",
      "[M-CO]+K[2C13],0.004\n",
      "[M+CH2O2]+K[2C13],0.004\n",
      "[M+ACN]+K[2C13],0.004\n",
      "[M-C2H2]+K[2C13],0.004\n",
      "[M-CH2O2]+K[2C13],0.004\n",
      "[M+CH3OH]+K[2C13],0.004\n",
      "[M-NH3]+K[2C13],0.004\n",
      "[M-H2O]+K[2C13],0.004\n",
      "[M+NH3]+K[2C13],0.004\n",
      "[M-CO]+2H[2C13],0.004\n",
      "[M+CH2O2]+2H[2C13],0.004\n",
      "[M+ACN]+2H[2C13],0.004\n",
      "[M-C2H2]+2H[2C13],0.004\n",
      "[M-CH2O2]+2H[2C13],0.004\n",
      "[M+CH3OH]+2H[2C13],0.004\n",
      "[M-NH3]+2H[2C13],0.004\n",
      "[M-H2O]+2H[2C13],0.004\n",
      "[M+NH3]+2H[2C13],0.004\n",
      "[M-CO]+Na[2C13],0.004\n",
      "[M+CH2O2]+Na[2C13],0.004\n",
      "[M+ACN]+Na[2C13],0.004\n",
      "[M-C2H2]+Na[2C13],0.004\n",
      "[M-CH2O2]+Na[2C13],0.004\n",
      "[M+CH3OH]+Na[2C13],0.004\n",
      "[M-NH3]+Na[2C13],0.004\n",
      "[M-H2O]+Na[2C13],0.004\n",
      "[M+NH3]+Na[2C13],0.004\n",
      "2M+H[2C13],0.003\n",
      "[2M-CO]+H,0.003\n",
      "[2M+CH2O2]+H,0.003\n",
      "[2M+ACN]+H,0.003\n",
      "[2M-C2H2]+H,0.003\n",
      "[2M-CH2O2]+H,0.003\n",
      "[2M+CH3OH]+H,0.003\n",
      "[2M-NH3]+H,0.003\n",
      "[2M-H2O]+H,0.003\n",
      "[2M+NH3]+H,0.003\n",
      "[2M-CO]+H[C13],0.002\n",
      "[2M+CH2O2]+H[C13],0.002\n",
      "[2M+ACN]+H[C13],0.002\n",
      "[2M-C2H2]+H[C13],0.002\n",
      "[2M-CH2O2]+H[C13],0.002\n",
      "[2M+CH3OH]+H[C13],0.002\n",
      "[2M-NH3]+H[C13],0.002\n",
      "[2M-H2O]+H[C13],0.002\n",
      "[2M+NH3]+H[C13],0.002\n",
      "[2M-CO]+H[2C13],0.002\n",
      "[2M+CH2O2]+H[2C13],0.002\n",
      "[2M+ACN]+H[2C13],0.002\n",
      "[2M-C2H2]+H[2C13],0.002\n",
      "[2M-CH2O2]+H[2C13],0.002\n",
      "[2M+CH3OH]+H[2C13],0.002\n",
      "[2M-NH3]+H[2C13],0.002\n",
      "[2M-H2O]+H[2C13],0.002\n",
      "[2M+NH3]+H[2C13],0.002\n"
     ]
    }
   ],
   "source": [
    "import transformation\n",
    "transformations = transformation.load_from_file(base_dir + 'dbs/pos_transformations_camra.yml')\n",
    "print\n",
    "print \"Loaded \" + str(len(transformations)) + \" transformations\"\n",
    "\n",
    "\n",
    "sorted_transformations = sorted(transformations,key = lambda x: x.vote,reverse=True)\n",
    "print\n",
    "print \"Transformation,prob\"\n",
    "for t in sorted_transformations:\n",
    "    print \"{},{:.3f}\".format(t.name,t.vote)"
   ]
  },
  {
   "cell_type": "code",
   "execution_count": 26,
   "metadata": {
    "collapsed": false
   },
   "outputs": [],
   "source": [
    "from databases import Standards\n",
    "st = Standards()"
   ]
  },
  {
   "cell_type": "code",
   "execution_count": 27,
   "metadata": {
    "collapsed": false
   },
   "outputs": [
    {
     "name": "stdout",
     "output_type": "stream",
     "text": [
      "Loaded 1569 peaks\n",
      "Loaded 1681 peaks\n",
      "Loaded 1654 peaks\n"
     ]
    }
   ],
   "source": [
    "from voter import ReverseVoter\n",
    "hits = {}\n",
    "for thisfile in files:\n",
    "    csvfile = prefix + thisfile[1] + '.csv'\n",
    "    peaks = []\n",
    "    with open(csvfile,'r') as f:\n",
    "        f.readline()\n",
    "        for line in f:\n",
    "            split_line = line.split(',')\n",
    "            pid = int(split_line[0])\n",
    "            mass = float(split_line[1])\n",
    "            rt = float(split_line[2])\n",
    "            intensity = float(split_line[3])\n",
    "            peaks.append(Peak(pid,mass,rt,intensity))\n",
    "\n",
    "    print \"Loaded {} peaks\".format(len(peaks))\n",
    "    rv = ReverseVoter(transformations,peaks)\n",
    "\n",
    "    hits[thisfile] = {}\n",
    "    for mol in st.mols:\n",
    "        temp = rv.find_mol(mol,remove_found_peaks=True,verbose=False)\n",
    "        if len(temp) > 0:\n",
    "            hits[thisfile][mol] = temp"
   ]
  },
  {
   "cell_type": "code",
   "execution_count": 28,
   "metadata": {
    "collapsed": false
   },
   "outputs": [
    {
     "name": "stdout",
     "output_type": "stream",
     "text": [
      "+Na 51 0.172\n",
      "+H 223 0.751\n",
      "+2H 6 0.020\n",
      "+K 17 0.057\n"
     ]
    }
   ],
   "source": [
    "all_charges = []\n",
    "charge_counts = []\n",
    "for thisfile in hits:\n",
    "    for mol in hits[thisfile]:\n",
    "        for p,t in hits[thisfile][mol]:\n",
    "            if t.charge_name in all_charges:\n",
    "                charge_counts[all_charges.index(t.charge_name)] += 1\n",
    "            else:\n",
    "                all_charges.append(t.charge_name)\n",
    "                charge_counts.append(1)\n",
    "\n",
    "for i,c in enumerate(all_charges):\n",
    "    print c,charge_counts[i],'{:.3f}'.format(1.0*charge_counts[i]/sum(charge_counts))"
   ]
  },
  {
   "cell_type": "code",
   "execution_count": 29,
   "metadata": {
    "collapsed": false
   },
   "outputs": [
    {
     "name": "stdout",
     "output_type": "stream",
     "text": [
      "none 219 0.737\n",
      "-NH3 23 0.077\n",
      "-CH2O2 20 0.067\n",
      "+NH3 5 0.017\n",
      "-CO 5 0.017\n",
      "-H2O 8 0.027\n",
      "+CH2O2 6 0.020\n",
      "+CH3OH 6 0.020\n",
      "+ACN 2 0.007\n",
      "-C2H2 3 0.010\n"
     ]
    }
   ],
   "source": [
    "all_adducts = []\n",
    "adduct_counts = []\n",
    "for thisfile in hits:\n",
    "    for mol in hits[thisfile]:\n",
    "        for p,t in hits[thisfile][mol]:\n",
    "            if t.adducts in all_adducts:\n",
    "                adduct_counts[all_adducts.index(t.adducts)] += 1\n",
    "            else:\n",
    "                all_adducts.append(t.adducts)\n",
    "                adduct_counts.append(1)\n",
    "for i,c in enumerate(all_adducts):\n",
    "    print c,adduct_counts[i],'{:.3f}'.format(1.0*adduct_counts[i]/sum(adduct_counts))"
   ]
  },
  {
   "cell_type": "code",
   "execution_count": 30,
   "metadata": {
    "collapsed": false
   },
   "outputs": [
    {
     "name": "stdout",
     "output_type": "stream",
     "text": [
      "mono 209 0.704\n",
      "C13 75 0.253\n",
      "2C13 13 0.044\n"
     ]
    }
   ],
   "source": [
    "all_isotopes = []\n",
    "isotope_counts = []\n",
    "for thisfile in hits:\n",
    "    for mol in hits[thisfile]:\n",
    "        for p,t in hits[thisfile][mol]:\n",
    "            if t.isotope in all_isotopes:\n",
    "                isotope_counts[all_isotopes.index(t.isotope)] += 1\n",
    "            else:\n",
    "                all_isotopes.append(t.isotope)\n",
    "                isotope_counts.append(1)\n",
    "\n",
    "for i,c in enumerate(all_isotopes):\n",
    "    print c,isotope_counts[i],'{:.3f}'.format(1.0*isotope_counts[i]/sum(isotope_counts))"
   ]
  },
  {
   "cell_type": "code",
   "execution_count": 34,
   "metadata": {
    "collapsed": false
   },
   "outputs": [
    {
     "name": "stdout",
     "output_type": "stream",
     "text": [
      "1 278 0.936\n",
      "2 19 0.064\n"
     ]
    }
   ],
   "source": [
    "all_multiplicities = []\n",
    "multiplicity_counts = []\n",
    "for thisfile in hits:\n",
    "    for mol in hits[thisfile]:\n",
    "        for p,t in hits[thisfile][mol]:\n",
    "            mu = str(t.multiplicity)\n",
    "            if mu in all_multiplicities:\n",
    "                multiplicity_counts[all_multiplicities.index(mu)] += 1\n",
    "            else:\n",
    "                all_multiplicities.append(mu)\n",
    "                multiplicity_counts.append(1)\n",
    "\n",
    "for i,c in enumerate(all_multiplicities):\n",
    "    print c,multiplicity_counts[i],'{:.3f}'.format(1.0*multiplicity_counts[i]/sum(multiplicity_counts))"
   ]
  },
  {
   "cell_type": "code",
   "execution_count": 35,
   "metadata": {
    "collapsed": false
   },
   "outputs": [],
   "source": [
    "charge_count_dict = {}\n",
    "for i,c in enumerate(all_charges):\n",
    "    charge_count_dict[c] = charge_counts[i]\n",
    "adduct_count_dict = {}\n",
    "for i,a in enumerate(all_adducts):\n",
    "    adduct_count_dict[a] = adduct_counts[i]\n",
    "isotope_count_dict = {}\n",
    "for i,iso in enumerate(all_isotopes):\n",
    "    isotope_count_dict[iso] = isotope_counts[i]\n",
    "multiplicity_count_dict = {}\n",
    "for i,mu in enumerate(all_multiplicities):\n",
    "    multiplicity_count_dict[mu] = multiplicity_counts[i]"
   ]
  },
  {
   "cell_type": "code",
   "execution_count": 37,
   "metadata": {
    "collapsed": false
   },
   "outputs": [
    {
     "name": "stdout",
     "output_type": "stream",
     "text": [
      "Charge Probabilities\n",
      "+K: 0.060\n",
      "+2H: 0.023\n",
      "+H: 0.745\n",
      "+Na: 0.172\n",
      "\n",
      "Adduct Probabilities\n",
      "-CO: 0.019\n",
      "+CH2O2: 0.023\n",
      "none: 0.718\n",
      "+ACN: 0.010\n",
      "-C2H2: 0.013\n",
      "-CH2O2: 0.068\n",
      "+CH3OH: 0.023\n",
      "-NH3: 0.078\n",
      "-H2O: 0.029\n",
      "+NH3: 0.019\n",
      "\n",
      "Isotope Probabilities\n",
      "C13: 0.256\n",
      "mono: 0.693\n",
      "2C13: 0.052\n",
      "\n",
      "Multiplicity Probabilities\n",
      "1: 0.934\n",
      "2: 0.066\n"
     ]
    }
   ],
   "source": [
    "revised_transformations = transformation.load_from_file(base_dir + 'dbs/pos_transformations_camra.yml',\n",
    "                                                        charge_counts = charge_count_dict,\n",
    "                                                        adduct_counts = adduct_count_dict,\n",
    "                                                        isotope_counts = isotope_count_dict,\n",
    "                                                        multiplicity_counts = multiplicity_count_dict,\n",
    "                                                       )"
   ]
  },
  {
   "cell_type": "markdown",
   "metadata": {},
   "source": [
    "Urine\n",
    "===\n",
    "Load the urine data and do the hmdb analysis with the initial and revised transformations\n"
   ]
  },
  {
   "cell_type": "code",
   "execution_count": 42,
   "metadata": {
    "collapsed": false
   },
   "outputs": [
    {
     "name": "stdout",
     "output_type": "stream",
     "text": [
      "Running file Urine_37_fullscan1_POS\n",
      "Loaded 7733 peaks\n",
      "Reading shape correlations from /Users/simon/Dropbox/BioResearch/Meta_clustering/ms1fundata/urine/pos/csv/Urine_37_fullscan1_POS.corr.mat\n",
      "Greedy clustering done, resulting in 1237 clusters\n"
     ]
    }
   ],
   "source": [
    "urinefiles = []\n",
    "prefix = '/Users/simon/Dropbox/BioResearch/Meta_clustering/ms1fundata/urine/pos/csv/'\n",
    "filename = 'Urine_37_fullscan1_POS'\n",
    "urinefiles.append((prefix,filename,False))\n",
    "\n",
    "bl = BetaLike()\n",
    "clusterings = {}\n",
    "\n",
    "for f in urinefiles:\n",
    "\n",
    "    filename = f[1]\n",
    "    prefix = f[0]\n",
    "    print \"Running file \" + filename\n",
    "    csvfile = prefix + filename + '.csv'\n",
    "    matfile = prefix + filename + '.corr.mat'\n",
    "    signalfile = prefix + filename + '.peakml.signal'\n",
    "    # Simon is an idiot...remember to change 'correct = True' or 'correct = False' \n",
    "    # coc = CorrCluster(bl,csvfile,matfile,signal_file=signalfile,greedy_thresh=0.7,correct=True)\n",
    "    coc = CorrCluster(bl,csvfile,corr_file=matfile,signal_file=signalfile,greedy_thresh=0.7,correct=f[2],data_type='correlation')\n",
    "    clusterings[filename] = coc"
   ]
  },
  {
   "cell_type": "markdown",
   "metadata": {},
   "source": [
    "Original transformations\n",
    "=="
   ]
  },
  {
   "cell_type": "code",
   "execution_count": 44,
   "metadata": {
    "collapsed": false
   },
   "outputs": [
    {
     "name": "stdout",
     "output_type": "stream",
     "text": [
      "Performing voting on file Urine_37_fullscan1_POS\n"
     ]
    }
   ],
   "source": [
    "from voter import Voter,PeakGroup\n",
    "groups = {}\n",
    "for f in urinefiles:\n",
    "    v = Voter(transformations)\n",
    "    filename = f[1]\n",
    "    print \"Performing voting on file {}\".format(filename)\n",
    "    file_groups = []\n",
    "    for cluster in clusterings[filename].clusters:\n",
    "        file_groups += v.make_groups(cluster.members)\n",
    "    groups[filename] = file_groups"
   ]
  },
  {
   "cell_type": "code",
   "execution_count": 46,
   "metadata": {
    "collapsed": false
   },
   "outputs": [
    {
     "name": "stdout",
     "output_type": "stream",
     "text": [
      "Urine_37_fullscan1_POS\n",
      "Number of raw hits (i.e. comparing all peaks): 2806 (36% of peaks)\n",
      "Number of group hits (i.e. hits on group Ms): 1915 (36% of groups)\n"
     ]
    },
    {
     "name": "stderr",
     "output_type": "stream",
     "text": [
      "/Users/simon/.virtualenvs/ms1fun/lib/python2.7/site-packages/numpy/core/_methods.py:59: RuntimeWarning: Mean of empty slice.\n",
      "  warnings.warn(\"Mean of empty slice.\", RuntimeWarning)\n",
      "/Users/simon/.virtualenvs/ms1fun/lib/python2.7/site-packages/numpy/core/_methods.py:70: RuntimeWarning: invalid value encountered in double_scalars\n",
      "  ret = ret.dtype.type(ret / rcount)\n"
     ]
    },
    {
     "data": {
      "image/png": "[encoded data removed]",
      "text/plain": [
       "<matplotlib.figure.Figure at 0x1183a5410>"
      ]
     },
     "metadata": {},
     "output_type": "display_data"
    },
    {
     "data": {
      "image/png": "[encoded data removed]",
      "text/plain": [
       "<matplotlib.figure.Figure at 0x1189dd7d0>"
      ]
     },
     "metadata": {},
     "output_type": "display_data"
    },
    {
     "data": {
      "image/png": "[encoded data removed]",
      "text/plain": [
       "<matplotlib.figure.Figure at 0x119785b50>"
      ]
     },
     "metadata": {},
     "output_type": "display_data"
    }
   ],
   "source": [
    "import helper_functions\n",
    "urine = urinefiles[0][1]\n",
    "print urine\n",
    "helper_functions.hmdb_analysis(groups[urine],\n",
    "                               filename=urine,\n",
    "                               mtol=10,mode='pos',\n",
    "                               v_thresh = np.arange(0.01,2.0,0.001))"
   ]
  },
  {
   "cell_type": "markdown",
   "metadata": {},
   "source": [
    "Revised transformations\n",
    "=="
   ]
  },
  {
   "cell_type": "code",
   "execution_count": 47,
   "metadata": {
    "collapsed": false
   },
   "outputs": [
    {
     "name": "stdout",
     "output_type": "stream",
     "text": [
      "Performing voting on file Urine_37_fullscan1_POS\n"
     ]
    }
   ],
   "source": [
    "revised_groups = {}\n",
    "for f in urinefiles:\n",
    "    v = Voter(revised_transformations)\n",
    "    filename = f[1]\n",
    "    print \"Performing voting on file {}\".format(filename)\n",
    "    file_groups = []\n",
    "    for cluster in clusterings[filename].clusters:\n",
    "        file_groups += v.make_groups(cluster.members)\n",
    "    revised_groups[filename] = file_groups"
   ]
  },
  {
   "cell_type": "code",
   "execution_count": 48,
   "metadata": {
    "collapsed": false
   },
   "outputs": [
    {
     "name": "stdout",
     "output_type": "stream",
     "text": [
      "Urine_37_fullscan1_POS\n",
      "Number of raw hits (i.e. comparing all peaks): 2806 (36% of peaks)\n",
      "Number of group hits (i.e. hits on group Ms): 2048 (37% of groups)\n"
     ]
    },
    {
     "data": {
      "image/png": "[encoded data removed]",
      "text/plain": [
       "<matplotlib.figure.Figure at 0x1197e8f10>"
      ]
     },
     "metadata": {},
     "output_type": "display_data"
    },
    {
     "data": {
      "image/png": "[encoded data removed]",
      "text/plain": [
       "<matplotlib.figure.Figure at 0x1189dff50>"
      ]
     },
     "metadata": {},
     "output_type": "display_data"
    },
    {
     "data": {
      "image/png": "[encoded data removed]",
      "text/plain": [
       "<matplotlib.figure.Figure at 0x119ba8f90>"
      ]
     },
     "metadata": {},
     "output_type": "display_data"
    }
   ],
   "source": [
    "import helper_functions\n",
    "urine = urinefiles[0][1]\n",
    "print urine\n",
    "helper_functions.hmdb_analysis(revised_groups[urine],\n",
    "                               filename=urine,\n",
    "                               mtol=10,mode='pos',\n",
    "                               v_thresh = np.arange(0.01,2.0,0.001))"
   ]
  },
  {
   "cell_type": "code",
   "execution_count": null,
   "metadata": {
    "collapsed": true
   },
   "outputs": [],
   "source": []
  }
 ],
 "metadata": {
  "kernelspec": {
   "display_name": "Python 2",
   "language": "python",
   "name": "python2"
  },
  "language_info": {
   "codemirror_mode": {
    "name": "ipython",
    "version": 2
   },
   "file_extension": ".py",
   "mimetype": "text/x-python",
   "name": "python",
   "nbconvert_exporter": "python",
   "pygments_lexer": "ipython2",
   "version": "2.7.10"
  }
 },
 "nbformat": 4,
 "nbformat_minor": 0
}
