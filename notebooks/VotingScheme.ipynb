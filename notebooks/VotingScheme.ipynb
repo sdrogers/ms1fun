{
 "cells": [
  {
   "cell_type": "code",
   "execution_count": 92,
   "metadata": {
    "collapsed": false
   },
   "outputs": [
    {
     "name": "stdout",
     "output_type": "stream",
     "text": [
      "The autoreload extension is already loaded. To reload it, use:\n",
      "  %reload_ext autoreload\n"
     ]
    }
   ],
   "source": [
    "%load_ext autoreload\n",
    "%autoreload 2\n",
    "import os\n",
    "import sys\n",
    "import numpy as np\n",
    "from scipy import stats\n",
    "\n",
    "base_dir = '/Users/simon/git/ms1fun/'\n",
    "sys.path.append(base_dir + 'code')\n",
    "sys.path.append(base_dir + 'dbs')\n",
    "\n",
    "from corr_cluster import Peak,BetaLike,CorrCluster\n",
    "from formula import Formula\n",
    "import pylab as plt\n",
    "%matplotlib inline\n"
   ]
  },
  {
   "cell_type": "markdown",
   "metadata": {},
   "source": [
    "Grab some files"
   ]
  },
  {
   "cell_type": "code",
   "execution_count": 93,
   "metadata": {
    "collapsed": true
   },
   "outputs": [],
   "source": [
    "files = []\n",
    "\n",
    "prefix = '/Users/simon/Dropbox/BioResearch/Meta_clustering/ms1fundata/Beer/PositiveMode/Beer3Full/csv/'\n",
    "filename = 'Beer_3_Full1'\n",
    "files.append((prefix,filename,False))"
   ]
  },
  {
   "cell_type": "code",
   "execution_count": 4,
   "metadata": {
    "collapsed": true
   },
   "outputs": [],
   "source": [
    "prefix = '/Users/simon/Dropbox/BioResearch/Meta_clustering/ms1fundata/urine/pos/csv/'\n",
    "filename = 'Urine_37_fullscan1_POS'\n",
    "files.append((prefix,filename,False))"
   ]
  },
  {
   "cell_type": "code",
   "execution_count": 5,
   "metadata": {
    "collapsed": true
   },
   "outputs": [],
   "source": [
    "prefix = '/Users/simon/Dropbox/BioResearch/Meta_clustering/ms1fundata/standards/pos/csv/'\n",
    "filename = 'batch1_Std_1_1'\n",
    "files.append((prefix,filename,True))\n",
    "\n",
    "filename = 'batch1_Std_1_2'\n",
    "files.append((prefix,filename,True))\n",
    "\n",
    "filename = 'batch1_Std_2_1'\n",
    "files.append((prefix,filename,True))\n",
    "\n",
    "filename = 'batch1_Std_2_2'\n",
    "files.append((prefix,filename,True))"
   ]
  },
  {
   "cell_type": "code",
   "execution_count": 104,
   "metadata": {
    "collapsed": false
   },
   "outputs": [
    {
     "name": "stdout",
     "output_type": "stream",
     "text": [
      "Loaded 87 transformations\n"
     ]
    }
   ],
   "source": [
    "import transformation\n",
    "transformations = transformation.load_from_file(base_dir + 'dbs/pos_transformations_reduced.yml')\n",
    "print \"Loaded \" + str(len(transformations)) + \" transformations\""
   ]
  },
  {
   "cell_type": "code",
   "execution_count": 105,
   "metadata": {
    "collapsed": false
   },
   "outputs": [
    {
     "name": "stdout",
     "output_type": "stream",
     "text": [
      "Running file Beer_3_Full1\n",
      "1421.38000488\n",
      "Loaded 7863 peaks\n",
      "Reading shape correlations from /Users/simon/Dropbox/BioResearch/Meta_clustering/ms1fundata/Beer/PositiveMode/Beer3Full/csv/Beer_3_Full1.corr.mat\n",
      "Greedy clustering done, resulting in 1116 clusters\n"
     ]
    }
   ],
   "source": [
    "bl = BetaLike()\n",
    "clusterings = {}\n",
    "for f in files:\n",
    "\n",
    "    filename = f[1]\n",
    "    prefix = f[0]\n",
    "    print \"Running file \" + filename\n",
    "    csvfile = prefix + filename + '.csv'\n",
    "    matfile = prefix + filename + '.corr.mat'\n",
    "    signalfile = prefix + filename + '.peakml.signal'\n",
    "    # Simon is an idiot...remember to change 'correct = True' or 'correct = False' \n",
    "    # coc = CorrCluster(bl,csvfile,matfile,signal_file=signalfile,greedy_thresh=0.7,correct=True)\n",
    "    coc = CorrCluster(bl,csvfile,matfile,signal_file=signalfile,greedy_thresh=0.7,correct=f[2])\n",
    "    clusterings[filename] = coc"
   ]
  },
  {
   "cell_type": "markdown",
   "metadata": {},
   "source": [
    "Perform the voting..."
   ]
  },
  {
   "cell_type": "code",
   "execution_count": 106,
   "metadata": {
    "collapsed": false
   },
   "outputs": [
    {
     "name": "stdout",
     "output_type": "stream",
     "text": [
      "Performing voting on file Beer_3_Full1\n"
     ]
    }
   ],
   "source": [
    "from voter import Voter,PeakGroup\n",
    "groups = {}\n",
    "for f in files:\n",
    "    v = Voter(transformations)\n",
    "    filename = f[1]\n",
    "    print \"Performing voting on file {}\".format(filename)\n",
    "    file_groups = []\n",
    "    for cluster in clusterings[filename].clusters:\n",
    "        file_groups += v.make_groups(cluster.members)\n",
    "    groups[filename] = file_groups"
   ]
  },
  {
   "cell_type": "code",
   "execution_count": 107,
   "metadata": {
    "collapsed": false
   },
   "outputs": [],
   "source": [
    "from databases import Standards\n",
    "st = Standards()\n",
    "all_hits = {}\n",
    "for f in files:\n",
    "    filename = f[1]\n",
    "    all_hits[filename] = st.get_group_hits(groups[filename],use_max_vote = True)\n",
    "\n",
    "    "
   ]
  },
  {
   "cell_type": "markdown",
   "metadata": {},
   "source": [
    "Output a file with the groups (and peaks that form them)"
   ]
  },
  {
   "cell_type": "code",
   "execution_count": 108,
   "metadata": {
    "collapsed": false
   },
   "outputs": [],
   "source": [
    "# Sort the groups according to votes (top ones first)\n",
    "global_adduct_counts = {}\n",
    "global_fragment_counts = {}\n",
    "global_transformation_counts = {}\n",
    "for f in files:\n",
    "    filename = f[1]\n",
    "    outpre = 'output/pos/' + filename\n",
    "\n",
    "    temp_groups = sorted(groups[filename],key = lambda x:x.vote,reverse=True)\n",
    "    outfile = outpre + '_by_vote.txt'\n",
    "    \n",
    "\n",
    "    with open(outfile,'w') as f:\n",
    "        for i,group in enumerate(temp_groups):\n",
    "            line = \"vote: {}, M: {}\\n\".format(group.vote,group.M)\n",
    "            f.write(line)\n",
    "            head_line = '\\tPeak m/z,Peak rt,Peak intensity,transformation (transformed mass,vote)\\n'\n",
    "            f.write(head_line)\n",
    "            for (peak,transformation,transmass) in sorted(group.members,key = lambda x: x[1].vote,reverse=True):\n",
    "                line = \"\\t{:.4f},{:.4f},{:.2e},{} ({:.4f},{})\\n\".format(peak.mass,peak.rt,peak.intensity,transformation,transmass,transformation.vote)\n",
    "                f.write(line)\n",
    "            f.write('\\n')\n",
    "            \n",
    "    temp_groups = sorted(groups[filename],key = lambda x:x.M)\n",
    "    outfile = outpre + '_by_M.txt'\n",
    "    \n",
    "    with open(outfile,'w') as f:\n",
    "        for i,group in enumerate(temp_groups):\n",
    "            line = \"vote: {}, M: {}\\n\".format(group.vote,group.M)\n",
    "            f.write(line)\n",
    "            head_line = '\\tPeak m/z,Peak rt,Peak intensity,transformation (transformed mass,vote)\\n'\n",
    "            f.write(head_line)\n",
    "            for (peak,transformation,transmass) in sorted(group.members,key = lambda x: x[1].vote,reverse=True):\n",
    "                line = \"\\t{:.4f},{:.4f},{:.2e},{} ({:.4f},{})\\n\".format(peak.mass,peak.rt,peak.intensity,transformation,transmass,transformation.vote)\n",
    "                f.write(line)\n",
    "            f.write('\\n')\n",
    "\n",
    "    with open(outpre + '_matched_std.txt','w') as f:\n",
    "        for mol in all_hits[filename]:\n",
    "            group = all_hits[filename][mol]\n",
    "            line = \"{} (vote={})\\n\".format(mol,group.vote)\n",
    "            f.write(line)\n",
    "            head_line = '\\tPeak m/z,Peak rt,Peak intensity,transformation (transformed mass,vote)\\n'\n",
    "            f.write(head_line)\n",
    "            for (peak,transformation,transmass) in sorted(group.members,key = lambda x: x[1].vote,reverse=True):\n",
    "                line = \"\\t{:.4f},{:.4f},{:.2e},{} ({:.4f},{})\\n\".format(peak.mass,peak.rt,peak.intensity,transformation,transmass,transformation.vote)\n",
    "                f.write(line)\n",
    "            f.write('\\n')\n",
    "\n",
    "\n",
    "    include_singletons = False\n",
    "    trans_counts = {}\n",
    "    tot = 0\n",
    "    for tr in transformations:\n",
    "        trans_counts[tr] = 0\n",
    "    for group in groups[filename]:\n",
    "        if not include_singletons:\n",
    "            if len(group.members) == 1:\n",
    "                continue\n",
    "        for p,t,_ in group.members:\n",
    "            trans_counts[t] += 1\n",
    "            tot += 1\n",
    "\n",
    "    with open(outpre + '_tran_counts.txt','w') as f:\n",
    "        for tr in sorted(transformations,key = lambda x: x.vote, reverse=True):\n",
    "            line = \"{},{},{:.4f}\\n\".format(tr,trans_counts[tr],trans_counts[tr]/(1.0*tot))\n",
    "            f.write(line)\n",
    "\n",
    "    # output the counts of particular adducts / fragments\n",
    "    frag_counts = {}\n",
    "    adduct_counts = {}\n",
    "    adduct_tot = 0\n",
    "    frag_tot = 0\n",
    "    for tr in transformations:\n",
    "        for f in tr.fragments:\n",
    "            if not f in frag_counts:\n",
    "                frag_counts[f] = 0\n",
    "        for a in tr.adducts:\n",
    "            if not a in adduct_counts:\n",
    "                adduct_counts[a] = 0\n",
    "                \n",
    "    for group in groups[filename]:\n",
    "        for p,t,_ in group.members:\n",
    "            for f in t.fragments:\n",
    "                frag_counts[f] += 1\n",
    "                frag_tot += 1\n",
    "            for a in t.adducts:\n",
    "                adduct_counts[a] += 1\n",
    "                adduct_tot += 1\n",
    "                \n",
    "    with open(outpre + '_adduct_counts.txt','w') as f:\n",
    "        for a in adduct_counts:\n",
    "            line = \"{},{},{:.4f}\\n\".format(a,adduct_counts[a],adduct_counts[a]/(1.0*adduct_tot))\n",
    "            f.write(line)\n",
    "    \n",
    "    with open(outpre + '_fragment_counts.txt','w') as f:\n",
    "        for fr in frag_counts:\n",
    "            line = \"{},{},{:.4f}\\n\".format(fr,frag_counts[fr],frag_counts[fr]/(1.0*frag_tot))\n",
    "            f.write(line)\n",
    "    \n",
    "    global_adduct_counts[filename] = adduct_counts\n",
    "    global_fragment_counts[filename] = frag_counts\n",
    "    global_transformation_counts[filename] = trans_counts\n",
    "\n",
    "            "
   ]
  },
  {
   "cell_type": "code",
   "execution_count": 109,
   "metadata": {
    "collapsed": true
   },
   "outputs": [],
   "source": [
    "# Note this just does percentages\n",
    "# Note 2 - for fragments, this is normalised according to things that have fragments\n",
    "all_frags = []\n",
    "for fi in global_fragment_counts:\n",
    "    frags = global_fragment_counts[fi].keys()\n",
    "    for fr in frags:\n",
    "        if not fr in all_frags:\n",
    "            all_frags.append(fr)\n",
    "\n",
    "all_files = global_fragment_counts.keys()\n",
    "totals = {}\n",
    "for filename in all_files:\n",
    "    tot = 0\n",
    "    for fr in global_fragment_counts[filename]:\n",
    "        tot += global_fragment_counts[filename][fr]\n",
    "    totals[filename] = tot\n",
    "\n",
    "frag_perc = {}\n",
    "for filename in all_files:\n",
    "    frag_perc[filename] = []\n",
    "    for fr in all_frags:\n",
    "        frag_perc[filename].append(global_fragment_counts[filename][fr]/(1.0*totals[filename]))\n",
    "            \n",
    "with open('output/pos/global_frags.txt','w') as f:\n",
    "    st = \"Fragment\"\n",
    "    for filename in all_files:\n",
    "        st += ',{}'.format(filename)\n",
    "    f.write(st+'\\n')\n",
    "    for fr in all_frags:\n",
    "        st = fr\n",
    "        for filename in all_files:\n",
    "            st += \",{}\".format(global_fragment_counts[filename][fr]/(1.0*totals[filename]))\n",
    "        f.write(st+'\\n')\n",
    "        \n",
    "        \n",
    "\n",
    "        \n",
    "# ADDUCTS\n",
    "all_adducts = []\n",
    "for fi in global_adduct_counts:\n",
    "    adds = global_adduct_counts[fi].keys()\n",
    "    for ad in adds:\n",
    "        if not ad in all_adducts:\n",
    "            all_adducts.append(ad)\n",
    "\n",
    "all_files = global_adduct_counts.keys()\n",
    "totals = {}\n",
    "for filename in all_files:\n",
    "    tot = 0\n",
    "    for ad in global_adduct_counts[filename]:\n",
    "        tot += global_adduct_counts[filename][ad]\n",
    "    totals[filename] = tot\n",
    "    \n",
    "adduct_perc = {}\n",
    "for filename in all_files:\n",
    "    adduct_perc[filename] = []\n",
    "    for ad in all_adducts:\n",
    "        adduct_perc[filename].append(global_adduct_counts[filename][ad]/(1.0*totals[filename]))    \n",
    "\n",
    "with open('output/pos/global_adducts.txt','w') as f:\n",
    "    st = \"Adduct\"\n",
    "    for filename in all_files:\n",
    "        st += ',{}'.format(filename)\n",
    "    f.write(st+'\\n')\n",
    "    for ad in all_adducts:\n",
    "        st = ad\n",
    "        for filename in all_files:\n",
    "            st += \",{}\".format(global_adduct_counts[filename][ad]/(1.0*totals[filename]))\n",
    "        f.write(st+'\\n')\n",
    "        \n",
    "        \n",
    "        \n",
    "# TRANSFORMATIONS\n",
    "all_trans = []\n",
    "for fi in global_transformation_counts:\n",
    "    adds = global_transformation_counts[fi].keys()\n",
    "    for tr in adds:\n",
    "        if not tr in all_trans:\n",
    "            all_trans.append(tr)\n",
    "\n",
    "all_files = global_transformation_counts.keys()\n",
    "totals = {}\n",
    "for filename in all_files:\n",
    "    tot = 0\n",
    "    for tr in global_transformation_counts[filename]:\n",
    "        tot += global_transformation_counts[filename][tr]\n",
    "    totals[filename] = tot\n",
    "            \n",
    "        \n",
    "trans_perc = {}\n",
    "all_trans = global_transformation_counts[fi].keys()\n",
    "all_trans = sorted(all_trans,key=lambda x: x.vote,reverse=True)\n",
    "for filename in all_files:\n",
    "    trans_perc[filename] = []\n",
    "    for tr in all_trans:\n",
    "        trans_perc[filename].append(global_transformation_counts[filename][tr]/(1.0*totals[filename]))\n",
    "\n",
    "\n",
    "with open('output/pos/global_transformations.txt','w') as f:\n",
    "    st = \"Transformation\"\n",
    "    for filename in all_files:\n",
    "        st += ',{}'.format(filename)\n",
    "    f.write(st+'\\n')\n",
    "    for tr in sorted(all_trans,key = lambda x: x.vote,reverse=True):\n",
    "        st = tr.name\n",
    "        for filename in all_files:\n",
    "            st += \",{}\".format(global_transformation_counts[filename][tr]/(1.0*totals[filename]))\n",
    "        f.write(st+'\\n')"
   ]
  },
  {
   "cell_type": "markdown",
   "metadata": {},
   "source": [
    "Output the M+H list - one peak per group"
   ]
  },
  {
   "cell_type": "code",
   "execution_count": 100,
   "metadata": {
    "collapsed": false
   },
   "outputs": [
    {
     "name": "stdout",
     "output_type": "stream",
     "text": [
      "Writing: output/pos/Beer_3_Full1_peaklist.txt\n"
     ]
    }
   ],
   "source": [
    "\n",
    "for f in files:\n",
    "    filename = f[1]\n",
    "    outpre = filename\n",
    "\n",
    "    temp_groups = sorted(groups[filename],key = lambda x:x.vote,reverse=True)\n",
    "    outfile = 'output/pos/' + outpre + '_peaklist.txt'\n",
    "    print \"Writing: \" + outfile\n",
    "    with open(outfile,'w') as of:\n",
    "        for group in temp_groups:\n",
    "            proto = [p for (p,t,m) in group.members if t.name == 'M+H']\n",
    "            if len(proto) > 0:\n",
    "                proto = proto[0]\n",
    "                if proto.intensity > 1e5:\n",
    "                    of.write(\"{},{},{}\\n\".format(proto.mass,proto.rt,proto.intensity))"
   ]
  },
  {
   "cell_type": "markdown",
   "metadata": {
    "collapsed": false
   },
   "source": [
    "Make a clustered bar of fragments"
   ]
  },
  {
   "cell_type": "code",
   "execution_count": 101,
   "metadata": {
    "collapsed": false,
    "scrolled": true
   },
   "outputs": [
    {
     "name": "stdout",
     "output_type": "stream",
     "text": [
      "[0, 1]\n",
      "0 Beer_3_Full1\n"
     ]
    },
    {
     "data": {
      "image/png": "[encoded data removed]",
      "text/plain": [
       "<matplotlib.figure.Figure at 0x10aefd850>"
      ]
     },
     "metadata": {},
     "output_type": "display_data"
    }
   ],
   "source": [
    "plt.figure(figsize=(10,10))\n",
    "plt.size((10,10))\n",
    "N = len(all_frags)\n",
    "posn = range(N)\n",
    "print posn\n",
    "nfiles = len(all_files)\n",
    "width = 0.1\n",
    "cols = ['r','g','b','y','k','m']\n",
    "rects = []\n",
    "for i,filename in enumerate(all_files):\n",
    "    print i,filename\n",
    "    rects.append(plt.bar([p+width*i for p in posn],frag_perc[filename],width=width,color=cols[i]))\n",
    "plt.legend(rects,all_files)\n",
    "plt.xticks([p+width*nfiles/2 for p in posn],all_frags)\n",
    "plt.savefig('output/pos/frag_bars.png',dpi=200)\n"
   ]
  },
  {
   "cell_type": "markdown",
   "metadata": {},
   "source": [
    "Make a clustered plot of adducts"
   ]
  },
  {
   "cell_type": "code",
   "execution_count": 102,
   "metadata": {
    "collapsed": false
   },
   "outputs": [
    {
     "name": "stdout",
     "output_type": "stream",
     "text": [
      "[0, 1, 2, 3, 4, 5, 6]\n",
      "0 Beer_3_Full1\n",
      "[0, 1, 2, 3, 4, 5]\n",
      "0 Beer_3_Full1\n"
     ]
    },
    {
     "data": {
      "image/png": "[encoded data removed]",
      "text/plain": [
       "<matplotlib.figure.Figure at 0x10aefd110>"
      ]
     },
     "metadata": {},
     "output_type": "display_data"
    },
    {
     "data": {
      "image/png": "[encoded data removed]",
      "text/plain": [
       "<matplotlib.figure.Figure at 0x10acaff50>"
      ]
     },
     "metadata": {},
     "output_type": "display_data"
    }
   ],
   "source": [
    "plt.figure(figsize=(10,10))\n",
    "plt.size((10,10))\n",
    "N = len(all_adducts)\n",
    "posn = range(N)\n",
    "print posn\n",
    "nfiles = len(all_files)\n",
    "width = 0.1\n",
    "cols = ['r','g','b','y','k','m']\n",
    "rects = []\n",
    "for i,filename in enumerate(all_files):\n",
    "    print i,filename\n",
    "    rects.append(plt.bar([p+width*i for p in posn],adduct_perc[filename],width=width,color=cols[i]))\n",
    "plt.legend(rects,all_files)\n",
    "plt.xticks([p+width*nfiles/2 for p in posn],all_adducts)\n",
    "\n",
    "import copy\n",
    "# Repeat without M+H\n",
    "adduct_perc2 = copy.deepcopy(adduct_perc)\n",
    "all_adducts2 = copy.deepcopy(all_adducts)\n",
    "mhi = all_adducts2.index(\"H\")\n",
    "del all_adducts2[mhi]\n",
    "for fi in adduct_perc2:\n",
    "    del adduct_perc2[fi][mhi]\n",
    "    \n",
    "plt.figure(figsize=(10,10))\n",
    "plt.size((10,10))\n",
    "N = len(all_adducts2)\n",
    "posn = range(N)\n",
    "print posn\n",
    "nfiles = len(all_files)\n",
    "width = 0.1\n",
    "cols = ['r','g','b','y','k','m']\n",
    "rects = []\n",
    "for i,filename in enumerate(all_files):\n",
    "    print i,filename\n",
    "    rects.append(plt.bar([p+width*i for p in posn],adduct_perc2[filename],width=width,color=cols[i]))\n",
    "plt.legend(rects,all_files)\n",
    "plt.xticks([p+width*nfiles/2 for p in posn],all_adducts2)\n",
    "plt.savefig('output/pos/add_bars.png',dpi=200)"
   ]
  },
  {
   "cell_type": "markdown",
   "metadata": {},
   "source": [
    "Add a clustered plot of all transformations"
   ]
  },
  {
   "cell_type": "code",
   "execution_count": 103,
   "metadata": {
    "collapsed": false,
    "scrolled": true
   },
   "outputs": [
    {
     "data": {
      "image/png": "[encoded data removed]",
      "text/plain": [
       "<matplotlib.figure.Figure at 0x116455510>"
      ]
     },
     "metadata": {},
     "output_type": "display_data"
    }
   ],
   "source": [
    "plt.figure(figsize=(50,30))\n",
    "plt.size((10,10))\n",
    "N = len(all_trans)\n",
    "posn = range(N)\n",
    "nfiles = len(all_files)\n",
    "width = 0.1\n",
    "cols = ['r','g','b','y','k','m']\n",
    "rects = []\n",
    "for i,filename in enumerate(all_files):\n",
    "    rects.append(plt.bar([p+width*i for p in posn],trans_perc[filename],width=width,color=cols[i]))\n",
    "plt.legend(rects,all_files)\n",
    "plt.xticks([p+width*nfiles/2 for p in posn],all_trans,rotation=90,fontsize=8)\n",
    "plt.savefig('output/pos/trans_bars.png',dpi=200)"
   ]
  },
  {
   "cell_type": "code",
   "execution_count": null,
   "metadata": {
    "collapsed": true
   },
   "outputs": [],
   "source": []
  },
  {
   "cell_type": "code",
   "execution_count": null,
   "metadata": {
    "collapsed": true
   },
   "outputs": [],
   "source": []
  },
  {
   "cell_type": "code",
   "execution_count": null,
   "metadata": {
    "collapsed": true
   },
   "outputs": [],
   "source": []
  },
  {
   "cell_type": "markdown",
   "metadata": {},
   "source": [
    "List the transformations and their votes"
   ]
  },
  {
   "cell_type": "code",
   "execution_count": 526,
   "metadata": {
    "collapsed": false
   },
   "outputs": [
    {
     "name": "stdout",
     "output_type": "stream",
     "text": [
      "M+H 1.0\n",
      "M+H[C13] 0.9\n",
      "M+H[2C13] 0.9\n",
      "M+K 0.6\n",
      "M+Na 0.6\n",
      "M+K[C13] 0.54\n",
      "M+K[2C13] 0.54\n",
      "M+Na[C13] 0.54\n",
      "M+Na[2C13] 0.54\n",
      "[M-H2O]+H 0.5\n",
      "[M-CO]+H 0.5\n",
      "[M-H2O]+H[C13] 0.45\n",
      "[M-H2O]+H[2C13] 0.45\n",
      "[M-CO]+H[C13] 0.45\n",
      "[M-CO]+H[2C13] 0.45\n",
      "2M+H 0.4\n",
      "M+2H 0.4\n",
      "M+ACN+H 0.4\n",
      "M+H+CH3OH 0.4\n",
      "M+NH4 0.4\n",
      "2M+H[C13] 0.36\n",
      "2M+H[2C13] 0.36\n",
      "M+2H[C13] 0.36\n",
      "M+2H[2C13] 0.36\n",
      "M+ACN+H[C13] 0.36\n",
      "M+ACN+H[2C13] 0.36\n",
      "M+H+CH3OH[C13] 0.36\n",
      "M+H+CH3OH[2C13] 0.36\n",
      "M+NH4[C13] 0.36\n",
      "M+NH4[2C13] 0.36\n",
      "[M-H2O]+K 0.3\n",
      "[M-CO]+K 0.3\n",
      "[M-H2O]+Na 0.3\n",
      "[M-CO]+Na 0.3\n",
      "[M-H2O]+K[C13] 0.27\n",
      "[M-H2O]+K[2C13] 0.27\n",
      "[M-CO]+K[C13] 0.27\n",
      "[M-CO]+K[2C13] 0.27\n",
      "[M-H2O]+Na[C13] 0.27\n",
      "[M-H2O]+Na[2C13] 0.27\n",
      "[M-CO]+Na[C13] 0.27\n",
      "[M-CO]+Na[2C13] 0.27\n",
      "[2M-H2O]+H 0.2\n",
      "[2M-CO]+H 0.2\n",
      "[M-H2O]+2H 0.2\n",
      "[M-CO]+2H 0.2\n",
      "[M-H2O]+ACN+H 0.2\n",
      "[M-CO]+ACN+H 0.2\n",
      "[M-H2O]+H+CH3OH 0.2\n",
      "[M-CO]+H+CH3OH 0.2\n",
      "[M-H2O]+NH4 0.2\n",
      "[M-CO]+NH4 0.2\n",
      "[2M-H2O]+H[C13] 0.18\n",
      "[2M-H2O]+H[2C13] 0.18\n",
      "[2M-CO]+H[C13] 0.18\n",
      "[2M-CO]+H[2C13] 0.18\n",
      "[M-H2O]+2H[C13] 0.18\n",
      "[M-H2O]+2H[2C13] 0.18\n",
      "[M-CO]+2H[C13] 0.18\n",
      "[M-CO]+2H[2C13] 0.18\n",
      "[M-H2O]+ACN+H[C13] 0.18\n",
      "[M-H2O]+ACN+H[2C13] 0.18\n",
      "[M-CO]+ACN+H[C13] 0.18\n",
      "[M-CO]+ACN+H[2C13] 0.18\n",
      "[M-H2O]+H+CH3OH[C13] 0.18\n",
      "[M-H2O]+H+CH3OH[2C13] 0.18\n",
      "[M-CO]+H+CH3OH[C13] 0.18\n",
      "[M-CO]+H+CH3OH[2C13] 0.18\n",
      "[M-H2O]+NH4[C13] 0.18\n",
      "[M-H2O]+NH4[2C13] 0.18\n",
      "[M-CO]+NH4[C13] 0.18\n",
      "[M-CO]+NH4[2C13] 0.18\n"
     ]
    }
   ],
   "source": [
    "sorted_t = sorted(transformations,key = lambda x:x.vote,reverse=True)\n",
    "for tr in sorted_t:\n",
    "    print tr,tr.vote"
   ]
  },
  {
   "cell_type": "markdown",
   "metadata": {},
   "source": [
    "Plot intensity versus group vote"
   ]
  },
  {
   "cell_type": "code",
   "execution_count": 527,
   "metadata": {
    "collapsed": true
   },
   "outputs": [],
   "source": [
    "peaki = []\n",
    "gvote = []\n",
    "for g in groups:\n",
    "    for (p,_,_) in g.members:\n",
    "        peaki.append(p.intensity)\n",
    "        gvote.append(g.vote)"
   ]
  },
  {
   "cell_type": "code",
   "execution_count": 528,
   "metadata": {
    "collapsed": false
   },
   "outputs": [
    {
     "name": "stdout",
     "output_type": "stream",
     "text": [
      "0.117462813251 1.43902321206e-25\n"
     ]
    },
    {
     "data": {
      "image/png": "[encoded data removed]",
      "text/plain": [
       "<matplotlib.figure.Figure at 0x10c15d1d0>"
      ]
     },
     "metadata": {},
     "output_type": "display_data"
    }
   ],
   "source": [
    "plt.figure()\n",
    "plt.plot(np.log(peaki),gvote,'k.')\n",
    "plt.xlabel('Log peak intensity')\n",
    "plt.ylabel('Total vote of cotaining group')\n",
    "from scipy.stats.stats import pearsonr\n",
    "r,p = pearsonr(peaki,gvote)\n",
    "print r,p\n"
   ]
  },
  {
   "cell_type": "markdown",
   "metadata": {},
   "source": [
    "Look for groups that have C13 for two adducts, compute the ratios between the mono-isotope and the C13 and plot them against each other. They should lie close to the y=x line."
   ]
  },
  {
   "cell_type": "code",
   "execution_count": 529,
   "metadata": {
    "collapsed": false
   },
   "outputs": [
    {
     "name": "stdout",
     "output_type": "stream",
     "text": [
      "18\n"
     ]
    },
    {
     "data": {
      "text/plain": [
       "<matplotlib.text.Text at 0x110873f90>"
      ]
     },
     "execution_count": 529,
     "metadata": {},
     "output_type": "execute_result"
    },
    {
     "data": {
      "image/png": "[encoded data removed]",
      "text/plain": [
       "<matplotlib.figure.Figure at 0x10eed4a90>"
      ]
     },
     "metadata": {},
     "output_type": "display_data"
    }
   ],
   "source": [
    "#Change these names to see other things\n",
    "add1name = \"M+H\"\n",
    "add2name = \"M+NH4\"\n",
    "\n",
    "add1 = [t for t in transformations if t.name==add1name][0]\n",
    "add1C13 = [t for t in transformations if t.name==add1name + \"[C13]\"][0]\n",
    "\n",
    "add2 = [t for t in transformations if t.name==add2name][0]\n",
    "add2C13 = [t for t in transformations if t.name==add2name + \"[C13]\"][0]\n",
    "\n",
    "\n",
    "\n",
    "\n",
    "ratios = {}\n",
    "for g in groups:\n",
    "    # Extract the transformations\n",
    "    add1I = -1\n",
    "    add1C13I = -1\n",
    "    add2I = -1\n",
    "    add2C13I = -1\n",
    "    for p,t,_ in g.members:\n",
    "        if t == add1:\n",
    "            add1I = p.intensity\n",
    "        if t == add1C13:\n",
    "            add1C13I = p.intensity\n",
    "        if t == add2:\n",
    "            add2I = p.intensity\n",
    "        if t == add2C13:\n",
    "            add2C13I = p.intensity\n",
    "\n",
    "\n",
    "\n",
    "    if add1I > 0 and add1C13I > 0 and add2I > 0 and add2C13I > 0:\n",
    "        ratios[g] = (add1I/add1C13I,add2I/add2C13I)\n",
    "        if ratios[g][1] > 60:\n",
    "            print g.M,ratios[g]\n",
    "    \n",
    "\n",
    "\n",
    "print len(ratios)\n",
    "\n",
    "# Plot them\n",
    "a = []\n",
    "b = []\n",
    "for r in ratios:\n",
    "    a.append(ratios[r][0])\n",
    "    b.append(ratios[r][1])\n",
    "\n",
    "a = np.array(a)\n",
    "b = np.array(b)\n",
    "\n",
    "plt.figure()\n",
    "plt.plot(a,b,'ko')\n",
    "plt.xlim([0,a.max()+1])\n",
    "plt.ylim([0,b.max()+1])\n",
    "plt.plot([0,a.max()+1],[0,a.max()+1])\n",
    "\n",
    "plt.xlabel(add1)\n",
    "plt.ylabel(add2)\n",
    "plt.title('Ratio of mono-isotope to C13')"
   ]
  },
  {
   "cell_type": "code",
   "execution_count": 453,
   "metadata": {
    "collapsed": false
   },
   "outputs": [
    {
     "name": "stdout",
     "output_type": "stream",
     "text": [
      "M+H+CH3OH\n"
     ]
    }
   ],
   "source": [
    "print add2"
   ]
  },
  {
   "cell_type": "code",
   "execution_count": 461,
   "metadata": {
    "collapsed": false
   },
   "outputs": [
    {
     "name": "stdout",
     "output_type": "stream",
     "text": [
      "4.08e+05,4.63e+06\n"
     ]
    }
   ],
   "source": [
    "singletons = []\n",
    "non_singletons = []\n",
    "for g in groups:\n",
    "    if len(g.members) == 1:\n",
    "        singletons.append(g.members[0][0].intensity)\n",
    "    else:\n",
    "        for p,_,_ in g.members:\n",
    "            non_singletons.append(p.intensity)\n",
    "\n",
    "singletons = np.array(singletons)\n",
    "non_singletons = np.array(non_singletons)\n",
    "print \"{:.2e},{:.2e}\".format(singletons.mean(),non_singletons.mean())"
   ]
  },
  {
   "cell_type": "code",
   "execution_count": 469,
   "metadata": {
    "collapsed": false
   },
   "outputs": [
    {
     "data": {
      "text/plain": [
       "(array([   1.,   25.,  211.,  661.,  981.,  701.,  457.,  273.,  146.,   72.]),\n",
       " array([ 3.77028329,  4.13706178,  4.50384028,  4.87061877,  5.23739727,\n",
       "         5.60417577,  5.97095426,  6.33773276,  6.70451125,  7.07128975,\n",
       "         7.43806824]),\n",
       " <a list of 10 Patch objects>)"
      ]
     },
     "execution_count": 469,
     "metadata": {},
     "output_type": "execute_result"
    },
    {
     "data": {
      "image/png": "[encoded data removed]",
      "text/plain": [
       "<matplotlib.figure.Figure at 0x110044590>"
      ]
     },
     "metadata": {},
     "output_type": "display_data"
    },
    {
     "data": {
      "image/png": "[encoded data removed]",
      "text/plain": [
       "<matplotlib.figure.Figure at 0x110024c50>"
      ]
     },
     "metadata": {},
     "output_type": "display_data"
    }
   ],
   "source": [
    "plt.figure()\n",
    "(a,b,c) = plt.hist(np.log10(singletons))\n",
    "plt.figure()\n",
    "plt.hist(np.log10(non_singletons),bins=b)"
   ]
  },
  {
   "cell_type": "code",
   "execution_count": 474,
   "metadata": {
    "collapsed": false
   },
   "outputs": [
    {
     "name": "stdout",
     "output_type": "stream",
     "text": [
      "3515\n"
     ]
    }
   ],
   "source": [
    "print np.sum(singletons < 5e5)"
   ]
  },
  {
   "cell_type": "code",
   "execution_count": 471,
   "metadata": {
    "collapsed": false
   },
   "outputs": [
    {
     "name": "stdout",
     "output_type": "stream",
     "text": [
      "4267\n"
     ]
    }
   ],
   "source": [
    "print len(singletons)"
   ]
  },
  {
   "cell_type": "code",
   "execution_count": 476,
   "metadata": {
    "collapsed": false
   },
   "outputs": [
    {
     "name": "stdout",
     "output_type": "stream",
     "text": [
      "2016 7863\n"
     ]
    }
   ],
   "source": [
    "print len(groups) - np.sum(singletons < 5e5),len(coc.Z)"
   ]
  },
  {
   "cell_type": "code",
   "execution_count": 477,
   "metadata": {
    "collapsed": false
   },
   "outputs": [
    {
     "name": "stdout",
     "output_type": "stream",
     "text": [
      "2089\n"
     ]
    }
   ],
   "source": [
    "print np.sum(non_singletons < 5e5)"
   ]
  },
  {
   "cell_type": "markdown",
   "metadata": {},
   "source": [
    "Compare the standards found in two different outputs"
   ]
  },
  {
   "cell_type": "code",
   "execution_count": 585,
   "metadata": {
    "collapsed": false
   },
   "outputs": [
    {
     "name": "stdout",
     "output_type": "stream",
     "text": [
      "Beer_3_Full1\n"
     ]
    }
   ],
   "source": [
    "print filename"
   ]
  },
  {
   "cell_type": "code",
   "execution_count": 663,
   "metadata": {
    "collapsed": false
   },
   "outputs": [
    {
     "name": "stdout",
     "output_type": "stream",
     "text": [
      "batch1_Std_1_1 batch1_Std_1_2\n"
     ]
    }
   ],
   "source": [
    "file1 = files[2][1]\n",
    "file2 = files[3][1]\n",
    "compare1 = all_hits[file1]\n",
    "compare2 = all_hits[file2]\n",
    "print file1,file2"
   ]
  },
  {
   "cell_type": "code",
   "execution_count": null,
   "metadata": {
    "collapsed": true
   },
   "outputs": [],
   "source": []
  },
  {
   "cell_type": "code",
   "execution_count": 664,
   "metadata": {
    "collapsed": false
   },
   "outputs": [
    {
     "data": {
      "text/plain": [
       "[<matplotlib.lines.Line2D at 0x116fbf310>]"
      ]
     },
     "execution_count": 664,
     "metadata": {},
     "output_type": "execute_result"
    },
    {
     "data": {
      "image/png": "[encoded data removed]",
      "text/plain": [
       "<matplotlib.figure.Figure at 0x11f9d2310>"
      ]
     },
     "metadata": {},
     "output_type": "display_data"
    }
   ],
   "source": [
    "votes1 = []\n",
    "votes2 = []\n",
    "with open('{}_{}_std_comparison.txt'.format(file1,file2),'w') as f:\n",
    "    for mol in compare1:\n",
    "        if mol in compare2:\n",
    "            group1 = compare1[mol]\n",
    "            group2 = compare2[mol]\n",
    "            \n",
    "            votes1.append(group1.vote)\n",
    "            votes2.append(group2.vote)\n",
    "            \n",
    "            line = \"{}\\n\".format(mol)\n",
    "            f.write(line)\n",
    "            line = \"{} Vote: {}, {} Vote: {}\\n\".format(file1,group1.vote,file2,group2.vote)\n",
    "            f.write(line)\n",
    "            \n",
    "            line = \"{}\\n\".format(file1)\n",
    "            f.write(line)\n",
    "            \n",
    "            head_line = '\\tPeak m/z,Peak rt,Peak intensity,transformation (transformed mass,vote,relative intensity)\\n'\n",
    "            f.write(head_line)\n",
    "            \n",
    "            # find most intense peak\n",
    "            maxi = 0.0\n",
    "            for (peak,_,_) in group1.members:\n",
    "                if peak.intensity > maxi:\n",
    "                    maxi = peak.intensity\n",
    "                    \n",
    "            for (peak,transformation,transmass) in sorted(group1.members,key = lambda x: x[0].intensity,reverse=True):\n",
    "                line = \"\\t{:.4f},{:.4f},{:.2e},{} ({:.4f},{},{:.4f})\\n\".format(peak.mass,peak.rt,peak.intensity,transformation,transmass,transformation.vote,peak.intensity/maxi)\n",
    "                f.write(line)\n",
    "            f.write('\\n')\n",
    "            \n",
    "            line = \"{}\\n\".format(file2)\n",
    "            f.write(line)\n",
    "            \n",
    "            head_line = '\\tPeak m/z,Peak rt,Peak intensity,transformation (transformed mass,vote,relative intensity)\\n'\n",
    "            f.write(head_line)\n",
    "            \n",
    "            maxi = 0.0\n",
    "            for (peak,_,_) in group2.members:\n",
    "                if peak.intensity > maxi:\n",
    "                    maxi = peak.intensity\n",
    "            \n",
    "            for (peak,transformation,transmass) in sorted(group2.members,key = lambda x: x[0].intensity,reverse=True):\n",
    "                line = \"\\t{:.4f},{:.4f},{:.2e},{} ({:.4f},{},{:.4f})\\n\".format(peak.mass,peak.rt,peak.intensity,transformation,transmass,transformation.vote,peak.intensity/maxi)\n",
    "                f.write(line)\n",
    "            f.write('\\n')\n",
    "            \n",
    "            f.write('\\n\\n\\n')\n",
    "\n",
    "            \n",
    "plt.plot(votes1,votes2,'ko')\n"
   ]
  },
  {
   "cell_type": "code",
   "execution_count": 665,
   "metadata": {
    "collapsed": false
   },
   "outputs": [
    {
     "name": "stdout",
     "output_type": "stream",
     "text": [
      "0.765341115719 3.56953813096e-09\n"
     ]
    }
   ],
   "source": [
    "r,p = pearsonr(votes1,votes2)\n",
    "print r,p"
   ]
  },
  {
   "cell_type": "code",
   "execution_count": 650,
   "metadata": {
    "collapsed": false
   },
   "outputs": [
    {
     "name": "stdout",
     "output_type": "stream",
     "text": [
      "119.058249176119.058245197119.058230572119.058224245119.058192905\n",
      "92.04736948192.047360524792.047347466292.047338191492.0473166737\n",
      "174.100488504174.100381449\n",
      "169.073952118169.073812836169.073746967169.073709244\n",
      "105.042595579105.04258218105.042545329\n",
      "179.079310182179.079292806179.079291345179.079287414179.079263888179.079243158179.07683799179.076526047\n",
      "115.063379786115.063299053115.063296341115.063241104115.063155887\n",
      "155.069498213155.069468092155.069399106\n",
      "145.110285564145.110214387\n",
      "297.089578858297.089222526297.087968209\n",
      "190.095367232\n",
      "89.047675295589.047669887289.04765553689.0476145733\n",
      "131.058267792131.058254507131.05821493131.058189995131.058160652131.058158043131.058094661131.055727062\n",
      "221.090090083221.089986733221.089959187221.089867326221.089831466221.089811911221.089809943221.089794026221.089744033221.087381717221.087155974221.087084892\n",
      "132.053454876132.053443703132.053435018132.053431375132.053248096\n",
      "118.074234945118.074172502\n",
      "267.096493021267.096456569267.095229333\n",
      "117.079010921117.07897184117.078944735117.078917401117.078900194\n",
      "131.094673371131.094584063131.094565368131.094514205131.092130279\n",
      "111.043239921111.043236579111.043207812\n",
      "135.054525961135.054469408135.054440024\n",
      "188.116619885188.116074458188.11603551188.116010367188.115953999188.115931872188.11562556\n",
      "136.038526091136.038510156136.038498573\n",
      "149.051067033149.051022114149.050990575149.050984903149.048416545\n",
      "165.078959588165.078946878165.078922377\n",
      "268.08066659268.080558027268.080534198268.080500554268.078470764\n",
      "125.014685011125.014669248125.014657629125.014657014125.014597389\n",
      "176.094981922176.094960071176.094955956\n",
      "113.058995467113.058891627113.058872545113.058813372\n",
      "146.069219952146.069120663146.069118199146.06910992146.069106654146.069095794146.069085235146.069047274146.069039081146.066654492\n",
      "75.0320501616\n",
      "89.047675295589.047669887289.04765553689.0476145733\n",
      "204.090405436204.089976676204.089882579204.089873531204.089854634204.089791906204.08970419\n",
      "384.121888722384.121330123\n",
      "151.049385857151.049364782151.049345455151.049341313151.046792701\n",
      "175.095676042175.095673354175.09563703175.095618279175.095602252175.095592215175.095555811175.092988021175.092789223\n",
      "153.090137611\n",
      "232.121166514232.121116264232.121000176232.120999262232.120933449232.120879725232.120843265232.120767173\n",
      "376.137937971\n",
      "119.058250817119.058234621\n",
      "257.102768724257.102657388257.102549765257.102546819257.1024914257.102475026257.100622915257.100064169\n",
      "147.053193501147.053176097147.053113596147.050635215\n"
     ]
    }
   ],
   "source": []
  },
  {
   "cell_type": "code",
   "execution_count": 670,
   "metadata": {
    "collapsed": false
   },
   "outputs": [],
   "source": [
    "from databases import HMDB\n",
    "hm = HMDB()"
   ]
  },
  {
   "cell_type": "code",
   "execution_count": 707,
   "metadata": {
    "collapsed": false
   },
   "outputs": [
    {
     "name": "stdout",
     "output_type": "stream",
     "text": [
      "Urine_37_fullscan1_POS\n"
     ]
    }
   ],
   "source": [
    "print files[1][1]\n",
    "u_groups = groups[files[1][1]]\n",
    "temp_groups = sorted(u_groups,key = lambda x:x.vote,reverse=True)\n",
    "n_hits = 0\n",
    "raw_hits = 0\n",
    "ns_groups = 0\n",
    "n_peaks = 0\n",
    "for g in temp_groups:\n",
    "    if len(g.members) > 1:\n",
    "        ns_groups += 1\n",
    "        hits = hm.get_hits(g.M,tol=10)\n",
    "        if len(hits) > 0:\n",
    "            n_hits += 1\n",
    "        for p in g.members:\n",
    "            n_peaks += 1\n",
    "            hits = hm.get_hits(protonated.transform(p[0]),tol=10)\n",
    "            if len(hits) > 0:\n",
    "                raw_hits += 1\n"
   ]
  },
  {
   "cell_type": "code",
   "execution_count": 709,
   "metadata": {
    "collapsed": false
   },
   "outputs": [
    {
     "name": "stdout",
     "output_type": "stream",
     "text": [
      "0.460415065334 0.380369843528 1301 3515 599 1337\n"
     ]
    }
   ],
   "source": [
    "print 1.0*n_hits/ns_groups,1.0*raw_hits/n_peaks,ns_groups,n_peaks,n_hits,raw_hits"
   ]
  },
  {
   "cell_type": "code",
   "execution_count": 696,
   "metadata": {
    "collapsed": false
   },
   "outputs": [
    {
     "name": "stdout",
     "output_type": "stream",
     "text": [
      "0.213241950084\n"
     ]
    }
   ],
   "source": [
    "raw_hits = 0\n",
    "n_peaks = 0\n",
    "for g in temp_groups:\n",
    "    for p in g.members:\n",
    "        n_peaks += 1\n",
    "        hits = hm.get_hits(protonated.transform(p[0]),tol=1)\n",
    "        if len(hits) > 0:\n",
    "            raw_hits += 1\n",
    "print 1.0*raw_hits / n_peaks"
   ]
  },
  {
   "cell_type": "code",
   "execution_count": 697,
   "metadata": {
    "collapsed": false
   },
   "outputs": [
    {
     "name": "stdout",
     "output_type": "stream",
     "text": [
      "1649 7733 1246 5519\n"
     ]
    }
   ],
   "source": [
    "print raw_hits,n_peaks,n_hits,len(temp_groups)"
   ]
  },
  {
   "cell_type": "markdown",
   "metadata": {},
   "source": [
    "A bit of hypotheses testing take the peaks in the non-singleton groups, randomly pick a number equal to the number of groups, count the hits"
   ]
  },
  {
   "cell_type": "code",
   "execution_count": 715,
   "metadata": {
    "collapsed": false
   },
   "outputs": [],
   "source": [
    "ns_group_peaks_hits = []\n",
    "for g in temp_groups:\n",
    "    if len(g.members) > 1:\n",
    "        for p,_,_ in g.members:\n",
    "            h = hm.get_hits(protonated.transform(p),tol=10)\n",
    "            if len(h) > 0:\n",
    "                ns_group_peaks_hits.append(1)\n",
    "            else:\n",
    "                ns_group_peaks_hits.append(0)\n",
    "                "
   ]
  },
  {
   "cell_type": "code",
   "execution_count": 732,
   "metadata": {
    "collapsed": false
   },
   "outputs": [
    {
     "name": "stdout",
     "output_type": "stream",
     "text": [
      "599 1301\n",
      "1337\n",
      "3515\n"
     ]
    }
   ],
   "source": [
    "print n_hits,ns_groups\n",
    "print sum(ns_group_peaks_hits)\n",
    "print len(ns_group_peaks_hits)"
   ]
  },
  {
   "cell_type": "code",
   "execution_count": 728,
   "metadata": {
    "collapsed": false
   },
   "outputs": [],
   "source": [
    "counts = []\n",
    "from random import shuffle\n",
    "for i in range(10000):\n",
    "    shuffle(ns_group_peaks_hits)\n",
    "    counts.append(sum(ns_group_peaks_hits[:ns_groups]))"
   ]
  },
  {
   "cell_type": "code",
   "execution_count": 730,
   "metadata": {
    "collapsed": false
   },
   "outputs": [
    {
     "data": {
      "text/plain": [
       "[<matplotlib.lines.Line2D at 0x11d48b950>]"
      ]
     },
     "execution_count": 730,
     "metadata": {},
     "output_type": "execute_result"
    },
    {
     "data": {
      "image/png": "[encoded data removed]",
      "text/plain": [
       "<matplotlib.figure.Figure at 0x11d48b150>"
      ]
     },
     "metadata": {},
     "output_type": "display_data"
    }
   ],
   "source": [
    "plt.hist(counts)\n",
    "plt.plot([n_hits,n_hits],[0,3000])"
   ]
  },
  {
   "cell_type": "markdown",
   "metadata": {},
   "source": [
    "Compare singleton to non-singleton votes"
   ]
  },
  {
   "cell_type": "code",
   "execution_count": 733,
   "metadata": {
    "collapsed": true
   },
   "outputs": [],
   "source": [
    "vote_thresh = 1.0\n",
    "vh = []\n",
    "for g in temp_groups:\n",
    "    hits = hm.get_hits(g.M,tol=10)\n",
    "    if len(hits) > 0:\n",
    "        h = 1\n",
    "    else:\n",
    "        h = 0\n",
    "    vh.append((g.vote,h))\n",
    "\n"
   ]
  },
  {
   "cell_type": "code",
   "execution_count": 745,
   "metadata": {
    "collapsed": false
   },
   "outputs": [
    {
     "data": {
      "text/plain": [
       "<matplotlib.text.Text at 0x129db3b10>"
      ]
     },
     "execution_count": 745,
     "metadata": {},
     "output_type": "execute_result"
    },
    {
     "data": {
      "image/png": "[encoded data removed]",
      "text/plain": [
       "<matplotlib.figure.Figure at 0x128e4c950>"
      ]
     },
     "metadata": {},
     "output_type": "display_data"
    },
    {
     "data": {
      "image/png": "[encoded data removed]",
      "text/plain": [
       "<matplotlib.figure.Figure at 0x127dbaad0>"
      ]
     },
     "metadata": {},
     "output_type": "display_data"
    }
   ],
   "source": [
    "v_thresh = np.arange(1.0,7.0,0.5)\n",
    "overs = []\n",
    "unders = []\n",
    "sizes = []\n",
    "for vth in v_thresh:\n",
    "    over = []\n",
    "    under = []\n",
    "    for v,h in vh:\n",
    "        if v > vth:\n",
    "            over.append(h)\n",
    "        else:\n",
    "            under.append(h)\n",
    "\n",
    "    over = np.array(over)\n",
    "    under = np.array(under)\n",
    "    overs.append(over.mean())\n",
    "    unders.append(under.mean())\n",
    "    sizes.append(len(over))\n",
    "\n",
    "overs = np.array(overs)\n",
    "unders = np.array(unders)\n",
    "\n",
    "plt.figure()\n",
    "plt.plot(v_thresh,overs)\n",
    "plt.plot(v_thresh,unders)\n",
    "plt.xlabel('Vote threshold')\n",
    "plt.ylabel('Proportion of groups exceeding threshold with hits')\n",
    "\n",
    "plt.figure()\n",
    "plt.plot(v_thresh,sizes)\n",
    "plt.xlabel('Vote threshold')\n",
    "plt.ylabel('Number of groups')"
   ]
  },
  {
   "cell_type": "code",
   "execution_count": null,
   "metadata": {
    "collapsed": true
   },
   "outputs": [],
   "source": []
  }
 ],
 "metadata": {
  "kernelspec": {
   "display_name": "Python 2",
   "language": "python",
   "name": "python2"
  },
  "language_info": {
   "codemirror_mode": {
    "name": "ipython",
    "version": 2
   },
   "file_extension": ".py",
   "mimetype": "text/x-python",
   "name": "python",
   "nbconvert_exporter": "python",
   "pygments_lexer": "ipython2",
   "version": "2.7.10"
  }
 },
 "nbformat": 4,
 "nbformat_minor": 0
}
