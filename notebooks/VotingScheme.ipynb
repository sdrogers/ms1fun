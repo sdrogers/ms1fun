{
 "cells": [
  {
   "cell_type": "code",
   "execution_count": 478,
   "metadata": {
    "collapsed": false
   },
   "outputs": [
    {
     "name": "stdout",
     "output_type": "stream",
     "text": [
      "The autoreload extension is already loaded. To reload it, use:\n",
      "  %reload_ext autoreload\n"
     ]
    }
   ],
   "source": [
    "%load_ext autoreload\n",
    "%autoreload 2\n",
    "import os\n",
    "import sys\n",
    "import numpy as np\n",
    "from scipy import stats\n",
    "\n",
    "base_dir = '/Users/simon/git/ms1fun/'\n",
    "sys.path.append(base_dir + 'code')\n",
    "sys.path.append(base_dir + 'dbs')\n",
    "\n",
    "from corr_cluster import Peak,BetaLike,CorrCluster\n",
    "from formula import Formula\n",
    "import pylab as plt\n",
    "%matplotlib inline\n"
   ]
  },
  {
   "cell_type": "markdown",
   "metadata": {},
   "source": [
    "Grab some files"
   ]
  },
  {
   "cell_type": "code",
   "execution_count": 631,
   "metadata": {
    "collapsed": true
   },
   "outputs": [],
   "source": [
    "files = []\n",
    "\n",
    "prefix = '/Users/simon/Downloads/Beer3_mzXML_mzML_files/PositiveMode/Beer3Full/csv/'\n",
    "filename = 'Beer_3_Full1'\n",
    "files.append((prefix,filename,False))"
   ]
  },
  {
   "cell_type": "code",
   "execution_count": 632,
   "metadata": {
    "collapsed": true
   },
   "outputs": [],
   "source": [
    "prefix = '/Users/simon/Dropbox/BioResearch/MS2LDA/Urine/conv/csv/'\n",
    "filename = 'Urine_37_fullscan1_POS'\n",
    "files.append((prefix,filename,False))"
   ]
  },
  {
   "cell_type": "code",
   "execution_count": 633,
   "metadata": {
    "collapsed": true
   },
   "outputs": [],
   "source": [
    "prefix = '/Users/simon/Dropbox/BioResearch/Meta_clustering/StandardData140606/csv/'\n",
    "filename = 'batch1_Std_1_1'\n",
    "files.append((prefix,filename,True))\n",
    "\n",
    "filename = 'batch1_Std_1_2'\n",
    "files.append((prefix,filename,True))\n",
    "\n",
    "filename = 'batch1_Std_2_1'\n",
    "files.append((prefix,filename,True))\n",
    "\n",
    "filename = 'batch1_Std_2_2'\n",
    "files.append((prefix,filename,True))"
   ]
  },
  {
   "cell_type": "code",
   "execution_count": 634,
   "metadata": {
    "collapsed": false
   },
   "outputs": [
    {
     "name": "stdout",
     "output_type": "stream",
     "text": [
      "Loaded 72 transformations\n"
     ]
    }
   ],
   "source": [
    "import transformation\n",
    "transformations = transformation.load_from_file(base_dir + 'dbs/pos_transformations_reduced.yml')\n",
    "print \"Loaded \" + str(len(transformations)) + \" transformations\""
   ]
  },
  {
   "cell_type": "markdown",
   "metadata": {},
   "source": [
    "Define the molecule object"
   ]
  },
  {
   "cell_type": "code",
   "execution_count": 635,
   "metadata": {
    "collapsed": true
   },
   "outputs": [],
   "source": [
    "PROTON = 1.00727645199076\n",
    "\n",
    "\n",
    "class Mol(object):\n",
    "    def __init__(self,name,formula,mass,rt):\n",
    "        self.name = name.strip()\n",
    "        self.formula = formula.strip()\n",
    "        self.mass = mass\n",
    "        self.rt = rt\n",
    "    def __str__(self):\n",
    "        return \"{} ({},{})\".format(self.name,self.mass,self.rt)\n",
    "    def __repr__(self):\n",
    "        return \"{} ({},{})\".format(self.name,self.mass,self.rt)"
   ]
  },
  {
   "cell_type": "markdown",
   "metadata": {},
   "source": [
    "Load the standards database from file"
   ]
  },
  {
   "cell_type": "code",
   "execution_count": 636,
   "metadata": {
    "collapsed": false
   },
   "outputs": [
    {
     "name": "stdout",
     "output_type": "stream",
     "text": [
      "1_3-Diaminopropane (74.0843983319,738.6)\n",
      "Glycine (75.0320284101,658.8)\n",
      "1-Aminopropan-2-ol (75.0684139166,938.4)\n",
      "Mercaptoethanol (78.0139355049,1307.4)\n",
      "beta-Alanine (89.0476784744,646.2)\n",
      "L-Alanine (89.0476784744,633.6)\n",
      "Glycerol (92.0473441234,480.0)\n",
      "Phenol (94.0418648149,250.8)\n",
      "1-Aminocyclopropane-1-carboxylate (101.047678474,569.4)\n",
      "2-Aminobutan-4-olide (101.047678474,379.8)\n",
      "4-Aminobutanoate (103.063328539,649.2)\n",
      "Choline (103.099714045,915.0)\n",
      "L-2_3-Diaminopropanoate (104.058577512,654.6)\n",
      "L-Serine (105.042593097,657.6)\n",
      "Phenylhydrazine (108.068748268,301.8)\n",
      "cytosine (111.043261799,552.6)\n",
      "Uracil (112.027277383,463.2)\n",
      "Creatinine (113.058911863,496.8)\n",
      "L-Proline (115.063328539,580.8)\n",
      "Selenomethionine (117.078978603,538.8)\n",
      "L-Valine (117.078978603,570.6)\n",
      "Betaine (117.078978603,534.6)\n",
      "L-2_4-Diaminobutanoate (118.074227576,743.4)\n",
      "L-Threonine (119.058243161,619.2)\n",
      "L-homoserine (119.058243161,637.8)\n",
      "L-cysteine (121.019749164,612.6)\n",
      "Nicotinamide (122.048012825,400.8)\n",
      "Nicotinate (123.03202841,412.2)\n",
      "Picolinic acid (123.03202841,453.0)\n",
      "Isonicotinic acid (123.03202841,415.2)\n",
      "Taurine (125.014663787,642.6)\n",
      "Imidazole-4-acetate (126.042927448,532.2)\n",
      "thymine (126.042927448,421.8)\n",
      "5-Oxoproline (129.042593097,491.4)\n",
      "agmatine (130.121846471,694.2)\n",
      "trans-4-Hydroxy-L-proline (131.058243161,622.8)\n",
      "5-Aminolevulinate (131.058243161,578.4)\n",
      "L-Leucine (131.094628667,520.8)\n",
      "L-isoleucine (131.094628667,551.4)\n",
      "L-Asparagine (132.053492134,638.4)\n",
      "Glycylglycine (132.053492134,589.8)\n",
      "L-Ornithine (132.08987764,871.2)\n",
      "L-Aspartate (133.037507719,620.4)\n",
      "Methylcysteine (135.035399229,547.8)\n",
      "L-Homocysteine (135.035399229,655.2)\n",
      "Adenine (135.054495187,492.0)\n",
      "Hypoxanthine (136.038510772,514.2)\n",
      "4-Aminobenzoate (137.047678474,511.2)\n",
      "Ethanolamine phosphate (141.019094263,647.4)\n",
      "4-Trimethylammoniobutanoate (145.110278732,583.2)\n",
      "Acetylcholine (145.110278732,754.2)\n",
      "Spermidine (145.157897626,655.2)\n",
      "L-Glutamine (146.069142198,633.0)\n",
      "Ala-Gly (146.069142198,540.0)\n",
      "L-Lysine (146.105527705,927.6)\n",
      "O-Acetyl-L-serine (147.053157783,586.8)\n",
      "L-Methionine (149.051049293,541.2)\n",
      "6-Methylaminopurine (149.070145251,438.0)\n",
      "Guanine (151.049409809,589.8)\n",
      "2-Phenylglycine (151.063328539,434.4)\n",
      "Dopamine (153.078978603,287.4)\n",
      "4-(beta-Acetylaminoethyl)imidazole (153.090211991,417.0)\n",
      "2-hydroxyethyldisulfide (154.012220946,402.6)\n",
      "L-Histidine (155.069476549,622.8)\n",
      "L-2-Aminoadipate (161.068807847,613.8)\n",
      "L-Carnitine (161.105193354,589.8)\n",
      "L-Phenylalanine (165.078978603,499.8)\n",
      "Thiopurine S-methylether (166.031316904,377.4)\n",
      "Pyridoxal (167.058243161,429.6)\n",
      "Pyridoxine (169.073893225,435.6)\n",
      "L-Noradrenaline (169.073893225,457.8)\n",
      "N(pi)-Methyl-L-histidine (169.085126613,567.0)\n",
      "N-Acetylornithine (174.100442327,634.8)\n",
      "L-Arginine (174.111675715,996.0)\n",
      "L-Citrulline (175.0956913,656.4)\n",
      "Serotonin (176.094963018,259.2)\n",
      "D-Glucosamine (179.079372534,642.6)\n",
      "L-Tyrosine (181.073893225,338.4)\n",
      "Eflornithine (182.08668405,592.2)\n",
      "Choline phosphate (183.066044456,615.0)\n",
      "1-Naphthylacetic acid (186.068079566,249.6)\n",
      "N2-Acetyl-L-lysine (188.116092391,628.2)\n",
      "meso-2_6-Diaminoheptanedioate (190.095356949,704.4)\n",
      "5-Methoxytryptamine (190.110613083,389.4)\n",
      "Spermine (202.215746857,660.6)\n",
      "O-Acetylcarnitine (203.11575804,520.2)\n",
      "L-Tryptophan (204.08987764,555.0)\n",
      "lipoamide (205.059505489,294.0)\n",
      "Dihydrolipoamide (207.075155554,277.8)\n",
      "L-Kynurenine (208.084792262,525.6)\n",
      "Pantothenate (219.110672662,442.8)\n",
      "N-Acetyl-D-glucosamine (221.08993722,550.2)\n",
      "L-Cystathionine (222.067427639,671.4)\n",
      "Melatonin (232.121177769,276.0)\n",
      "HEPES (238.098727767,493.8)\n",
      "L-Cystine (240.023848265,646.2)\n",
      "L-Cystine (240.023848265,647.4)\n",
      "Cytidine (243.085520544,561.6)\n",
      "gamma-L-Glutamyl-L-cysteine (250.062342261,591.6)\n",
      "Deoxyadenosine (251.10183931,444.0)\n",
      "sn-glycero-3-Phosphocholine (257.102823893,607.8)\n",
      "D-Glucosamine-6-phosphate (259.045702944,646.8)\n",
      "Thiamin (264.104481847,971.4)\n",
      "Adenosine (267.096753932,473.4)\n",
      "Inosine (268.080769517,528.0)\n",
      "Guanosine (283.091668555,579.6)\n",
      "5'-Methylthioadenosine (297.089560065,389.4)\n",
      "dCMP (307.056936332,599.4)\n",
      "glutathione (307.083805985,592.8)\n",
      "dAMP (331.068169721,543.6)\n",
      "dGMP (347.063084343,622.8)\n",
      "AMP (347.063084343,570.6)\n",
      "riboflavin (376.138284396,452.4)\n",
      "S-Adenosyl-L-homocysteine (384.121588475,579.6)\n",
      "Bis-gamma-glutamylcystine (498.109034458,668.4)\n",
      "Glutathione disulfide (612.151961905,655.2)\n",
      "FAD (785.157134463,505.2)\n"
     ]
    }
   ],
   "source": [
    "std_file = base_dir + 'dbs/std1_20130822_130526.csv'\n",
    "std_file = '/Users/simon/Downloads/Beer3_mzXML_mzML_files/Std1_1_20150422_150810_combined.csv'\n",
    "mols = []\n",
    "with open(std_file,'rU') as f:\n",
    "    for i in range(9):\n",
    "        f.readline() # remove heads\n",
    "    for line in f:\n",
    "        split_line = line.split(',')\n",
    "        polarity = split_line[4]\n",
    "        rts = split_line[9] # observed, not predicted\n",
    "        if rts == '-':\n",
    "            rt = 0.0\n",
    "        else:\n",
    "            rt = float(rts)\n",
    "        if polarity == '+' and rt > 0.0:\n",
    "            name = split_line[2]\n",
    "            formula = split_line[3]\n",
    "            f = Formula(formula)\n",
    "            new_mol = Mol(name,formula,f.compute_exact_mass(),rt*60.0)\n",
    "            mols.append(new_mol)\n",
    "mols = sorted(mols,key = lambda x: x.mass)\n",
    "for mol in mols:\n",
    "    print mol"
   ]
  },
  {
   "cell_type": "code",
   "execution_count": 637,
   "metadata": {
    "collapsed": false
   },
   "outputs": [
    {
     "name": "stdout",
     "output_type": "stream",
     "text": [
      "Running file Beer_3_Full1\n",
      "1421.38000488\n",
      "Loaded 7863 peaks\n",
      "Reading shape correlations from /Users/simon/Downloads/Beer3_mzXML_mzML_files/PositiveMode/Beer3Full/csv/Beer_3_Full1.corr.mat\n",
      "Greedy clustering done, resulting in 1116 clusters\n",
      "Running file Urine_37_fullscan1_POS\n",
      "Loaded 7733 peaks\n",
      "Reading shape correlations from /Users/simon/Dropbox/BioResearch/MS2LDA/Urine/conv/csv/Urine_37_fullscan1_POS.corr.mat\n",
      "Greedy clustering done, resulting in 1237 clusters\n",
      "Running file batch1_Std_1_1\n",
      "1357.622802\n",
      "Loaded 6150 peaks\n",
      "Reading shape correlations from /Users/simon/Dropbox/BioResearch/Meta_clustering/StandardData140606/csv/batch1_Std_1_1.corr.mat\n",
      "Greedy clustering done, resulting in 1343 clusters\n",
      "Running file batch1_Std_1_2\n",
      "Loaded 5624 peaks\n",
      "Reading shape correlations from /Users/simon/Dropbox/BioResearch/Meta_clustering/StandardData140606/csv/batch1_Std_1_2.corr.mat\n",
      "Greedy clustering done, resulting in 1288 clusters\n",
      "Running file batch1_Std_2_1\n",
      "1387.3\n",
      "Loaded 6355 peaks\n",
      "Reading shape correlations from /Users/simon/Dropbox/BioResearch/Meta_clustering/StandardData140606/csv/batch1_Std_2_1.corr.mat\n",
      "Greedy clustering done, resulting in 1271 clusters\n",
      "Running file batch1_Std_2_2\n",
      "Loaded 6274 peaks\n",
      "Reading shape correlations from /Users/simon/Dropbox/BioResearch/Meta_clustering/StandardData140606/csv/batch1_Std_2_2.corr.mat\n",
      "Greedy clustering done, resulting in 1257 clusters\n"
     ]
    }
   ],
   "source": [
    "bl = BetaLike()\n",
    "clusterings = {}\n",
    "for f in files:\n",
    "\n",
    "    filename = f[1]\n",
    "    prefix = f[0]\n",
    "    print \"Running file \" + filename\n",
    "    csvfile = prefix + filename + '.csv'\n",
    "    matfile = prefix + filename + '.corr.mat'\n",
    "    signalfile = prefix + filename + '.peakml.signal'\n",
    "    # Simon is an idiot...remember to change 'correct = True' or 'correct = False' \n",
    "    # coc = CorrCluster(bl,csvfile,matfile,signal_file=signalfile,greedy_thresh=0.7,correct=True)\n",
    "    coc = CorrCluster(bl,csvfile,matfile,signal_file=signalfile,greedy_thresh=0.7,correct=f[2])\n",
    "    clusterings[filename] = coc"
   ]
  },
  {
   "cell_type": "markdown",
   "metadata": {},
   "source": [
    "Find the protonated transformation for baselining"
   ]
  },
  {
   "cell_type": "code",
   "execution_count": 638,
   "metadata": {
    "collapsed": false
   },
   "outputs": [],
   "source": [
    "protonated = [t for t in transformations if t.name=='M+H'][0]"
   ]
  },
  {
   "cell_type": "markdown",
   "metadata": {},
   "source": [
    "Functions for matching peaks to a database"
   ]
  },
  {
   "cell_type": "code",
   "execution_count": 639,
   "metadata": {
    "collapsed": false
   },
   "outputs": [],
   "source": [
    "def hit(m1,m2,rt1,rt2,mtol=20,rttol=1):\n",
    "    if 1e6*np.abs(m1-m2)/m2 < mtol and np.abs(rt1-rt2)<rttol:\n",
    "        return True\n",
    "    else:\n",
    "        return False\n",
    "    \n",
    "def get_hits(peaks,mols,transformations,mtol=20,rttol = 120.0):\n",
    "    hits = {}\n",
    "    for mol in mols:\n",
    "        for peak in peaks:\n",
    "            for t in transformations:\n",
    "                if hit(t.transform(peak),mol.mass,peak.rt,mol.rt,mtol = mtol,rttol = rttol):\n",
    "                    if mol in hits:\n",
    "                        if np.abs(peak.rt - mol.rt) < np.abs(hits[mol].rt - mol.rt):\n",
    "                            hits[mol] = peak\n",
    "                    else:\n",
    "                        hits[mol] = peak\n",
    "    return hits"
   ]
  },
  {
   "cell_type": "markdown",
   "metadata": {},
   "source": [
    "Perform the voting..."
   ]
  },
  {
   "cell_type": "code",
   "execution_count": 640,
   "metadata": {
    "collapsed": false
   },
   "outputs": [
    {
     "name": "stdout",
     "output_type": "stream",
     "text": [
      "Performing voting on file Beer_3_Full1\n",
      "Performing voting on file Urine_37_fullscan1_POS\n",
      "Performing voting on file batch1_Std_1_1\n",
      "Performing voting on file batch1_Std_1_2\n",
      "Performing voting on file batch1_Std_2_1\n",
      "Performing voting on file batch1_Std_2_2\n"
     ]
    }
   ],
   "source": [
    "from voter import Voter,PeakGroup\n",
    "groups = {}\n",
    "for f in files:\n",
    "    v = Voter(transformations)\n",
    "    filename = f[1]\n",
    "    print \"Performing voting on file {}\".format(filename)\n",
    "    file_groups = []\n",
    "    for cluster in clusterings[filename].clusters:\n",
    "        file_groups += v.make_groups(cluster.members)\n",
    "    groups[filename] = file_groups"
   ]
  },
  {
   "cell_type": "code",
   "execution_count": 641,
   "metadata": {
    "collapsed": false
   },
   "outputs": [],
   "source": [
    "def get_M_hits(groups,mols,use_max_vote = True):\n",
    "    hits = {}\n",
    "    for g in groups:\n",
    "        for mol in mols:\n",
    "            if hit(mol.mass,g.M,mol.rt,g.rt,mtol=10,rttol=10):\n",
    "                if not mol in hits:\n",
    "                    hits[mol] = g\n",
    "                else:\n",
    "                    if use_max_vote:\n",
    "                        if g.vote > hits[mol]:\n",
    "                            hits[mol] = g\n",
    "                    else:\n",
    "                        current = hits[mol]\n",
    "                        if np.abs(g.rt - mol.rt) < np.abs(current.rt - mol.rt):\n",
    "                            hits[mol] = g\n",
    "                \n",
    "    return hits\n"
   ]
  },
  {
   "cell_type": "code",
   "execution_count": 642,
   "metadata": {
    "collapsed": true
   },
   "outputs": [],
   "source": [
    "all_hits = {}\n",
    "for f in files:\n",
    "    filename = f[1]\n",
    "    all_hits[filename] = get_M_hits(groups[filename],mols,use_max_vote = True)\n",
    "\n",
    "    "
   ]
  },
  {
   "cell_type": "markdown",
   "metadata": {},
   "source": [
    "Output a file with the groups (and peaks that form them)"
   ]
  },
  {
   "cell_type": "code",
   "execution_count": 643,
   "metadata": {
    "collapsed": false
   },
   "outputs": [],
   "source": [
    "# Sort the groups according to votes (top ones first)\n",
    "for f in files:\n",
    "    filename = f[1]\n",
    "    outpre = filename\n",
    "\n",
    "    temp_groups = sorted(groups[filename],key = lambda x:x.vote,reverse=True)\n",
    "    outfile = outpre + '_by_vote.txt'\n",
    "    \n",
    "\n",
    "    with open(outfile,'w') as f:\n",
    "        for i,group in enumerate(temp_groups):\n",
    "            line = \"vote: {}, M: {}\\n\".format(group.vote,group.M)\n",
    "            f.write(line)\n",
    "            head_line = '\\tPeak m/z,Peak rt,Peak intensity,transformation (transformed mass,vote)\\n'\n",
    "            f.write(head_line)\n",
    "            for (peak,transformation,transmass) in sorted(group.members,key = lambda x: x[1].vote,reverse=True):\n",
    "                line = \"\\t{:.4f},{:.4f},{:.2e},{} ({:.4f},{})\\n\".format(peak.mass,peak.rt,peak.intensity,transformation,transmass,transformation.vote)\n",
    "                f.write(line)\n",
    "            f.write('\\n')\n",
    "            \n",
    "    temp_groups = sorted(groups[filename],key = lambda x:x.M)\n",
    "    outfile = outpre + '_by_M.txt'\n",
    "    \n",
    "    with open(outfile,'w') as f:\n",
    "        for i,group in enumerate(temp_groups):\n",
    "            line = \"vote: {}, M: {}\\n\".format(group.vote,group.M)\n",
    "            f.write(line)\n",
    "            head_line = '\\tPeak m/z,Peak rt,Peak intensity,transformation (transformed mass,vote)\\n'\n",
    "            f.write(head_line)\n",
    "            for (peak,transformation,transmass) in sorted(group.members,key = lambda x: x[1].vote,reverse=True):\n",
    "                line = \"\\t{:.4f},{:.4f},{:.2e},{} ({:.4f},{})\\n\".format(peak.mass,peak.rt,peak.intensity,transformation,transmass,transformation.vote)\n",
    "                f.write(line)\n",
    "            f.write('\\n')\n",
    "\n",
    "    with open(outpre + '_matched_std.txt','w') as f:\n",
    "        for mol in all_hits[filename]:\n",
    "            group = all_hits[filename][mol]\n",
    "            line = \"{} (vote={})\\n\".format(mol,group.vote)\n",
    "            f.write(line)\n",
    "            head_line = '\\tPeak m/z,Peak rt,Peak intensity,transformation (transformed mass,vote)\\n'\n",
    "            f.write(head_line)\n",
    "            for (peak,transformation,transmass) in sorted(group.members,key = lambda x: x[1].vote,reverse=True):\n",
    "                line = \"\\t{:.4f},{:.4f},{:.2e},{} ({:.4f},{})\\n\".format(peak.mass,peak.rt,peak.intensity,transformation,transmass,transformation.vote)\n",
    "                f.write(line)\n",
    "            f.write('\\n')\n",
    "\n",
    "\n",
    "    include_singletons = False\n",
    "    trans_counts = {}\n",
    "    tot = 0\n",
    "    for tr in transformations:\n",
    "        trans_counts[tr] = 0\n",
    "    for group in groups[filename]:\n",
    "        if not include_singletons:\n",
    "            if len(group.members) == 1:\n",
    "                continue\n",
    "        for p,t,_ in group.members:\n",
    "            trans_counts[t] += 1\n",
    "            tot += 1\n",
    "\n",
    "    with open(outpre + '_tran_counts.txt','w') as f:\n",
    "        for tr in sorted(transformations,key = lambda x: x.vote, reverse=True):\n",
    "            line = \"{},{},{:.4f}\\n\".format(tr,trans_counts[tr],trans_counts[tr]/(1.0*tot))\n",
    "            f.write(line)"
   ]
  },
  {
   "cell_type": "markdown",
   "metadata": {},
   "source": [
    "List the transformations and their votes"
   ]
  },
  {
   "cell_type": "code",
   "execution_count": 526,
   "metadata": {
    "collapsed": false
   },
   "outputs": [
    {
     "name": "stdout",
     "output_type": "stream",
     "text": [
      "M+H 1.0\n",
      "M+H[C13] 0.9\n",
      "M+H[2C13] 0.9\n",
      "M+K 0.6\n",
      "M+Na 0.6\n",
      "M+K[C13] 0.54\n",
      "M+K[2C13] 0.54\n",
      "M+Na[C13] 0.54\n",
      "M+Na[2C13] 0.54\n",
      "[M-H2O]+H 0.5\n",
      "[M-CO]+H 0.5\n",
      "[M-H2O]+H[C13] 0.45\n",
      "[M-H2O]+H[2C13] 0.45\n",
      "[M-CO]+H[C13] 0.45\n",
      "[M-CO]+H[2C13] 0.45\n",
      "2M+H 0.4\n",
      "M+2H 0.4\n",
      "M+ACN+H 0.4\n",
      "M+H+CH3OH 0.4\n",
      "M+NH4 0.4\n",
      "2M+H[C13] 0.36\n",
      "2M+H[2C13] 0.36\n",
      "M+2H[C13] 0.36\n",
      "M+2H[2C13] 0.36\n",
      "M+ACN+H[C13] 0.36\n",
      "M+ACN+H[2C13] 0.36\n",
      "M+H+CH3OH[C13] 0.36\n",
      "M+H+CH3OH[2C13] 0.36\n",
      "M+NH4[C13] 0.36\n",
      "M+NH4[2C13] 0.36\n",
      "[M-H2O]+K 0.3\n",
      "[M-CO]+K 0.3\n",
      "[M-H2O]+Na 0.3\n",
      "[M-CO]+Na 0.3\n",
      "[M-H2O]+K[C13] 0.27\n",
      "[M-H2O]+K[2C13] 0.27\n",
      "[M-CO]+K[C13] 0.27\n",
      "[M-CO]+K[2C13] 0.27\n",
      "[M-H2O]+Na[C13] 0.27\n",
      "[M-H2O]+Na[2C13] 0.27\n",
      "[M-CO]+Na[C13] 0.27\n",
      "[M-CO]+Na[2C13] 0.27\n",
      "[2M-H2O]+H 0.2\n",
      "[2M-CO]+H 0.2\n",
      "[M-H2O]+2H 0.2\n",
      "[M-CO]+2H 0.2\n",
      "[M-H2O]+ACN+H 0.2\n",
      "[M-CO]+ACN+H 0.2\n",
      "[M-H2O]+H+CH3OH 0.2\n",
      "[M-CO]+H+CH3OH 0.2\n",
      "[M-H2O]+NH4 0.2\n",
      "[M-CO]+NH4 0.2\n",
      "[2M-H2O]+H[C13] 0.18\n",
      "[2M-H2O]+H[2C13] 0.18\n",
      "[2M-CO]+H[C13] 0.18\n",
      "[2M-CO]+H[2C13] 0.18\n",
      "[M-H2O]+2H[C13] 0.18\n",
      "[M-H2O]+2H[2C13] 0.18\n",
      "[M-CO]+2H[C13] 0.18\n",
      "[M-CO]+2H[2C13] 0.18\n",
      "[M-H2O]+ACN+H[C13] 0.18\n",
      "[M-H2O]+ACN+H[2C13] 0.18\n",
      "[M-CO]+ACN+H[C13] 0.18\n",
      "[M-CO]+ACN+H[2C13] 0.18\n",
      "[M-H2O]+H+CH3OH[C13] 0.18\n",
      "[M-H2O]+H+CH3OH[2C13] 0.18\n",
      "[M-CO]+H+CH3OH[C13] 0.18\n",
      "[M-CO]+H+CH3OH[2C13] 0.18\n",
      "[M-H2O]+NH4[C13] 0.18\n",
      "[M-H2O]+NH4[2C13] 0.18\n",
      "[M-CO]+NH4[C13] 0.18\n",
      "[M-CO]+NH4[2C13] 0.18\n"
     ]
    }
   ],
   "source": [
    "sorted_t = sorted(transformations,key = lambda x:x.vote,reverse=True)\n",
    "for tr in sorted_t:\n",
    "    print tr,tr.vote"
   ]
  },
  {
   "cell_type": "markdown",
   "metadata": {},
   "source": [
    "Plot intensity versus group vote"
   ]
  },
  {
   "cell_type": "code",
   "execution_count": 527,
   "metadata": {
    "collapsed": true
   },
   "outputs": [],
   "source": [
    "peaki = []\n",
    "gvote = []\n",
    "for g in groups:\n",
    "    for (p,_,_) in g.members:\n",
    "        peaki.append(p.intensity)\n",
    "        gvote.append(g.vote)"
   ]
  },
  {
   "cell_type": "code",
   "execution_count": 528,
   "metadata": {
    "collapsed": false
   },
   "outputs": [
    {
     "name": "stdout",
     "output_type": "stream",
     "text": [
      "0.117462813251 1.43902321206e-25\n"
     ]
    },
    {
     "data": {
      "image/png": "[encoded data removed]",
      "text/plain": [
       "<matplotlib.figure.Figure at 0x10c15d1d0>"
      ]
     },
     "metadata": {},
     "output_type": "display_data"
    }
   ],
   "source": [
    "plt.figure()\n",
    "plt.plot(np.log(peaki),gvote,'k.')\n",
    "plt.xlabel('Log peak intensity')\n",
    "plt.ylabel('Total vote of cotaining group')\n",
    "from scipy.stats.stats import pearsonr\n",
    "r,p = pearsonr(peaki,gvote)\n",
    "print r,p\n"
   ]
  },
  {
   "cell_type": "markdown",
   "metadata": {},
   "source": [
    "Look for groups that have C13 for two adducts, compute the ratios between the mono-isotope and the C13 and plot them against each other. They should lie close to the y=x line."
   ]
  },
  {
   "cell_type": "code",
   "execution_count": 529,
   "metadata": {
    "collapsed": false
   },
   "outputs": [
    {
     "name": "stdout",
     "output_type": "stream",
     "text": [
      "18\n"
     ]
    },
    {
     "data": {
      "text/plain": [
       "<matplotlib.text.Text at 0x110873f90>"
      ]
     },
     "execution_count": 529,
     "metadata": {},
     "output_type": "execute_result"
    },
    {
     "data": {
      "image/png": "[encoded data removed]",
      "text/plain": [
       "<matplotlib.figure.Figure at 0x10eed4a90>"
      ]
     },
     "metadata": {},
     "output_type": "display_data"
    }
   ],
   "source": [
    "#Change these names to see other things\n",
    "add1name = \"M+H\"\n",
    "add2name = \"M+NH4\"\n",
    "\n",
    "add1 = [t for t in transformations if t.name==add1name][0]\n",
    "add1C13 = [t for t in transformations if t.name==add1name + \"[C13]\"][0]\n",
    "\n",
    "add2 = [t for t in transformations if t.name==add2name][0]\n",
    "add2C13 = [t for t in transformations if t.name==add2name + \"[C13]\"][0]\n",
    "\n",
    "\n",
    "\n",
    "\n",
    "ratios = {}\n",
    "for g in groups:\n",
    "    # Extract the transformations\n",
    "    add1I = -1\n",
    "    add1C13I = -1\n",
    "    add2I = -1\n",
    "    add2C13I = -1\n",
    "    for p,t,_ in g.members:\n",
    "        if t == add1:\n",
    "            add1I = p.intensity\n",
    "        if t == add1C13:\n",
    "            add1C13I = p.intensity\n",
    "        if t == add2:\n",
    "            add2I = p.intensity\n",
    "        if t == add2C13:\n",
    "            add2C13I = p.intensity\n",
    "\n",
    "\n",
    "\n",
    "    if add1I > 0 and add1C13I > 0 and add2I > 0 and add2C13I > 0:\n",
    "        ratios[g] = (add1I/add1C13I,add2I/add2C13I)\n",
    "        if ratios[g][1] > 60:\n",
    "            print g.M,ratios[g]\n",
    "    \n",
    "\n",
    "\n",
    "print len(ratios)\n",
    "\n",
    "# Plot them\n",
    "a = []\n",
    "b = []\n",
    "for r in ratios:\n",
    "    a.append(ratios[r][0])\n",
    "    b.append(ratios[r][1])\n",
    "\n",
    "a = np.array(a)\n",
    "b = np.array(b)\n",
    "\n",
    "plt.figure()\n",
    "plt.plot(a,b,'ko')\n",
    "plt.xlim([0,a.max()+1])\n",
    "plt.ylim([0,b.max()+1])\n",
    "plt.plot([0,a.max()+1],[0,a.max()+1])\n",
    "\n",
    "plt.xlabel(add1)\n",
    "plt.ylabel(add2)\n",
    "plt.title('Ratio of mono-isotope to C13')"
   ]
  },
  {
   "cell_type": "code",
   "execution_count": 453,
   "metadata": {
    "collapsed": false
   },
   "outputs": [
    {
     "name": "stdout",
     "output_type": "stream",
     "text": [
      "M+H+CH3OH\n"
     ]
    }
   ],
   "source": [
    "print add2"
   ]
  },
  {
   "cell_type": "code",
   "execution_count": 461,
   "metadata": {
    "collapsed": false
   },
   "outputs": [
    {
     "name": "stdout",
     "output_type": "stream",
     "text": [
      "4.08e+05,4.63e+06\n"
     ]
    }
   ],
   "source": [
    "singletons = []\n",
    "non_singletons = []\n",
    "for g in groups:\n",
    "    if len(g.members) == 1:\n",
    "        singletons.append(g.members[0][0].intensity)\n",
    "    else:\n",
    "        for p,_,_ in g.members:\n",
    "            non_singletons.append(p.intensity)\n",
    "\n",
    "singletons = np.array(singletons)\n",
    "non_singletons = np.array(non_singletons)\n",
    "print \"{:.2e},{:.2e}\".format(singletons.mean(),non_singletons.mean())"
   ]
  },
  {
   "cell_type": "code",
   "execution_count": 469,
   "metadata": {
    "collapsed": false
   },
   "outputs": [
    {
     "data": {
      "text/plain": [
       "(array([   1.,   25.,  211.,  661.,  981.,  701.,  457.,  273.,  146.,   72.]),\n",
       " array([ 3.77028329,  4.13706178,  4.50384028,  4.87061877,  5.23739727,\n",
       "         5.60417577,  5.97095426,  6.33773276,  6.70451125,  7.07128975,\n",
       "         7.43806824]),\n",
       " <a list of 10 Patch objects>)"
      ]
     },
     "execution_count": 469,
     "metadata": {},
     "output_type": "execute_result"
    },
    {
     "data": {
      "image/png": "[encoded data removed]",
      "text/plain": [
       "<matplotlib.figure.Figure at 0x110044590>"
      ]
     },
     "metadata": {},
     "output_type": "display_data"
    },
    {
     "data": {
      "image/png": "[encoded data removed]",
      "text/plain": [
       "<matplotlib.figure.Figure at 0x110024c50>"
      ]
     },
     "metadata": {},
     "output_type": "display_data"
    }
   ],
   "source": [
    "plt.figure()\n",
    "(a,b,c) = plt.hist(np.log10(singletons))\n",
    "plt.figure()\n",
    "plt.hist(np.log10(non_singletons),bins=b)"
   ]
  },
  {
   "cell_type": "code",
   "execution_count": 474,
   "metadata": {
    "collapsed": false
   },
   "outputs": [
    {
     "name": "stdout",
     "output_type": "stream",
     "text": [
      "3515\n"
     ]
    }
   ],
   "source": [
    "print np.sum(singletons < 5e5)"
   ]
  },
  {
   "cell_type": "code",
   "execution_count": 471,
   "metadata": {
    "collapsed": false
   },
   "outputs": [
    {
     "name": "stdout",
     "output_type": "stream",
     "text": [
      "4267\n"
     ]
    }
   ],
   "source": [
    "print len(singletons)"
   ]
  },
  {
   "cell_type": "code",
   "execution_count": 476,
   "metadata": {
    "collapsed": false
   },
   "outputs": [
    {
     "name": "stdout",
     "output_type": "stream",
     "text": [
      "2016 7863\n"
     ]
    }
   ],
   "source": [
    "print len(groups) - np.sum(singletons < 5e5),len(coc.Z)"
   ]
  },
  {
   "cell_type": "code",
   "execution_count": 477,
   "metadata": {
    "collapsed": false
   },
   "outputs": [
    {
     "name": "stdout",
     "output_type": "stream",
     "text": [
      "2089\n"
     ]
    }
   ],
   "source": [
    "print np.sum(non_singletons < 5e5)"
   ]
  },
  {
   "cell_type": "markdown",
   "metadata": {},
   "source": [
    "Compare the standards found in two different outputs"
   ]
  },
  {
   "cell_type": "code",
   "execution_count": 585,
   "metadata": {
    "collapsed": false
   },
   "outputs": [
    {
     "name": "stdout",
     "output_type": "stream",
     "text": [
      "Beer_3_Full1\n"
     ]
    }
   ],
   "source": [
    "print filename"
   ]
  },
  {
   "cell_type": "code",
   "execution_count": 653,
   "metadata": {
    "collapsed": false
   },
   "outputs": [
    {
     "name": "stdout",
     "output_type": "stream",
     "text": [
      "batch1_Std_2_1 batch1_Std_2_2\n"
     ]
    }
   ],
   "source": [
    "file1 = files[4][1]\n",
    "file2 = files[5][1]\n",
    "compare1 = all_hits[file1]\n",
    "compare2 = all_hits[file2]\n",
    "print file1,file2"
   ]
  },
  {
   "cell_type": "code",
   "execution_count": null,
   "metadata": {
    "collapsed": true
   },
   "outputs": [],
   "source": []
  },
  {
   "cell_type": "code",
   "execution_count": 654,
   "metadata": {
    "collapsed": false
   },
   "outputs": [
    {
     "data": {
      "text/plain": [
       "[<matplotlib.lines.Line2D at 0x1226bbdd0>]"
      ]
     },
     "execution_count": 654,
     "metadata": {},
     "output_type": "execute_result"
    },
    {
     "data": {
      "image/png": "[encoded data removed]",
      "text/plain": [
       "<matplotlib.figure.Figure at 0x10fc68ad0>"
      ]
     },
     "metadata": {},
     "output_type": "display_data"
    }
   ],
   "source": [
    "votes1 = []\n",
    "votes2 = []\n",
    "with open('{}_{}_std_comparison.txt'.format(file1,file2),'w') as f:\n",
    "    for mol in compare1:\n",
    "        if mol in compare2:\n",
    "            group1 = compare1[mol]\n",
    "            group2 = compare2[mol]\n",
    "            \n",
    "            votes1.append(group1.vote)\n",
    "            votes2.append(group2.vote)\n",
    "            \n",
    "            line = \"{}\\n\".format(mol)\n",
    "            f.write(line)\n",
    "            line = \"{} Vote: {}, {} Vote: {}\\n\".format(file1,group1.vote,file2,group2.vote)\n",
    "            f.write(line)\n",
    "            \n",
    "            line = \"{}\\n\".format(file1)\n",
    "            f.write(line)\n",
    "            \n",
    "            head_line = '\\tPeak m/z,Peak rt,Peak intensity,transformation (transformed mass,vote)\\n'\n",
    "            f.write(head_line)\n",
    "            for (peak,transformation,transmass) in sorted(group1.members,key = lambda x: x[0].intensity,reverse=True):\n",
    "                line = \"\\t{:.4f},{:.4f},{:.2e},{} ({:.4f},{})\\n\".format(peak.mass,peak.rt,peak.intensity,transformation,transmass,transformation.vote)\n",
    "                f.write(line)\n",
    "            f.write('\\n')\n",
    "            \n",
    "            line = \"{}\\n\".format(file2)\n",
    "            f.write(line)\n",
    "            \n",
    "            head_line = '\\tPeak m/z,Peak rt,Peak intensity,transformation (transformed mass,vote)\\n'\n",
    "            f.write(head_line)\n",
    "            for (peak,transformation,transmass) in sorted(group2.members,key = lambda x: x[0].intensity,reverse=True):\n",
    "                line = \"\\t{:.4f},{:.4f},{:.2e},{} ({:.4f},{})\\n\".format(peak.mass,peak.rt,peak.intensity,transformation,transmass,transformation.vote)\n",
    "                f.write(line)\n",
    "            f.write('\\n')\n",
    "            \n",
    "            f.write('\\n\\n\\n')\n",
    "\n",
    "            \n",
    "plt.plot(votes1,votes2,'ko')\n"
   ]
  },
  {
   "cell_type": "code",
   "execution_count": 604,
   "metadata": {
    "collapsed": false
   },
   "outputs": [
    {
     "name": "stdout",
     "output_type": "stream",
     "text": [
      "0.401649261948 0.0517209016557\n"
     ]
    }
   ],
   "source": [
    "r,p = pearsonr(beervotes,urinevotes)\n",
    "print r,p"
   ]
  },
  {
   "cell_type": "code",
   "execution_count": 650,
   "metadata": {
    "collapsed": false
   },
   "outputs": [
    {
     "name": "stdout",
     "output_type": "stream",
     "text": [
      "119.058249176119.058245197119.058230572119.058224245119.058192905\n",
      "92.04736948192.047360524792.047347466292.047338191492.0473166737\n",
      "174.100488504174.100381449\n",
      "169.073952118169.073812836169.073746967169.073709244\n",
      "105.042595579105.04258218105.042545329\n",
      "179.079310182179.079292806179.079291345179.079287414179.079263888179.079243158179.07683799179.076526047\n",
      "115.063379786115.063299053115.063296341115.063241104115.063155887\n",
      "155.069498213155.069468092155.069399106\n",
      "145.110285564145.110214387\n",
      "297.089578858297.089222526297.087968209\n",
      "190.095367232\n",
      "89.047675295589.047669887289.04765553689.0476145733\n",
      "131.058267792131.058254507131.05821493131.058189995131.058160652131.058158043131.058094661131.055727062\n",
      "221.090090083221.089986733221.089959187221.089867326221.089831466221.089811911221.089809943221.089794026221.089744033221.087381717221.087155974221.087084892\n",
      "132.053454876132.053443703132.053435018132.053431375132.053248096\n",
      "118.074234945118.074172502\n",
      "267.096493021267.096456569267.095229333\n",
      "117.079010921117.07897184117.078944735117.078917401117.078900194\n",
      "131.094673371131.094584063131.094565368131.094514205131.092130279\n",
      "111.043239921111.043236579111.043207812\n",
      "135.054525961135.054469408135.054440024\n",
      "188.116619885188.116074458188.11603551188.116010367188.115953999188.115931872188.11562556\n",
      "136.038526091136.038510156136.038498573\n",
      "149.051067033149.051022114149.050990575149.050984903149.048416545\n",
      "165.078959588165.078946878165.078922377\n",
      "268.08066659268.080558027268.080534198268.080500554268.078470764\n",
      "125.014685011125.014669248125.014657629125.014657014125.014597389\n",
      "176.094981922176.094960071176.094955956\n",
      "113.058995467113.058891627113.058872545113.058813372\n",
      "146.069219952146.069120663146.069118199146.06910992146.069106654146.069095794146.069085235146.069047274146.069039081146.066654492\n",
      "75.0320501616\n",
      "89.047675295589.047669887289.04765553689.0476145733\n",
      "204.090405436204.089976676204.089882579204.089873531204.089854634204.089791906204.08970419\n",
      "384.121888722384.121330123\n",
      "151.049385857151.049364782151.049345455151.049341313151.046792701\n",
      "175.095676042175.095673354175.09563703175.095618279175.095602252175.095592215175.095555811175.092988021175.092789223\n",
      "153.090137611\n",
      "232.121166514232.121116264232.121000176232.120999262232.120933449232.120879725232.120843265232.120767173\n",
      "376.137937971\n",
      "119.058250817119.058234621\n",
      "257.102768724257.102657388257.102549765257.102546819257.1024914257.102475026257.100622915257.100064169\n",
      "147.053193501147.053176097147.053113596147.050635215\n"
     ]
    }
   ],
   "source": []
  },
  {
   "cell_type": "code",
   "execution_count": null,
   "metadata": {
    "collapsed": true
   },
   "outputs": [],
   "source": []
  }
 ],
 "metadata": {
  "kernelspec": {
   "display_name": "Python 2",
   "language": "python",
   "name": "python2"
  },
  "language_info": {
   "codemirror_mode": {
    "name": "ipython",
    "version": 2
   },
   "file_extension": ".py",
   "mimetype": "text/x-python",
   "name": "python",
   "nbconvert_exporter": "python",
   "pygments_lexer": "ipython2",
   "version": "2.7.11"
  }
 },
 "nbformat": 4,
 "nbformat_minor": 0
}
