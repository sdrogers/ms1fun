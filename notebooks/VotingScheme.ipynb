{
 "cells": [
  {
   "cell_type": "code",
   "execution_count": 140,
   "metadata": {
    "collapsed": false
   },
   "outputs": [
    {
     "name": "stdout",
     "output_type": "stream",
     "text": [
      "The autoreload extension is already loaded. To reload it, use:\n",
      "  %reload_ext autoreload\n"
     ]
    }
   ],
   "source": [
    "%load_ext autoreload\n",
    "%autoreload 2\n",
    "import os\n",
    "import sys\n",
    "base_dir = '/Users/simon/git/ms1fun/'\n",
    "sys.path.append(base_dir + 'code')\n",
    "sys.path.append(base_dir + 'dbs')\n",
    "from corr_cluster import Peak,BetaLike,CorrCluster\n",
    "from formula import Formula\n",
    "import pylab as plt\n",
    "%matplotlib inline\n"
   ]
  },
  {
   "cell_type": "markdown",
   "metadata": {},
   "source": [
    "Grab some std1 files"
   ]
  },
  {
   "cell_type": "code",
   "execution_count": 141,
   "metadata": {
    "collapsed": false
   },
   "outputs": [
    {
     "name": "stdout",
     "output_type": "stream",
     "text": [
      "['batch1_Std_1_1', 'batch1_Std_1_2', 'batch2_Std_1_1', 'batch2_Std_1_2', 'batch3_Std_1_1', 'batch3_Std_1_2', 'batch4_Std_1_1', 'batch4_Std_1_2']\n"
     ]
    }
   ],
   "source": [
    "prefix = '/Users/simon/Dropbox/BioResearch/Meta_clustering/StandardData140606/csv/'\n",
    "files = [f.split('.')[0] for f in os.listdir(prefix) if f.endswith('.csv') and 'Std_1' in f]\n",
    "print files"
   ]
  },
  {
   "cell_type": "code",
   "execution_count": 142,
   "metadata": {
    "collapsed": false
   },
   "outputs": [
    {
     "name": "stdout",
     "output_type": "stream",
     "text": [
      "Running file batch1_Std_1_1\n",
      "1357.622802\n",
      "Loaded 6150 peaks\n",
      "Reading shape correlations from /Users/simon/Dropbox/BioResearch/Meta_clustering/StandardData140606/csv/batch1_Std_1_1.corr.mat\n",
      "Greedy clustering done, resulting in 3186 clusters\n"
     ]
    }
   ],
   "source": [
    "filename = files[0]\n",
    "bl = BetaLike()\n",
    "print \"Running file \" + filename\n",
    "csvfile = prefix + filename + '.csv'\n",
    "matfile = prefix + filename + '.corr.mat'\n",
    "signalfile = prefix + filename + '.peakml.signal'\n",
    "coc = CorrCluster(bl,csvfile,matfile,signal_file=signalfile,greedy_thresh=0.9,correct=True)"
   ]
  },
  {
   "cell_type": "code",
   "execution_count": 346,
   "metadata": {
    "collapsed": false
   },
   "outputs": [
    {
     "name": "stdout",
     "output_type": "stream",
     "text": [
      "Loaded 54 transformations\n"
     ]
    }
   ],
   "source": [
    "import transformation\n",
    "transformations = transformation.load_from_file(base_dir + 'dbs/pos_transformations_reduced.yml')\n",
    "print \"Loaded \" + str(len(transformations)) + \" transformations\""
   ]
  },
  {
   "cell_type": "markdown",
   "metadata": {},
   "source": [
    "Transform a cluster and see what we get"
   ]
  },
  {
   "cell_type": "code",
   "execution_count": 348,
   "metadata": {
    "collapsed": false
   },
   "outputs": [],
   "source": [
    "def print_cluster(cluster):\n",
    "    plt.figure()\n",
    "    for peak in cluster.members:\n",
    "        plt.plot([peak.mass,peak.mass],[0,peak.intensity],'r')"
   ]
  },
  {
   "cell_type": "code",
   "execution_count": 349,
   "metadata": {
    "collapsed": false
   },
   "outputs": [],
   "source": [
    "import numpy as np\n",
    "from scipy import stats"
   ]
  },
  {
   "cell_type": "markdown",
   "metadata": {},
   "source": [
    "Bin the masses into nominal (integer bins)"
   ]
  },
  {
   "cell_type": "code",
   "execution_count": null,
   "metadata": {
    "collapsed": true
   },
   "outputs": [],
   "source": []
  },
  {
   "cell_type": "code",
   "execution_count": null,
   "metadata": {
    "collapsed": true
   },
   "outputs": [],
   "source": [
    "PROTON = 1.00727645199076\n",
    "\n",
    "\n",
    "class Mol(object):\n",
    "    def __init__(self,name,formula,mass,rt):\n",
    "        self.name = name.strip()\n",
    "        self.formula = formula.strip()\n",
    "        self.mass = mass\n",
    "        self.rt = rt\n",
    "    def __str__(self):\n",
    "        return self.name\n",
    "    def __repr__(self):\n",
    "        return self.name"
   ]
  },
  {
   "cell_type": "markdown",
   "metadata": {},
   "source": [
    "Ignore the following 2 cells"
   ]
  },
  {
   "cell_type": "code",
   "execution_count": 47,
   "metadata": {
    "collapsed": false
   },
   "outputs": [
    {
     "name": "stdout",
     "output_type": "stream",
     "text": [
      "/Users/simon/git/ms1fun/dbs/StandardsCombined_20150422_forJoe.csv\n",
      "82\n"
     ]
    }
   ],
   "source": [
    "mols = []\n",
    "combined_file = base_dir + 'dbs/StandardsCombined_20150422_forJoe.csv'\n",
    "\n",
    "\n",
    "\n",
    "print combined_file\n",
    "with open(combined_file,'rU') as f:\n",
    "    heads = f.readline()\n",
    "    for line in f:\n",
    "        split_line = line.split(',')\n",
    "        if int(split_line[0])==1:\n",
    "            f = Formula(split_line[2])\n",
    "            new_mol = Mol(split_line[1],split_line[2],f.compute_exact_mass(),float(split_line[5]))\n",
    "            mols.append(new_mol)\n",
    "\n",
    "\n",
    "mols = sorted(mols,key=lambda x: x.mass)\n",
    "print len(mols)"
   ]
  },
  {
   "cell_type": "code",
   "execution_count": 52,
   "metadata": {
    "collapsed": false
   },
   "outputs": [
    {
     "name": "stdout",
     "output_type": "stream",
     "text": [
      "104\n"
     ]
    }
   ],
   "source": [
    "std_file = base_dir + 'dbs/std1_mols.csv'\n",
    "mols = []\n",
    "with open(std_file,'rU') as f:\n",
    "    for line in f:\n",
    "        split_line = line.split(',')\n",
    "        f = Formula(split_line[2].strip())\n",
    "        new_mol = Mol(split_line[1],split_line[2].strip(),f.compute_exact_mass(),0.0)\n",
    "        mols.append(new_mol)\n",
    "mols = sorted(mols,key=lambda x:x.mass)\n",
    "print len(mols)"
   ]
  },
  {
   "cell_type": "markdown",
   "metadata": {},
   "source": [
    "This is the one to use (for now)"
   ]
  },
  {
   "cell_type": "code",
   "execution_count": 350,
   "metadata": {
    "collapsed": false
   },
   "outputs": [],
   "source": [
    "std_file = base_dir + 'dbs/std1_20130822_130526.csv'\n",
    "mols = []\n",
    "with open(std_file,'rU') as f:\n",
    "    for i in range(9):\n",
    "        f.readline() # remove heads\n",
    "    for line in f:\n",
    "        split_line = line.split(',')\n",
    "        polarity = split_line[4]\n",
    "        rt = float(split_line[8])\n",
    "        if polarity == '+' and rt > 0.0:\n",
    "            name = split_line[2]\n",
    "            formula = split_line[3]\n",
    "            rt = float(split_line[8])\n",
    "            f = Formula(formula)\n",
    "            new_mol = Mol(name,formula,f.compute_exact_mass(),rt*60.0)\n",
    "            mols.append(new_mol)\n",
    "mols = sorted(mols,key = lambda x: x.mass)"
   ]
  },
  {
   "cell_type": "markdown",
   "metadata": {},
   "source": [
    "Find some matches to play with some more"
   ]
  },
  {
   "cell_type": "code",
   "execution_count": 415,
   "metadata": {
    "collapsed": false
   },
   "outputs": [],
   "source": [
    "protonated = [t for t in transformations if t.name=='M+H'][0]"
   ]
  },
  {
   "cell_type": "code",
   "execution_count": 416,
   "metadata": {
    "collapsed": false
   },
   "outputs": [],
   "source": [
    "def hit(m1,m2,rt1,rt2,mtol=5,rttol=1):\n",
    "    if 1e6*np.abs(m1-m2)/m2 < mtol and np.abs(rt1-rt2)<rttol:\n",
    "        return True\n",
    "    else:\n",
    "        return False\n",
    "    \n",
    "def get_hits(peaks,mols,transformations,mtol=10,rttol = 120.0):\n",
    "    hits = {}\n",
    "    for mol in mols:\n",
    "        for peak in peaks:\n",
    "            for t in transformations:\n",
    "                if hit(t.transform(peak),mol.mass,peak.rt,mol.rt,mtol = mtol,rttol = rttol):\n",
    "                    if mol in hits:\n",
    "                        if np.abs(peak.rt - mol.rt) < np.abs(hits[mol].rt - mol.rt):\n",
    "                            hits[mol] = peak\n",
    "                    else:\n",
    "                        hits[mol] = peak\n",
    "    return hits"
   ]
  },
  {
   "cell_type": "code",
   "execution_count": 417,
   "metadata": {
    "collapsed": false
   },
   "outputs": [
    {
     "name": "stdout",
     "output_type": "stream",
     "text": [
      "{Cytidine: <corr_cluster.Peak object at 0x10c680f10>, L-Glutamine: <corr_cluster.Peak object at 0x10ed9b450>, Phenylhydrazine: <corr_cluster.Peak object at 0x10c417d50>, Adenine: <corr_cluster.Peak object at 0x10c5270d0>, 4-Aminobenzoate: <corr_cluster.Peak object at 0x10c6802d0>, L-Leucine: <corr_cluster.Peak object at 0x10ae31810>, Selenomethionine: <corr_cluster.Peak object at 0x10c509b50>, L-Tryptophan: <corr_cluster.Peak object at 0x10ae351d0>, Nicotinate: <corr_cluster.Peak object at 0x10ca62310>, Creatinine: <corr_cluster.Peak object at 0x10c509790>, D-Glucosamine: <corr_cluster.Peak object at 0x10ed9bd10>, L-Phenylalanine: <corr_cluster.Peak object at 0x10cac8950>, L-Threonine: <corr_cluster.Peak object at 0x10cacf550>, sn-glycero-3-Phosphocholine: <corr_cluster.Peak object at 0x10eda52d0>, riboflavin: <corr_cluster.Peak object at 0x10d5c5fd0>, L-Proline: <corr_cluster.Peak object at 0x10c509ad0>, Inosine: <corr_cluster.Peak object at 0x110588810>, Glycerol: <corr_cluster.Peak object at 0x10f469a10>, Serotonin: <corr_cluster.Peak object at 0x10f448250>, Imidazole-4-acetate: <corr_cluster.Peak object at 0x10cacfb90>, N-Acetyl-D-glucosamine: <corr_cluster.Peak object at 0x10ae311d0>, L-Methionine: <corr_cluster.Peak object at 0x10cacd3d0>, Pyridoxine: <corr_cluster.Peak object at 0x10ae354d0>, Melatonin: <corr_cluster.Peak object at 0x10c12b390>}\n"
     ]
    },
    {
     "data": {
      "image/png": "[encoded data removed]",
      "text/plain": [
       "<matplotlib.figure.Figure at 0x10d1c6810>"
      ]
     },
     "metadata": {},
     "output_type": "display_data"
    }
   ],
   "source": [
    "hits = get_hits(coc.peaks,mols,[protonated])\n",
    "true = []\n",
    "measured = []\n",
    "for mol in hits:\n",
    "    true.append(mol.rt)\n",
    "    measured.append(hits[mol].rt)\n",
    "plt.plot(true,measured,'ro')\n",
    "print hits"
   ]
  },
  {
   "cell_type": "markdown",
   "metadata": {},
   "source": [
    "Look at an individual cluster and see what we can find"
   ]
  },
  {
   "cell_type": "code",
   "execution_count": 406,
   "metadata": {
    "collapsed": false
   },
   "outputs": [
    {
     "name": "stdout",
     "output_type": "stream",
     "text": [
      "Cluster has 15 members\n",
      "117.078978603 118.086176646 159613568.0\n"
     ]
    },
    {
     "data": {
      "text/plain": [
       "(107.07897860297999, 127.07897860297999)"
      ]
     },
     "execution_count": 406,
     "metadata": {},
     "output_type": "execute_result"
    },
    {
     "data": {
      "image/png": "[encoded data removed]",
      "text/plain": [
       "<matplotlib.figure.Figure at 0x10d29e090>"
      ]
     },
     "metadata": {},
     "output_type": "display_data"
    },
    {
     "data": {
      "image/png": "[encoded data removed]",
      "text/plain": [
       "<matplotlib.figure.Figure at 0x1100856d0>"
      ]
     },
     "metadata": {},
     "output_type": "display_data"
    }
   ],
   "source": [
    "mi = [m for m in mols if m.name=='Selenomethionine'][0]\n",
    "mip = hits[mi]\n",
    "cluster = coc.Z[mip]\n",
    "print \"Cluster has {} members\".format(len(cluster.members))\n",
    "plot_peaks(cluster.members,log=False)\n",
    "plot_peaks(cluster.members,log=False)\n",
    "print mi.mass,mip.mass,mip.intensity\n",
    "plt.xlim([mi.mass-10,mi.mass+10])"
   ]
  },
  {
   "cell_type": "code",
   "execution_count": 407,
   "metadata": {
    "collapsed": true
   },
   "outputs": [],
   "source": [
    "def plot_peaks(peaks,log=False):\n",
    "    plt.figure()\n",
    "    for p in peaks:\n",
    "        if log:\n",
    "            plt.semilogy([p.mass,p.mass],[0,p.intensity],'r')\n",
    "        else:\n",
    "            plt.plot([p.mass,p.mass],[0,p.intensity],'r')"
   ]
  },
  {
   "cell_type": "code",
   "execution_count": 408,
   "metadata": {
    "collapsed": false
   },
   "outputs": [
    {
     "name": "stdout",
     "output_type": "stream",
     "text": [
      "810\n"
     ]
    },
    {
     "data": {
      "text/plain": [
       "(117.06897860297998, 117.08897860297999)"
      ]
     },
     "execution_count": 408,
     "metadata": {},
     "output_type": "execute_result"
    },
    {
     "data": {
      "image/png": "[encoded data removed]",
      "text/plain": [
       "<matplotlib.figure.Figure at 0x116f20bd0>"
      ]
     },
     "metadata": {},
     "output_type": "display_data"
    }
   ],
   "source": [
    "transformed_masses = []\n",
    "actual_transforms = []\n",
    "for peak in cluster.members:\n",
    "    for tr in transformations:\n",
    "        transformed_masses.append(tr.transform(peak))\n",
    "        actual_transforms.append(tr)\n",
    "temp = zip(transformed_masses,actual_transforms)\n",
    "temp = sorted(temp,key = lambda x: x[0])\n",
    "transformed_masses,actual_transforms = zip(*temp)\n",
    "transformed_masses = np.array(transformed_masses)\n",
    "print len(transformed_masses)\n",
    "plot_tr(transformed_masses)\n",
    "plt.xlim([mi.mass-0.01,mi.mass+0.01])"
   ]
  },
  {
   "cell_type": "markdown",
   "metadata": {},
   "source": [
    "See how many of the things exist - if it's only 1, it's not going to work."
   ]
  },
  {
   "cell_type": "code",
   "execution_count": 418,
   "metadata": {
    "collapsed": false
   },
   "outputs": [
    {
     "name": "stdout",
     "output_type": "stream",
     "text": [
      "{M+ACN+H: <corr_cluster.Peak object at 0x10c691210>, M+H[2C13]: <corr_cluster.Peak object at 0x110588a90>, M+H: <corr_cluster.Peak object at 0x10c509b50>, M+H[C13]: <corr_cluster.Peak object at 0x10c691510>}\n"
     ]
    }
   ],
   "source": [
    "# How many transformations do we find in the cluster\n",
    "cluster_hits = {}\n",
    "for t in transformations:\n",
    "    for p in cluster.members:\n",
    "        if hit(mi.mass,t.transform(p),1,1):\n",
    "            cluster_hits[t] = p\n",
    "print cluster_hits"
   ]
  },
  {
   "cell_type": "markdown",
   "metadata": {},
   "source": [
    "Find the region with the most peaks in it"
   ]
  },
  {
   "cell_type": "code",
   "execution_count": 411,
   "metadata": {
    "collapsed": true
   },
   "outputs": [],
   "source": [
    "def find_regions(sorted_mass_list,mtol=10):\n",
    "    count = np.zeros_like(sorted_mass_list)\n",
    "    for i in range(len(sorted_mass_list)):\n",
    "        a = sorted_mass_list[i]\n",
    "        mid = 1e6*a/(1e6-mtol)\n",
    "        up = 1e6*mid/(1e6-mtol)\n",
    "        pos = i\n",
    "        count[i] = 1\n",
    "        while True:\n",
    "            pos += 1\n",
    "            if pos >= len(sorted_mass_list):\n",
    "                break\n",
    "            if sorted_mass_list[pos]<=up:\n",
    "                count[i] += 1\n",
    "            else:\n",
    "                break\n",
    "    return count\n",
    "        \n",
    "            \n",
    "        "
   ]
  },
  {
   "cell_type": "code",
   "execution_count": 414,
   "metadata": {
    "collapsed": false
   },
   "outputs": [
    {
     "name": "stdout",
     "output_type": "stream",
     "text": [
      "117.078978603\n",
      "Count: 4.0\n",
      "\t117.078900194,M+H (-7.84088699248e-05)\n",
      "\t117.078917401,M+H[2C13] (-6.1202175516e-05)\n",
      "\t117.078944735,M+H[C13] (-3.38684588002e-05)\n",
      "\t117.07897184,M+ACN+H (-6.76304907188e-06)\n",
      "Count: 4.0\n",
      "\t128.044830014,[M-CO]+NH4[2C13] (10.9658514112)\n",
      "\t128.047265714,[M-CO]+NH4 (10.9682871113)\n",
      "\t128.047282921,[M-CO]+NH4[2C13] (10.968304318)\n",
      "\t128.047310255,[M-CO]+NH4[C13] (10.9683316517)\n",
      "Count: 5.0\n",
      "\t135.08702918,[M-H2O]+H[2C13] (18.0080505774)\n",
      "\t135.08946488,[M-H2O]+H (18.0104862775)\n",
      "\t135.089482087,[M-H2O]+H[2C13] (18.0105034842)\n",
      "\t135.089509421,[M-H2O]+H[C13] (18.0105308179)\n",
      "\t135.089536526,[M-H2O]+ACN+H (18.0105579233)\n",
      "Count: 4.0\n",
      "\t135.08946488,[M-H2O]+H (18.0104862775)\n",
      "\t135.089482087,[M-H2O]+H[2C13] (18.0105034842)\n",
      "\t135.089509421,[M-H2O]+H[C13] (18.0105308179)\n",
      "\t135.089536526,[M-H2O]+ACN+H (18.0105579233)\n",
      "Count: 5.0\n",
      "\t145.071379116,[M-CO]+H[2C13] (27.9924005131)\n",
      "\t145.073814816,[M-CO]+H (27.9948362132)\n",
      "\t145.073832023,[M-CO]+H[2C13] (27.9948534199)\n",
      "\t145.073859357,[M-CO]+H[C13] (27.9948807536)\n",
      "\t145.073886462,[M-CO]+ACN+H (27.9949078591)\n",
      "Count: 4.0\n",
      "\t145.073814816,[M-CO]+H (27.9948362132)\n",
      "\t145.073832023,[M-CO]+H[2C13] (27.9948534199)\n",
      "\t145.073859357,[M-CO]+H[C13] (27.9948807536)\n",
      "\t145.073886462,[M-CO]+ACN+H (27.9949078591)\n"
     ]
    }
   ],
   "source": [
    "print mi.mass\n",
    "count = find_regions(transformed_masses)\n",
    "thresh = 4\n",
    "for i,t in enumerate(transformed_masses):\n",
    "    if count[i]>=thresh:\n",
    "        temp_tran = []\n",
    "        temp_mass = []\n",
    "        for j in range(int(count[i])):\n",
    "            temp_mass.append(transformed_masses[i+j])\n",
    "            temp_tran.append(actual_transforms[i+j])\n",
    "        to_remove = []\n",
    "        for j,tr in enumerate(temp_tran):\n",
    "            if not tr.parent == None:\n",
    "                if tr.parent in temp_tran:\n",
    "                    pass\n",
    "                else:\n",
    "                    to_remove.append(j)\n",
    "        if count[i] - len(to_remove) >= thresh:\n",
    "            print \"Count: {}\".format(count[i] - len(to_remove))\n",
    "            for j in range(int(count[i])):\n",
    "                if not j in to_remove:\n",
    "                    print '\\t{},{} ({})'.format(transformed_masses[i+j],actual_transforms[i+j],transformed_masses[i+j]-mi.mass)\n",
    "\n",
    "\n",
    "\n"
   ]
  },
  {
   "cell_type": "code",
   "execution_count": 362,
   "metadata": {
    "collapsed": false
   },
   "outputs": [
    {
     "name": "stdout",
     "output_type": "stream",
     "text": [
      "131.092130279\n"
     ]
    }
   ],
   "source": [
    "print 159.087044901-27.994914622099998"
   ]
  },
  {
   "cell_type": "code",
   "execution_count": 289,
   "metadata": {
    "collapsed": false
   },
   "outputs": [
    {
     "name": "stdout",
     "output_type": "stream",
     "text": [
      "None\n"
     ]
    }
   ],
   "source": [
    "print transformations[0].parent\n"
   ]
  },
  {
   "cell_type": "code",
   "execution_count": 328,
   "metadata": {
    "collapsed": false
   },
   "outputs": [
    {
     "name": "stdout",
     "output_type": "stream",
     "text": [
      "55.9898292442\n"
     ]
    }
   ],
   "source": [
    "print 27.994914622099998*2"
   ]
  },
  {
   "cell_type": "code",
   "execution_count": null,
   "metadata": {
    "collapsed": true
   },
   "outputs": [],
   "source": []
  }
 ],
 "metadata": {
  "kernelspec": {
   "display_name": "Python 2",
   "language": "python",
   "name": "python2"
  },
  "language_info": {
   "codemirror_mode": {
    "name": "ipython",
    "version": 2
   },
   "file_extension": ".py",
   "mimetype": "text/x-python",
   "name": "python",
   "nbconvert_exporter": "python",
   "pygments_lexer": "ipython2",
   "version": "2.7.11"
  }
 },
 "nbformat": 4,
 "nbformat_minor": 0
}
