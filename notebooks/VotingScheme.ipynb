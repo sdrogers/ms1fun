{
 "cells": [
  {
   "cell_type": "code",
   "execution_count": 1,
   "metadata": {
    "collapsed": false
   },
   "outputs": [],
   "source": [
    "%load_ext autoreload\n",
    "%autoreload 2\n",
    "import os\n",
    "import sys\n",
    "import numpy as np\n",
    "from scipy import stats\n",
    "\n",
    "base_dir = '/Users/simon/git/ms1fun/'\n",
    "sys.path.append(base_dir + 'code')\n",
    "sys.path.append(base_dir + 'dbs')\n",
    "\n",
    "from corr_cluster import Peak,BetaLike,CorrCluster\n",
    "from formula import Formula\n",
    "import pylab as plt\n",
    "%matplotlib inline\n"
   ]
  },
  {
   "cell_type": "markdown",
   "metadata": {},
   "source": [
    "Grab some std1 files"
   ]
  },
  {
   "cell_type": "code",
   "execution_count": 2,
   "metadata": {
    "collapsed": false
   },
   "outputs": [
    {
     "name": "stdout",
     "output_type": "stream",
     "text": [
      "['batch1_Std_1_1', 'batch1_Std_1_2', 'batch2_Std_1_1', 'batch2_Std_1_2', 'batch3_Std_1_1', 'batch3_Std_1_2', 'batch4_Std_1_1', 'batch4_Std_1_2']\n"
     ]
    }
   ],
   "source": [
    "prefix = '/Users/simon/Dropbox/BioResearch/Meta_clustering/StandardData140606/csv/'\n",
    "files = [f.split('.')[0] for f in os.listdir(prefix) if f.endswith('.csv') and 'Std_1' in f]\n",
    "print files"
   ]
  },
  {
   "cell_type": "code",
   "execution_count": 3,
   "metadata": {
    "collapsed": false
   },
   "outputs": [
    {
     "name": "stdout",
     "output_type": "stream",
     "text": [
      "Running file batch1_Std_1_1\n",
      "1357.622802\n",
      "Loaded 6150 peaks\n",
      "Reading shape correlations from /Users/simon/Dropbox/BioResearch/Meta_clustering/StandardData140606/csv/batch1_Std_1_1.corr.mat\n",
      "Greedy clustering done, resulting in 3186 clusters\n"
     ]
    }
   ],
   "source": [
    "filename = files[0]\n",
    "bl = BetaLike()\n",
    "print \"Running file \" + filename\n",
    "csvfile = prefix + filename + '.csv'\n",
    "matfile = prefix + filename + '.corr.mat'\n",
    "signalfile = prefix + filename + '.peakml.signal'\n",
    "coc = CorrCluster(bl,csvfile,matfile,signal_file=signalfile,greedy_thresh=0.9,correct=True)"
   ]
  },
  {
   "cell_type": "code",
   "execution_count": 49,
   "metadata": {
    "collapsed": false
   },
   "outputs": [
    {
     "name": "stdout",
     "output_type": "stream",
     "text": [
      "Loaded 54 transformations\n"
     ]
    }
   ],
   "source": [
    "import transformation\n",
    "transformations = transformation.load_from_file(base_dir + 'dbs/pos_transformations_reduced.yml')\n",
    "print \"Loaded \" + str(len(transformations)) + \" transformations\""
   ]
  },
  {
   "cell_type": "code",
   "execution_count": 50,
   "metadata": {
    "collapsed": false
   },
   "outputs": [
    {
     "name": "stdout",
     "output_type": "stream",
     "text": [
      "M+ACN+H 0.4\n",
      "M+ACN+H[C13] 0.36\n",
      "M+ACN+H[2C13] 0.36\n",
      "[M-H2O]+ACN+H 0.2\n",
      "[M-H2O]+ACN+H[C13] 0.18\n",
      "[M-H2O]+ACN+H[2C13] 0.18\n",
      "[M-CO]+ACN+H 0.2\n",
      "[M-CO]+ACN+H[C13] 0.18\n",
      "[M-CO]+ACN+H[2C13] 0.18\n",
      "2M+H 0.4\n",
      "2M+H[C13] 0.36\n",
      "2M+H[2C13] 0.36\n",
      "[2M-H2O]+H 0.2\n",
      "[2M-H2O]+H[C13] 0.18\n",
      "[2M-H2O]+H[2C13] 0.18\n",
      "[2M-CO]+H 0.2\n",
      "[2M-CO]+H[C13] 0.18\n",
      "[2M-CO]+H[2C13] 0.18\n",
      "M+Na 0.6\n",
      "M+Na[C13] 0.54\n",
      "M+Na[2C13] 0.54\n",
      "[M-H2O]+Na 0.3\n",
      "[M-H2O]+Na[C13] 0.27\n",
      "[M-H2O]+Na[2C13] 0.27\n",
      "[M-CO]+Na 0.3\n",
      "[M-CO]+Na[C13] 0.27\n",
      "[M-CO]+Na[2C13] 0.27\n",
      "M+K 0.6\n",
      "M+K[C13] 0.54\n",
      "M+K[2C13] 0.54\n",
      "[M-H2O]+K 0.3\n",
      "[M-H2O]+K[C13] 0.27\n",
      "[M-H2O]+K[2C13] 0.27\n",
      "[M-CO]+K 0.3\n",
      "[M-CO]+K[C13] 0.27\n",
      "[M-CO]+K[2C13] 0.27\n",
      "M+2H 0.4\n",
      "M+2H[C13] 0.36\n",
      "M+2H[2C13] 0.36\n",
      "[M-H2O]+2H 0.2\n",
      "[M-H2O]+2H[C13] 0.18\n",
      "[M-H2O]+2H[2C13] 0.18\n",
      "[M-CO]+2H 0.2\n",
      "[M-CO]+2H[C13] 0.18\n",
      "[M-CO]+2H[2C13] 0.18\n",
      "M+H 1.0\n",
      "M+H[C13] 0.9\n",
      "M+H[2C13] 0.9\n",
      "[M-H2O]+H 0.5\n",
      "[M-H2O]+H[C13] 0.45\n",
      "[M-H2O]+H[2C13] 0.45\n",
      "[M-CO]+H 0.5\n",
      "[M-CO]+H[C13] 0.45\n",
      "[M-CO]+H[2C13] 0.45\n"
     ]
    }
   ],
   "source": [
    "for t in transformations:\n",
    "    print t,t.vote"
   ]
  },
  {
   "cell_type": "markdown",
   "metadata": {},
   "source": [
    "Transform a cluster and see what we get"
   ]
  },
  {
   "cell_type": "code",
   "execution_count": 57,
   "metadata": {
    "collapsed": false
   },
   "outputs": [],
   "source": [
    "def print_cluster(cluster):\n",
    "    plt.figure()\n",
    "    for peak in cluster.members:\n",
    "        plt.plot([peak.mass,peak.mass],[0,peak.intensity],'r')"
   ]
  },
  {
   "cell_type": "markdown",
   "metadata": {},
   "source": [
    "Bin the masses into nominal (integer bins)"
   ]
  },
  {
   "cell_type": "code",
   "execution_count": 152,
   "metadata": {
    "collapsed": true
   },
   "outputs": [],
   "source": [
    "PROTON = 1.00727645199076\n",
    "\n",
    "\n",
    "class Mol(object):\n",
    "    def __init__(self,name,formula,mass,rt):\n",
    "        self.name = name.strip()\n",
    "        self.formula = formula.strip()\n",
    "        self.mass = mass\n",
    "        self.rt = rt\n",
    "    def __str__(self):\n",
    "        return \"{} ({},{})\".format(self.name,self.mass,self.rt)\n",
    "    def __repr__(self):\n",
    "        return \"{} ({},{})\".format(self.name,self.mass,self.rt)"
   ]
  },
  {
   "cell_type": "markdown",
   "metadata": {},
   "source": [
    "Load the standards database from file"
   ]
  },
  {
   "cell_type": "code",
   "execution_count": 153,
   "metadata": {
    "collapsed": false
   },
   "outputs": [],
   "source": [
    "std_file = base_dir + 'dbs/std1_20130822_130526.csv'\n",
    "mols = []\n",
    "with open(std_file,'rU') as f:\n",
    "    for i in range(9):\n",
    "        f.readline() # remove heads\n",
    "    for line in f:\n",
    "        split_line = line.split(',')\n",
    "        polarity = split_line[4]\n",
    "        rt = float(split_line[8])\n",
    "        if polarity == '+' and rt > 0.0:\n",
    "            name = split_line[2]\n",
    "            formula = split_line[3]\n",
    "            rt = float(split_line[8])\n",
    "            f = Formula(formula)\n",
    "            new_mol = Mol(name,formula,f.compute_exact_mass(),rt*60.0)\n",
    "            mols.append(new_mol)\n",
    "mols = sorted(mols,key = lambda x: x.mass)"
   ]
  },
  {
   "cell_type": "markdown",
   "metadata": {},
   "source": [
    "Find the protonated transformation for baselining"
   ]
  },
  {
   "cell_type": "code",
   "execution_count": 60,
   "metadata": {
    "collapsed": false
   },
   "outputs": [],
   "source": [
    "protonated = [t for t in transformations if t.name=='M+H'][0]"
   ]
  },
  {
   "cell_type": "markdown",
   "metadata": {},
   "source": [
    "Functions for matching peaks to a database"
   ]
  },
  {
   "cell_type": "code",
   "execution_count": 61,
   "metadata": {
    "collapsed": false
   },
   "outputs": [],
   "source": [
    "def hit(m1,m2,rt1,rt2,mtol=20,rttol=1):\n",
    "    if 1e6*np.abs(m1-m2)/m2 < mtol and np.abs(rt1-rt2)<rttol:\n",
    "        return True\n",
    "    else:\n",
    "        return False\n",
    "    \n",
    "def get_hits(peaks,mols,transformations,mtol=20,rttol = 120.0):\n",
    "    hits = {}\n",
    "    for mol in mols:\n",
    "        for peak in peaks:\n",
    "            for t in transformations:\n",
    "                if hit(t.transform(peak),mol.mass,peak.rt,mol.rt,mtol = mtol,rttol = rttol):\n",
    "                    if mol in hits:\n",
    "                        if np.abs(peak.rt - mol.rt) < np.abs(hits[mol].rt - mol.rt):\n",
    "                            hits[mol] = peak\n",
    "                    else:\n",
    "                        hits[mol] = peak\n",
    "    return hits"
   ]
  },
  {
   "cell_type": "code",
   "execution_count": 62,
   "metadata": {
    "collapsed": true
   },
   "outputs": [],
   "source": [
    "def plot_peaks(peaks,log=False):\n",
    "    plt.figure()\n",
    "    for p in peaks:\n",
    "        if log:\n",
    "            plt.semilogy([p.mass,p.mass],[0,p.intensity],'r')\n",
    "        else:\n",
    "            plt.plot([p.mass,p.mass],[0,p.intensity],'r')"
   ]
  },
  {
   "cell_type": "markdown",
   "metadata": {},
   "source": [
    "Find the hits in the data - plot the predicted v actual rt for sanity checking"
   ]
  },
  {
   "cell_type": "code",
   "execution_count": 166,
   "metadata": {
    "collapsed": false
   },
   "outputs": [
    {
     "name": "stdout",
     "output_type": "stream",
     "text": [
      "{L-Phenylalanine (165.078978603,585.6): <corr_cluster.Peak object at 0x109a4db90>, 4-Aminobenzoate (137.047678474,634.2): <corr_cluster.Peak object at 0x109a0b510>, N-Acetyl-D-glucosamine (221.08993722,685.2): <corr_cluster.Peak object at 0x109a11410>, riboflavin (376.138284396,492.6): <corr_cluster.Peak object at 0x1099c4910>, Imidazole-4-acetate (126.042927448,675.6): <corr_cluster.Peak object at 0x109a53dd0>, Phenylhydrazine (108.068748268,306.0): <corr_cluster.Peak object at 0x109961a90>, Pyridoxine (169.073893225,454.8): <corr_cluster.Peak object at 0x109a16710>, L-Methionine (149.051049293,667.8): <corr_cluster.Peak object at 0x109a48610>, L-Threonine (119.058243161,846.6): <corr_cluster.Peak object at 0x109a53790>, Nicotinate (123.03202841,430.8): <corr_cluster.Peak object at 0x1099d4c10>, Creatinine (113.058911863,563.4): <corr_cluster.Peak object at 0x109aab9d0>, D-Glucosamine (179.079372534,882.6): <corr_cluster.Peak object at 0x109a42f50>, Selenomethionine (117.078978603,660.6): <corr_cluster.Peak object at 0x109aabd90>, Adenine (135.054495187,548.4): <corr_cluster.Peak object at 0x109ab0310>, L-Leucine (131.094628667,625.8): <corr_cluster.Peak object at 0x109a11a50>, L-Asparagine (132.053492134,898.8): <corr_cluster.Peak object at 0x109a58c90>, Glycerol (92.0473441234,538.2): <corr_cluster.Peak object at 0x1099be350>, L-Tryptophan (204.08987764,682.8): <corr_cluster.Peak object at 0x109a16410>, Cytidine (243.085520544,696.6): <corr_cluster.Peak object at 0x109a11190>, Melatonin (232.121177769,279.0): <corr_cluster.Peak object at 0x10999dbd0>, Serotonin (176.094963018,257.4): <corr_cluster.Peak object at 0x10992a050>, L-Proline (115.063328539,742.8): <corr_cluster.Peak object at 0x109aabd10>, sn-glycero-3-Phosphocholine (257.102823893,841.2): <corr_cluster.Peak object at 0x109a37510>, L-Glutamine (146.069142198,885.0): <corr_cluster.Peak object at 0x109a42690>, Inosine (268.080769517,638.4): <corr_cluster.Peak object at 0x1099fba50>}\n"
     ]
    },
    {
     "data": {
      "image/png": "[encoded data removed]",
      "text/plain": [
       "<matplotlib.figure.Figure at 0x10c239690>"
      ]
     },
     "metadata": {},
     "output_type": "display_data"
    }
   ],
   "source": [
    "hits = get_hits(coc.peaks,mols,[protonated])\n",
    "true = []\n",
    "measured = []\n",
    "for mol in hits:\n",
    "    true.append(mol.rt)\n",
    "    measured.append(hits[mol].rt)\n",
    "plt.plot(true,measured,'ro')\n",
    "print hits"
   ]
  },
  {
   "cell_type": "markdown",
   "metadata": {},
   "source": [
    "Have a look at the cluster sizes"
   ]
  },
  {
   "cell_type": "code",
   "execution_count": 167,
   "metadata": {
    "collapsed": false
   },
   "outputs": [
    {
     "name": "stdout",
     "output_type": "stream",
     "text": [
      "[('Phenylhydrazine', 26), ('Serotonin', 24), ('4-Aminobenzoate', 20), ('N-Acetyl-D-glucosamine', 20), ('Glycerol', 18), ('Selenomethionine', 15), ('L-Leucine', 10), ('Melatonin', 10), ('riboflavin', 7), ('Adenine', 7), ('L-Tryptophan', 7), ('Nicotinate', 6), ('L-Proline', 5), ('L-Glutamine', 5), ('Pyridoxine', 4), ('sn-glycero-3-Phosphocholine', 3), ('Imidazole-4-acetate', 2), ('L-Phenylalanine', 1), ('L-Methionine', 1), ('L-Threonine', 1), ('Creatinine', 1), ('D-Glucosamine', 1), ('L-Asparagine', 1), ('Cytidine', 1), ('Inosine', 1)]\n"
     ]
    }
   ],
   "source": [
    "mol_sizes = []\n",
    "for mol in hits:\n",
    "    mol_sizes.append((mol.name,coc.Z[hits[mol]].size))\n",
    "\n",
    "mol_sizes = sorted(mol_sizes,key=lambda x: x[1],reverse=True)\n",
    "print mol_sizes"
   ]
  },
  {
   "cell_type": "markdown",
   "metadata": {},
   "source": [
    "Look at an individual cluster and see what we can find"
   ]
  },
  {
   "cell_type": "code",
   "execution_count": 174,
   "metadata": {
    "collapsed": false
   },
   "outputs": [
    {
     "name": "stdout",
     "output_type": "stream",
     "text": [
      "Cluster has 7 members\n",
      "376.138284396 377.145214423 10309306.0\n"
     ]
    },
    {
     "data": {
      "text/plain": [
       "(346.13828439635995, 406.13828439635995)"
      ]
     },
     "execution_count": 174,
     "metadata": {},
     "output_type": "execute_result"
    },
    {
     "data": {
      "image/png": "[encoded data removed]",
      "text/plain": [
       "<matplotlib.figure.Figure at 0x10e77bf90>"
      ]
     },
     "metadata": {},
     "output_type": "display_data"
    },
    {
     "data": {
      "image/png": "[encoded data removed]",
      "text/plain": [
       "<matplotlib.figure.Figure at 0x10e77b650>"
      ]
     },
     "metadata": {},
     "output_type": "display_data"
    }
   ],
   "source": [
    "mi = [m for m in mols if m.name=='riboflavin'][0]\n",
    "mip = hits[mi]\n",
    "cluster = coc.Z[mip]\n",
    "print \"Cluster has {} members\".format(len(cluster.members))\n",
    "plot_peaks(cluster.members,log=False)\n",
    "plot_peaks(cluster.members,log=False)\n",
    "print mi.mass,mip.mass,mip.intensity\n",
    "plt.xlim([mi.mass-30,mi.mass+30])"
   ]
  },
  {
   "cell_type": "markdown",
   "metadata": {},
   "source": [
    "Perform the voting..."
   ]
  },
  {
   "cell_type": "code",
   "execution_count": 196,
   "metadata": {
    "collapsed": false
   },
   "outputs": [],
   "source": [
    "from voter import Voter,PeakGroup\n",
    "v = Voter(transformations)\n",
    "groups = []\n",
    "for cluster in coc.clusters:\n",
    "    groups += v.make_groups(cluster.members)"
   ]
  },
  {
   "cell_type": "code",
   "execution_count": 218,
   "metadata": {
    "collapsed": false
   },
   "outputs": [
    {
     "name": "stdout",
     "output_type": "stream",
     "text": [
      "6150 5375\n",
      "2.68431818182\n",
      "1.09715906977\n"
     ]
    }
   ],
   "source": [
    "baseline_M = []\n",
    "for p in coc.peaks:\n",
    "    baseline_M.append((protonated.transform(p),1))\n",
    "our_M = []\n",
    "for g in groups:\n",
    "    our_M.append((g.M,g.vote))\n",
    "print len(baseline_M),len(our_M)\n",
    "\n",
    "def get_M_hits(M_list,mols):\n",
    "    hits = []\n",
    "    for m in M_list:\n",
    "        for mol in mols:\n",
    "            if hit(mol.mass,m[0],0,0,mtol=10,rttol=1):\n",
    "                if not mol in [h[0] for h in hits]:\n",
    "                    hits.append((mol,m[1]))\n",
    "                \n",
    "    return hits\n",
    "base = get_M_hits(baseline_M,mols)\n",
    "our = get_M_hits(our_M,mols)\n",
    "print np.array([o[1] for o in our]).mean()\n",
    "print np.array([g.vote for g in groups]).mean()"
   ]
  },
  {
   "cell_type": "code",
   "execution_count": 193,
   "metadata": {
    "collapsed": false
   },
   "outputs": [
    {
     "name": "stdout",
     "output_type": "stream",
     "text": [
      "376.138284396\n",
      "Group 0\n",
      "376.138304899 M+H[C13] (378.148936188, 446.924346924) 1.98E+06 0.9\n",
      "376.138279889 M+Na[C13] (400.130855806, 445.691436768) 1.83E+05 0.54\n",
      "376.137965442 M+Na (399.127186522, 445.691436768) 8.79E+05 0.6\n",
      "376.137937971 M+H (377.145214423, 446.924346924) 1.03E+07 1.0\n",
      "3.04 376.137998938 [riboflavin (376.138284396,492.6)]\n",
      "Group 1\n",
      "249.043497159 M+H (250.050773611, 449.391967773) 5.39E+05 1.0\n",
      "1.0 249.043497159 []\n",
      "Group 2\n",
      "217.99302134 M+H (219.000297792, 446.924346924) 1.13E+05 1.0\n",
      "1.0 217.99302134 []\n",
      "Group 3\n",
      "106.041862713 M+H (107.049139165, 445.691436768) 3.75E+05 1.0\n",
      "1.0 106.041862713 []\n"
     ]
    }
   ],
   "source": [
    "def get_group_hits(group,mols):\n",
    "    # Currently ignores RT\n",
    "    avgM = 0.0\n",
    "    for p in group.members:\n",
    "        avgM += p[2]\n",
    "    avgM /= len(group.members)\n",
    "    hits = []\n",
    "    for mol in mols:\n",
    "        if hit(avgM,mol.mass,0,0,mtol=10,rttol=1):\n",
    "            hits.append(mol)\n",
    "    return hits\n",
    "\n",
    "print mi.mass\n",
    "for i,g in enumerate(groups):\n",
    "    print \"Group {}\".format(i)\n",
    "    total_vote = 0.0\n",
    "    pe = []\n",
    "    for m in g.members:\n",
    "        pe.append(m[0])\n",
    "        print m[2],m[1],m[0],'%.2E' % m[0].intensity,m[1].vote\n",
    "    print g.vote,g.M,[h for h in get_group_hits(g,mols)]"
   ]
  },
  {
   "cell_type": "code",
   "execution_count": 151,
   "metadata": {
    "collapsed": false
   },
   "outputs": [
    {
     "name": "stdout",
     "output_type": "stream",
     "text": [
      "('Glycine', 75.03202841014, 923.4000000000001)\n",
      "('Putrescine', 88.10004839616, 1176.6)\n",
      "('beta-Alanine', 89.04767847442, 901.1999999999999)\n",
      "('Glycerol', 92.04734412342, 538.2)\n",
      "('L-Serine', 105.04259309652, 931.1999999999999)\n",
      "('Phenylhydrazine', 108.0687482676, 306.0)\n",
      "('Creatinine', 113.0589118628, 563.4000000000001)\n",
      "('L-Proline', 115.06332853869999, 742.8000000000001)\n",
      "('Selenomethionine', 117.07897860297999, 660.6)\n",
      "('L-Valine', 117.07897860297999, 725.4)\n",
      "('L-2_4-Diaminobutanoate', 118.07422757608, 1187.3999999999999)\n",
      "('L-Threonine', 119.0582431608, 846.5999999999999)\n",
      "('Nicotinate', 123.03202841013999, 430.79999999999995)\n",
      "('Taurine', 125.01466378651999, 886.1999999999999)\n",
      "('Imidazole-4-acetate', 126.04292744752, 675.6)\n",
      "('trans-4-Hydroxy-L-proline', 131.0582431608, 849.0)\n",
      "('L-Leucine', 131.09462866726, 625.8)\n",
      "('L-Asparagine', 132.0534921339, 898.8000000000001)\n",
      "('L-Aspartate', 133.03750771862, 891.0)\n",
      "('Adenine', 135.0544951869, 548.4000000000001)\n",
      "('4-Aminobenzoate', 137.04767847442, 634.2)\n",
      "('Ethanolamine phosphate', 141.01909426276, 936.0)\n",
      "('L-Glutamine', 146.06914219817997, 885.0)\n",
      "('L-Lysine', 146.10552770464, 1471.8000000000002)\n",
      "('L-Methionine', 149.05104929298, 667.8000000000001)\n",
      "('Guanine', 151.049409809, 725.4)\n",
      "('2-Phenylglycine', 151.0633285387, 649.2)\n",
      "('L-Histidine', 155.06947654918, 857.4)\n",
      "('L-Phenylalanine', 165.07897860298, 585.6)\n",
      "('Pyridoxine', 169.07389322507998, 454.8)\n",
      "('L-Arginine', 174.11167571512, 1554.6)\n",
      "('L-Citrulline', 175.09569129983998, 938.4000000000001)\n",
      "('Serotonin', 176.09496301826, 257.4)\n",
      "('D-Glucosamine', 179.07937253356002, 882.6)\n",
      "('1-Naphthylacetic acid', 186.0680795656, 250.79999999999998)\n",
      "('N2-Acetyl-L-lysine', 188.11609239101998, 873.6)\n",
      "('meso-2_6-Diaminoheptanedioate', 190.09535694884, 1082.3999999999999)\n",
      "('L-Tryptophan', 204.08987764036, 682.8000000000001)\n",
      "('N-Acetyl-D-glucosamine', 221.08993721994, 685.2)\n",
      "('Melatonin', 232.12117776891998, 279.0)\n",
      "('L-Cystine', 240.02384826455997, 958.2)\n",
      "('Cytidine', 243.08552054404004, 696.5999999999999)\n",
      "('sn-glycero-3-Phosphocholine', 257.10282389264, 841.1999999999999)\n",
      "('Thiamin', 264.1044818473, 1249.8)\n",
      "('Inosine', 268.08076951713997, 638.4000000000001)\n",
      "('dGMP', 347.06308434286, 925.8)\n",
      "('riboflavin', 376.13828439635995, 492.6)\n"
     ]
    }
   ],
   "source": [
    "for m in mols:\n",
    "    print (m.name,m.mass,m.rt)"
   ]
  },
  {
   "cell_type": "markdown",
   "metadata": {},
   "source": [
    "Some redundant cells - probably to be chopped"
   ]
  },
  {
   "cell_type": "code",
   "execution_count": 195,
   "metadata": {
    "collapsed": false
   },
   "outputs": [
    {
     "name": "stdout",
     "output_type": "stream",
     "text": [
      "[1, 2, 3, 4, 5, 6]\n"
     ]
    }
   ],
   "source": [
    "a = [1,2,3]\n",
    "b = [4,5,6]\n",
    "print a+b"
   ]
  },
  {
   "cell_type": "code",
   "execution_count": null,
   "metadata": {
    "collapsed": true
   },
   "outputs": [],
   "source": []
  }
 ],
 "metadata": {
  "kernelspec": {
   "display_name": "Python 2",
   "language": "python",
   "name": "python2"
  },
  "language_info": {
   "codemirror_mode": {
    "name": "ipython",
    "version": 2
   },
   "file_extension": ".py",
   "mimetype": "text/x-python",
   "name": "python",
   "nbconvert_exporter": "python",
   "pygments_lexer": "ipython2",
   "version": "2.7.11"
  }
 },
 "nbformat": 4,
 "nbformat_minor": 0
}
