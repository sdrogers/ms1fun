{
 "cells": [
  {
   "cell_type": "code",
   "execution_count": 1,
   "metadata": {
    "collapsed": false
   },
   "outputs": [
    {
     "name": "stdout",
     "output_type": "stream",
     "text": [
      "\n",
      "Loading transformations from:\n",
      "/home/simonas/Dropbox/University/Project/Coding/ms1fun/dbs/pos_transformations_camra.yml...\n",
      "\n",
      "Charge Probabilities\n",
      "+K: 0.200\n",
      "+2H: 0.100\n",
      "+H: 0.500\n",
      "+Na: 0.200\n",
      "\n",
      "Adduct Probabilities\n",
      "-CO: 0.071\n",
      "+CH2O2: 0.071\n",
      "none: 0.357\n",
      "+ACN: 0.071\n",
      "-C2H2: 0.071\n",
      "-CH2O2: 0.071\n",
      "+CH3OH: 0.071\n",
      "-NH3: 0.071\n",
      "-H2O: 0.071\n",
      "+NH3: 0.071\n",
      "\n",
      "Isotope Probabilities\n",
      "C13: 0.154\n",
      "mono: 0.769\n",
      "2C13: 0.077\n",
      "\n",
      "Multiplicity Probabilities\n",
      "1: 0.909\n",
      "2: 0.091\n",
      "\n",
      "Loaded 150 transformations.\n"
     ]
    }
   ],
   "source": [
    "import sys, os, time\n",
    "from sv_algorithm import Algorithm\n",
    "sys.path.insert(0, os.path.normpath(os.getcwd() + os.sep + os.pardir) + '/code/')\n",
    "import transformation\n",
    "\n",
    "# The path where data files live: currently, it is in grandparent_folder/data/<file>.csv\n",
    "# Or in other words, to navigate from the folder where the code is in: >>> cd ../../data.\n",
    "# In theory, should work on Unix/Windows, as long as files are in the right folders.\n",
    "data_dir = os.path.normpath(os.getcwd() + os.sep + os.pardir + os.sep + os.pardir) + '/data/'\n",
    "data_file = 'Urine_37_fullscan1_POS.csv'\n",
    "file_path = data_dir + data_file\n",
    "\n",
    "# Path where transformation files live\n",
    "transformation_folder = os.path.normpath(os.getcwd() + os.sep + os.pardir) + '/dbs/'\n",
    "transformation_file = 'pos_transformations_camra.yml'\n",
    "transformation_path = transformation_folder + transformation_file\n",
    "\n",
    "print (\"\\nLoading transformations from:\\n\" + transformation_path + \"...\\n\")\n",
    "transformations = transformation.load_from_file(transformation_path)\n",
    "print (\"\\nLoaded \" + str(len(transformations)) + \" transformations.\")"
   ]
  },
  {
   "cell_type": "code",
   "execution_count": 2,
   "metadata": {
    "collapsed": false
   },
   "outputs": [
    {
     "name": "stdout",
     "output_type": "stream",
     "text": [
      "\n",
      "Creating peaks from a file at: \n",
      "/home/simonas/Dropbox/University/Project/Coding/data/Urine_37_fullscan1_POS.csv...\n",
      "\n",
      "7733 peaks loaded!\n"
     ]
    }
   ],
   "source": [
    "# Initialises an object that loads peaks from a file and gives the RT threshold in seconds\n",
    "cluster = Algorithm(file_path, transformations, rt_thresh=2, tolerance=10)"
   ]
  },
  {
   "cell_type": "code",
   "execution_count": 4,
   "metadata": {
    "collapsed": false
   },
   "outputs": [
    {
     "name": "stdout",
     "output_type": "stream",
     "text": [
      "Processing...\n",
      "\n",
      "Data processing time: 238.002119\n"
     ]
    }
   ],
   "source": [
    "# Taking most intense peak, figuring out the groups around it (within given RT window)\n",
    "print (\"Processing...\")\n",
    "start_time = time.clock()\n",
    "groups = cluster.heavylifting()\n",
    "end_time = time.clock()\n",
    "print (\"\\nData processing time: \" + str(end_time-start_time))"
   ]
  },
  {
   "cell_type": "code",
   "execution_count": 5,
   "metadata": {
    "collapsed": false
   },
   "outputs": [
    {
     "name": "stdout",
     "output_type": "stream",
     "text": [
      "Output file has been prepared! Total execution time: 238.118475\n",
      "Total groups found: 5646\n"
     ]
    }
   ],
   "source": [
    "# Write out the results to a file\n",
    "groups = sorted(groups, key=lambda x: x.vote, reverse=True)  # top voted at the top\n",
    "output_dir = os.path.normpath(os.getcwd() + os.sep + os.pardir + os.sep + os.pardir) + '/output/'\n",
    "output_file = 'Urine_37_fullscan1_POS_by_vote.txt'\n",
    "output_path = output_dir + output_file\n",
    "\n",
    "with open(output_path, 'w') as f:\n",
    "    for group in groups:\n",
    "        line = \"vote: {}, M: {}\\n\".format(group.vote, group.mass)\n",
    "        f.write(line)\n",
    "        line = '\\tPeak m/z,Peak rt,Peak intensity,transformation (transformed mass,vote)\\n'\n",
    "        f.write(line)\n",
    "        # members = (peak, transformation, transformed_mass); x[1] = transformation\n",
    "        for (peak, transformation, transformed_mass) in sorted(group.members, key=lambda x: x[1].vote, reverse=True):\n",
    "            line = \"\\t{:.4f},{:.4f},{:.2e},{} ({:.4f},{:.4f})\\n\".format(peak.mass, peak.rt, peak.intensity,\n",
    "                    transformation, transformed_mass, transformation.vote)\n",
    "            f.write(line)\n",
    "        f.write('\\n')\n",
    "\n",
    "print_time = time.clock()\n",
    "print (\"Output file has been prepared! Total execution time: \" + str(print_time-start_time))\n",
    "print (\"Total groups found: \" + str(len(groups)))"
   ]
  }
 ],
 "metadata": {
  "kernelspec": {
   "display_name": "Python 2",
   "language": "python",
   "name": "python2"
  },
  "language_info": {
   "codemirror_mode": {
    "name": "ipython",
    "version": 2
   },
   "file_extension": ".py",
   "mimetype": "text/x-python",
   "name": "python",
   "nbconvert_exporter": "python",
   "pygments_lexer": "ipython2",
   "version": "2.7.11+"
  }
 },
 "nbformat": 4,
 "nbformat_minor": 0
}
